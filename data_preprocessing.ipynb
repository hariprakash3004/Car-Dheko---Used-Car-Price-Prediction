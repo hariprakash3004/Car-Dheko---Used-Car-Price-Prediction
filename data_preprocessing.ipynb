{
 "cells": [
  {
   "cell_type": "code",
   "execution_count": 3,
   "metadata": {},
   "outputs": [
    {
     "name": "stdout",
     "output_type": "stream",
     "text": [
      "Defaulting to user installation because normal site-packages is not writeable\n",
      "Collecting openpyxl\n",
      "  Downloading openpyxl-3.1.5-py2.py3-none-any.whl.metadata (2.5 kB)\n",
      "Collecting et-xmlfile (from openpyxl)\n",
      "  Downloading et_xmlfile-1.1.0-py3-none-any.whl.metadata (1.8 kB)\n",
      "Downloading openpyxl-3.1.5-py2.py3-none-any.whl (250 kB)\n",
      "   ---------------------------------------- 0.0/250.9 kB ? eta -:--:--\n",
      "   ----------- ---------------------------- 71.7/250.9 kB 1.3 MB/s eta 0:00:01\n",
      "   ------------------------ --------------- 153.6/250.9 kB 1.5 MB/s eta 0:00:01\n",
      "   ---------------------------------------  245.8/250.9 kB 1.9 MB/s eta 0:00:01\n",
      "   ---------------------------------------- 250.9/250.9 kB 1.5 MB/s eta 0:00:00\n",
      "Downloading et_xmlfile-1.1.0-py3-none-any.whl (4.7 kB)\n",
      "Installing collected packages: et-xmlfile, openpyxl\n",
      "Successfully installed et-xmlfile-1.1.0 openpyxl-3.1.5\n"
     ]
    },
    {
     "name": "stderr",
     "output_type": "stream",
     "text": [
      "\n",
      "[notice] A new release of pip is available: 24.0 -> 24.2\n",
      "[notice] To update, run: python.exe -m pip install --upgrade pip\n"
     ]
    }
   ],
   "source": [
    "!pip install openpyxl\n"
   ]
  },
  {
   "cell_type": "code",
   "execution_count": 1,
   "metadata": {},
   "outputs": [],
   "source": [
    "import pandas as pd\n",
    "import os\n",
    "import ast"
   ]
  },
  {
   "cell_type": "code",
   "execution_count": 2,
   "metadata": {},
   "outputs": [
    {
     "name": "stdout",
     "output_type": "stream",
     "text": [
      "Files merged successfully. Output saved as 'merged_cars_data.xlsx'\n",
      "DataFrame saved as 'merged_data.xlsx'\n"
     ]
    }
   ],
   "source": [
    "# List of file names\n",
    "path = \"C:/Users/SAM/Desktop/used car price prediction/dataset/\"\n",
    "file_names = ['bangalore_cars.xlsx', 'chennai_cars.xlsx', 'delhi_cars.xlsx',\n",
    "              'hyderabad_cars.xlsx', 'jaipur_cars.xlsx', 'kolkata_cars.xlsx']\n",
    "dfs = []\n",
    "\n",
    "for file in file_names:\n",
    "    df = pd.read_excel(f\"{path}{file}\")\n",
    "    state = file.split('_')[0]\n",
    "    df['city'] = state\n",
    "   \n",
    "    dfs.append(df)\n",
    " \n",
    "merged_df = pd.concat(dfs, ignore_index=True)\n",
    " \n",
    "# merged_df.to_excel('merged_cars_data.xlsx', index=False)\n",
    " \n",
    "print(\"Files merged successfully. Output saved as 'merged_cars_data.xlsx'\")\n",
    "\n",
    "# Save the DataFrame to a excel file\n",
    "merged_df.to_excel('merged_data.xlsx', index=False)\n",
    "\n",
    "print(\"DataFrame saved as 'merged_data.xlsx'\")"
   ]
  },
  {
   "cell_type": "code",
   "execution_count": 5,
   "metadata": {},
   "outputs": [
    {
     "data": {
      "text/html": [
       "<div>\n",
       "<style scoped>\n",
       "    .dataframe tbody tr th:only-of-type {\n",
       "        vertical-align: middle;\n",
       "    }\n",
       "\n",
       "    .dataframe tbody tr th {\n",
       "        vertical-align: top;\n",
       "    }\n",
       "\n",
       "    .dataframe thead th {\n",
       "        text-align: right;\n",
       "    }\n",
       "</style>\n",
       "<table border=\"1\" class=\"dataframe\">\n",
       "  <thead>\n",
       "    <tr style=\"text-align: right;\">\n",
       "      <th></th>\n",
       "      <th>new_car_detail</th>\n",
       "      <th>new_car_overview</th>\n",
       "      <th>new_car_feature</th>\n",
       "      <th>new_car_specs</th>\n",
       "      <th>car_links</th>\n",
       "      <th>city</th>\n",
       "    </tr>\n",
       "  </thead>\n",
       "  <tbody>\n",
       "    <tr>\n",
       "      <th>0</th>\n",
       "      <td>{'it': 0, 'ft': 'Petrol', 'bt': 'Hatchback', '...</td>\n",
       "      <td>{'heading': 'Car overview', 'top': [{'key': 'R...</td>\n",
       "      <td>{'heading': 'Features', 'top': [{'value': 'Pow...</td>\n",
       "      <td>{'heading': 'Specifications', 'top': [{'key': ...</td>\n",
       "      <td>https://www.cardekho.com/used-car-details/used...</td>\n",
       "      <td>bangalore</td>\n",
       "    </tr>\n",
       "    <tr>\n",
       "      <th>1</th>\n",
       "      <td>{'it': 0, 'ft': 'Petrol', 'bt': 'SUV', 'km': '...</td>\n",
       "      <td>{'heading': 'Car overview', 'top': [{'key': 'R...</td>\n",
       "      <td>{'heading': 'Features', 'top': [{'value': 'Pow...</td>\n",
       "      <td>{'heading': 'Specifications', 'top': [{'key': ...</td>\n",
       "      <td>https://www.cardekho.com/buy-used-car-details/...</td>\n",
       "      <td>bangalore</td>\n",
       "    </tr>\n",
       "    <tr>\n",
       "      <th>2</th>\n",
       "      <td>{'it': 0, 'ft': 'Petrol', 'bt': 'Hatchback', '...</td>\n",
       "      <td>{'heading': 'Car overview', 'top': [{'key': 'R...</td>\n",
       "      <td>{'heading': 'Features', 'top': [{'value': 'Pow...</td>\n",
       "      <td>{'heading': 'Specifications', 'top': [{'key': ...</td>\n",
       "      <td>https://www.cardekho.com/used-car-details/used...</td>\n",
       "      <td>bangalore</td>\n",
       "    </tr>\n",
       "    <tr>\n",
       "      <th>3</th>\n",
       "      <td>{'it': 0, 'ft': 'Petrol', 'bt': 'Sedan', 'km':...</td>\n",
       "      <td>{'heading': 'Car overview', 'top': [{'key': 'R...</td>\n",
       "      <td>{'heading': 'Features', 'top': [{'value': 'Pow...</td>\n",
       "      <td>{'heading': 'Specifications', 'top': [{'key': ...</td>\n",
       "      <td>https://www.cardekho.com/buy-used-car-details/...</td>\n",
       "      <td>bangalore</td>\n",
       "    </tr>\n",
       "    <tr>\n",
       "      <th>4</th>\n",
       "      <td>{'it': 0, 'ft': 'Diesel', 'bt': 'SUV', 'km': '...</td>\n",
       "      <td>{'heading': 'Car overview', 'top': [{'key': 'R...</td>\n",
       "      <td>{'heading': 'Features', 'top': [{'value': 'Pow...</td>\n",
       "      <td>{'heading': 'Specifications', 'top': [{'key': ...</td>\n",
       "      <td>https://www.cardekho.com/used-car-details/used...</td>\n",
       "      <td>bangalore</td>\n",
       "    </tr>\n",
       "    <tr>\n",
       "      <th>...</th>\n",
       "      <td>...</td>\n",
       "      <td>...</td>\n",
       "      <td>...</td>\n",
       "      <td>...</td>\n",
       "      <td>...</td>\n",
       "      <td>...</td>\n",
       "    </tr>\n",
       "    <tr>\n",
       "      <th>8364</th>\n",
       "      <td>{'it': 0, 'ft': 'Petrol', 'bt': 'Hatchback', '...</td>\n",
       "      <td>{'heading': 'Car overview', 'top': [{'key': 'R...</td>\n",
       "      <td>{'heading': 'Features', 'top': [{'value': 'Pow...</td>\n",
       "      <td>{'heading': 'Specifications', 'top': [{'key': ...</td>\n",
       "      <td>https://www.cardekho.com/used-car-details/used...</td>\n",
       "      <td>kolkata</td>\n",
       "    </tr>\n",
       "    <tr>\n",
       "      <th>8365</th>\n",
       "      <td>{'it': 0, 'ft': 'Petrol', 'bt': 'Hatchback', '...</td>\n",
       "      <td>{'heading': 'Car overview', 'top': [{'key': 'R...</td>\n",
       "      <td>{'heading': 'Features', 'top': [{'value': 'Pow...</td>\n",
       "      <td>{'heading': 'Specifications', 'top': [{'key': ...</td>\n",
       "      <td>https://www.cardekho.com/used-car-details/used...</td>\n",
       "      <td>kolkata</td>\n",
       "    </tr>\n",
       "    <tr>\n",
       "      <th>8366</th>\n",
       "      <td>{'it': 0, 'ft': 'Petrol', 'bt': 'Sedan', 'km':...</td>\n",
       "      <td>{'heading': 'Car overview', 'top': [{'key': 'R...</td>\n",
       "      <td>{'heading': 'Features', 'top': [{'value': 'Pow...</td>\n",
       "      <td>{'heading': 'Specifications', 'top': [{'key': ...</td>\n",
       "      <td>https://www.cardekho.com/used-car-details/used...</td>\n",
       "      <td>kolkata</td>\n",
       "    </tr>\n",
       "    <tr>\n",
       "      <th>8367</th>\n",
       "      <td>{'it': 0, 'ft': 'Petrol', 'bt': 'Hatchback', '...</td>\n",
       "      <td>{'heading': 'Car overview', 'top': [{'key': 'R...</td>\n",
       "      <td>{'heading': 'Features', 'top': [{'value': 'Pow...</td>\n",
       "      <td>{'heading': 'Specifications', 'top': [{'key': ...</td>\n",
       "      <td>https://www.cardekho.com/used-car-details/used...</td>\n",
       "      <td>kolkata</td>\n",
       "    </tr>\n",
       "    <tr>\n",
       "      <th>8368</th>\n",
       "      <td>{'it': 0, 'ft': 'Diesel', 'bt': 'SUV', 'km': '...</td>\n",
       "      <td>{'heading': 'Car overview', 'top': [{'key': 'R...</td>\n",
       "      <td>{'heading': 'Features', 'top': [{'value': 'Pow...</td>\n",
       "      <td>{'heading': 'Specifications', 'top': [{'key': ...</td>\n",
       "      <td>https://www.cardekho.com/used-car-details/used...</td>\n",
       "      <td>kolkata</td>\n",
       "    </tr>\n",
       "  </tbody>\n",
       "</table>\n",
       "<p>8369 rows × 6 columns</p>\n",
       "</div>"
      ],
      "text/plain": [
       "                                         new_car_detail  \\\n",
       "0     {'it': 0, 'ft': 'Petrol', 'bt': 'Hatchback', '...   \n",
       "1     {'it': 0, 'ft': 'Petrol', 'bt': 'SUV', 'km': '...   \n",
       "2     {'it': 0, 'ft': 'Petrol', 'bt': 'Hatchback', '...   \n",
       "3     {'it': 0, 'ft': 'Petrol', 'bt': 'Sedan', 'km':...   \n",
       "4     {'it': 0, 'ft': 'Diesel', 'bt': 'SUV', 'km': '...   \n",
       "...                                                 ...   \n",
       "8364  {'it': 0, 'ft': 'Petrol', 'bt': 'Hatchback', '...   \n",
       "8365  {'it': 0, 'ft': 'Petrol', 'bt': 'Hatchback', '...   \n",
       "8366  {'it': 0, 'ft': 'Petrol', 'bt': 'Sedan', 'km':...   \n",
       "8367  {'it': 0, 'ft': 'Petrol', 'bt': 'Hatchback', '...   \n",
       "8368  {'it': 0, 'ft': 'Diesel', 'bt': 'SUV', 'km': '...   \n",
       "\n",
       "                                       new_car_overview  \\\n",
       "0     {'heading': 'Car overview', 'top': [{'key': 'R...   \n",
       "1     {'heading': 'Car overview', 'top': [{'key': 'R...   \n",
       "2     {'heading': 'Car overview', 'top': [{'key': 'R...   \n",
       "3     {'heading': 'Car overview', 'top': [{'key': 'R...   \n",
       "4     {'heading': 'Car overview', 'top': [{'key': 'R...   \n",
       "...                                                 ...   \n",
       "8364  {'heading': 'Car overview', 'top': [{'key': 'R...   \n",
       "8365  {'heading': 'Car overview', 'top': [{'key': 'R...   \n",
       "8366  {'heading': 'Car overview', 'top': [{'key': 'R...   \n",
       "8367  {'heading': 'Car overview', 'top': [{'key': 'R...   \n",
       "8368  {'heading': 'Car overview', 'top': [{'key': 'R...   \n",
       "\n",
       "                                        new_car_feature  \\\n",
       "0     {'heading': 'Features', 'top': [{'value': 'Pow...   \n",
       "1     {'heading': 'Features', 'top': [{'value': 'Pow...   \n",
       "2     {'heading': 'Features', 'top': [{'value': 'Pow...   \n",
       "3     {'heading': 'Features', 'top': [{'value': 'Pow...   \n",
       "4     {'heading': 'Features', 'top': [{'value': 'Pow...   \n",
       "...                                                 ...   \n",
       "8364  {'heading': 'Features', 'top': [{'value': 'Pow...   \n",
       "8365  {'heading': 'Features', 'top': [{'value': 'Pow...   \n",
       "8366  {'heading': 'Features', 'top': [{'value': 'Pow...   \n",
       "8367  {'heading': 'Features', 'top': [{'value': 'Pow...   \n",
       "8368  {'heading': 'Features', 'top': [{'value': 'Pow...   \n",
       "\n",
       "                                          new_car_specs  \\\n",
       "0     {'heading': 'Specifications', 'top': [{'key': ...   \n",
       "1     {'heading': 'Specifications', 'top': [{'key': ...   \n",
       "2     {'heading': 'Specifications', 'top': [{'key': ...   \n",
       "3     {'heading': 'Specifications', 'top': [{'key': ...   \n",
       "4     {'heading': 'Specifications', 'top': [{'key': ...   \n",
       "...                                                 ...   \n",
       "8364  {'heading': 'Specifications', 'top': [{'key': ...   \n",
       "8365  {'heading': 'Specifications', 'top': [{'key': ...   \n",
       "8366  {'heading': 'Specifications', 'top': [{'key': ...   \n",
       "8367  {'heading': 'Specifications', 'top': [{'key': ...   \n",
       "8368  {'heading': 'Specifications', 'top': [{'key': ...   \n",
       "\n",
       "                                              car_links       city  \n",
       "0     https://www.cardekho.com/used-car-details/used...  bangalore  \n",
       "1     https://www.cardekho.com/buy-used-car-details/...  bangalore  \n",
       "2     https://www.cardekho.com/used-car-details/used...  bangalore  \n",
       "3     https://www.cardekho.com/buy-used-car-details/...  bangalore  \n",
       "4     https://www.cardekho.com/used-car-details/used...  bangalore  \n",
       "...                                                 ...        ...  \n",
       "8364  https://www.cardekho.com/used-car-details/used...    kolkata  \n",
       "8365  https://www.cardekho.com/used-car-details/used...    kolkata  \n",
       "8366  https://www.cardekho.com/used-car-details/used...    kolkata  \n",
       "8367  https://www.cardekho.com/used-car-details/used...    kolkata  \n",
       "8368  https://www.cardekho.com/used-car-details/used...    kolkata  \n",
       "\n",
       "[8369 rows x 6 columns]"
      ]
     },
     "execution_count": 5,
     "metadata": {},
     "output_type": "execute_result"
    }
   ],
   "source": [
    "merged_df"
   ]
  },
  {
   "cell_type": "code",
   "execution_count": 3,
   "metadata": {},
   "outputs": [
    {
     "data": {
      "text/html": [
       "<div>\n",
       "<style scoped>\n",
       "    .dataframe tbody tr th:only-of-type {\n",
       "        vertical-align: middle;\n",
       "    }\n",
       "\n",
       "    .dataframe tbody tr th {\n",
       "        vertical-align: top;\n",
       "    }\n",
       "\n",
       "    .dataframe thead th {\n",
       "        text-align: right;\n",
       "    }\n",
       "</style>\n",
       "<table border=\"1\" class=\"dataframe\">\n",
       "  <thead>\n",
       "    <tr style=\"text-align: right;\">\n",
       "      <th></th>\n",
       "      <th>it</th>\n",
       "      <th>ft</th>\n",
       "      <th>bt</th>\n",
       "      <th>km</th>\n",
       "      <th>transmission</th>\n",
       "      <th>ownerNo</th>\n",
       "      <th>owner</th>\n",
       "      <th>oem</th>\n",
       "      <th>model</th>\n",
       "      <th>modelYear</th>\n",
       "      <th>centralVariantId</th>\n",
       "      <th>variantName</th>\n",
       "      <th>price</th>\n",
       "      <th>priceActual</th>\n",
       "      <th>priceSaving</th>\n",
       "      <th>priceFixedText</th>\n",
       "      <th>trendingText</th>\n",
       "    </tr>\n",
       "  </thead>\n",
       "  <tbody>\n",
       "    <tr>\n",
       "      <th>0</th>\n",
       "      <td>0</td>\n",
       "      <td>Petrol</td>\n",
       "      <td>Hatchback</td>\n",
       "      <td>1,20,000</td>\n",
       "      <td>Manual</td>\n",
       "      <td>3</td>\n",
       "      <td>3rd Owner</td>\n",
       "      <td>Maruti</td>\n",
       "      <td>Maruti Celerio</td>\n",
       "      <td>2015</td>\n",
       "      <td>3979</td>\n",
       "      <td>VXI</td>\n",
       "      <td>₹ 4 Lakh</td>\n",
       "      <td></td>\n",
       "      <td></td>\n",
       "      <td>None</td>\n",
       "      <td>{'imgUrl': 'https://stimg.cardekho.com/used-ca...</td>\n",
       "    </tr>\n",
       "    <tr>\n",
       "      <th>1</th>\n",
       "      <td>0</td>\n",
       "      <td>Petrol</td>\n",
       "      <td>SUV</td>\n",
       "      <td>32,706</td>\n",
       "      <td>Manual</td>\n",
       "      <td>2</td>\n",
       "      <td>2nd Owner</td>\n",
       "      <td>Ford</td>\n",
       "      <td>Ford Ecosport</td>\n",
       "      <td>2018</td>\n",
       "      <td>6087</td>\n",
       "      <td>1.5 Petrol Titanium BSIV</td>\n",
       "      <td>₹ 8.11 Lakh</td>\n",
       "      <td></td>\n",
       "      <td></td>\n",
       "      <td>None</td>\n",
       "      <td>{'imgUrl': 'https://stimg.cardekho.com/used-ca...</td>\n",
       "    </tr>\n",
       "    <tr>\n",
       "      <th>2</th>\n",
       "      <td>0</td>\n",
       "      <td>Petrol</td>\n",
       "      <td>Hatchback</td>\n",
       "      <td>11,949</td>\n",
       "      <td>Manual</td>\n",
       "      <td>1</td>\n",
       "      <td>1st Owner</td>\n",
       "      <td>Tata</td>\n",
       "      <td>Tata Tiago</td>\n",
       "      <td>2018</td>\n",
       "      <td>2983</td>\n",
       "      <td>1.2 Revotron XZ</td>\n",
       "      <td>₹ 5.85 Lakh</td>\n",
       "      <td></td>\n",
       "      <td></td>\n",
       "      <td>None</td>\n",
       "      <td>{'imgUrl': 'https://stimg.cardekho.com/used-ca...</td>\n",
       "    </tr>\n",
       "    <tr>\n",
       "      <th>3</th>\n",
       "      <td>0</td>\n",
       "      <td>Petrol</td>\n",
       "      <td>Sedan</td>\n",
       "      <td>17,794</td>\n",
       "      <td>Manual</td>\n",
       "      <td>1</td>\n",
       "      <td>1st Owner</td>\n",
       "      <td>Hyundai</td>\n",
       "      <td>Hyundai Xcent</td>\n",
       "      <td>2014</td>\n",
       "      <td>1867</td>\n",
       "      <td>1.2 Kappa S Option</td>\n",
       "      <td>₹ 4.62 Lakh</td>\n",
       "      <td></td>\n",
       "      <td></td>\n",
       "      <td>None</td>\n",
       "      <td>{'imgUrl': 'https://stimg.cardekho.com/used-ca...</td>\n",
       "    </tr>\n",
       "    <tr>\n",
       "      <th>4</th>\n",
       "      <td>0</td>\n",
       "      <td>Diesel</td>\n",
       "      <td>SUV</td>\n",
       "      <td>60,000</td>\n",
       "      <td>Manual</td>\n",
       "      <td>1</td>\n",
       "      <td>1st Owner</td>\n",
       "      <td>Maruti</td>\n",
       "      <td>Maruti SX4 S Cross</td>\n",
       "      <td>2015</td>\n",
       "      <td>4277</td>\n",
       "      <td>DDiS 200 Zeta</td>\n",
       "      <td>₹ 7.90 Lakh</td>\n",
       "      <td></td>\n",
       "      <td></td>\n",
       "      <td>None</td>\n",
       "      <td>{'imgUrl': 'https://stimg.cardekho.com/used-ca...</td>\n",
       "    </tr>\n",
       "  </tbody>\n",
       "</table>\n",
       "</div>"
      ],
      "text/plain": [
       "   it      ft         bt        km transmission  ownerNo      owner      oem  \\\n",
       "0   0  Petrol  Hatchback  1,20,000       Manual        3  3rd Owner   Maruti   \n",
       "1   0  Petrol        SUV    32,706       Manual        2  2nd Owner     Ford   \n",
       "2   0  Petrol  Hatchback    11,949       Manual        1  1st Owner     Tata   \n",
       "3   0  Petrol      Sedan    17,794       Manual        1  1st Owner  Hyundai   \n",
       "4   0  Diesel        SUV    60,000       Manual        1  1st Owner   Maruti   \n",
       "\n",
       "                model  modelYear  centralVariantId               variantName  \\\n",
       "0      Maruti Celerio       2015              3979                       VXI   \n",
       "1       Ford Ecosport       2018              6087  1.5 Petrol Titanium BSIV   \n",
       "2          Tata Tiago       2018              2983           1.2 Revotron XZ   \n",
       "3       Hyundai Xcent       2014              1867        1.2 Kappa S Option   \n",
       "4  Maruti SX4 S Cross       2015              4277             DDiS 200 Zeta   \n",
       "\n",
       "         price priceActual priceSaving priceFixedText  \\\n",
       "0     ₹ 4 Lakh                                   None   \n",
       "1  ₹ 8.11 Lakh                                   None   \n",
       "2  ₹ 5.85 Lakh                                   None   \n",
       "3  ₹ 4.62 Lakh                                   None   \n",
       "4  ₹ 7.90 Lakh                                   None   \n",
       "\n",
       "                                        trendingText  \n",
       "0  {'imgUrl': 'https://stimg.cardekho.com/used-ca...  \n",
       "1  {'imgUrl': 'https://stimg.cardekho.com/used-ca...  \n",
       "2  {'imgUrl': 'https://stimg.cardekho.com/used-ca...  \n",
       "3  {'imgUrl': 'https://stimg.cardekho.com/used-ca...  \n",
       "4  {'imgUrl': 'https://stimg.cardekho.com/used-ca...  "
      ]
     },
     "execution_count": 3,
     "metadata": {},
     "output_type": "execute_result"
    }
   ],
   "source": [
    "import pandas as pd\n",
    "import ast\n",
    "\n",
    "# Load the Excel file\n",
    "merged_df = pd.read_excel('C:/Users/SAM/Desktop/used car price prediction/merged_data.xlsx')\n",
    "\n",
    "# Convert the 'new_car_detail' column from string to dictionary using ast.literal_eval\n",
    "merged_df['new_car_detail'] = merged_df['new_car_detail'].apply(lambda x: ast.literal_eval(str(x)))\n",
    "\n",
    "# Function to extract all keys from the dictionary\n",
    "def extract_all_keys(row):\n",
    "    car_detail = row['new_car_detail']\n",
    "    \n",
    "    # Get all keys in the dictionary for that row\n",
    "    keys = car_detail.keys()\n",
    "    \n",
    "    # Extract key-value pairs using .get(), safely handling missing keys\n",
    "    return {key: car_detail.get(key) for key in keys}\n",
    "\n",
    "# Apply the function to each row and create a new DataFrame with the extracted values\n",
    "new_car_detail = merged_df.apply(extract_all_keys, axis=1, result_type='expand')\n",
    "\n",
    "# # Concatenate the original dataframe with the new columns\n",
    "#bdf = pd.concat([banglore_df, new_car_detail], axis=1)\n",
    "\n",
    "# # Display the updated dataframe\n",
    "# bdf.head()\n",
    "new_car_detail.head()"
   ]
  },
  {
   "cell_type": "code",
   "execution_count": 8,
   "metadata": {},
   "outputs": [
    {
     "name": "stdout",
     "output_type": "stream",
     "text": [
      "<class 'pandas.core.frame.DataFrame'>\n",
      "RangeIndex: 8369 entries, 0 to 8368\n",
      "Data columns (total 17 columns):\n",
      " #   Column            Non-Null Count  Dtype \n",
      "---  ------            --------------  ----- \n",
      " 0   it                8369 non-null   int64 \n",
      " 1   ft                8369 non-null   object\n",
      " 2   bt                8369 non-null   object\n",
      " 3   km                8369 non-null   object\n",
      " 4   transmission      8369 non-null   object\n",
      " 5   ownerNo           8369 non-null   int64 \n",
      " 6   owner             8369 non-null   object\n",
      " 7   oem               8369 non-null   object\n",
      " 8   model             8369 non-null   object\n",
      " 9   modelYear         8369 non-null   int64 \n",
      " 10  centralVariantId  8369 non-null   int64 \n",
      " 11  variantName       8369 non-null   object\n",
      " 12  price             8369 non-null   object\n",
      " 13  priceActual       8369 non-null   object\n",
      " 14  priceSaving       8369 non-null   object\n",
      " 15  priceFixedText    0 non-null      object\n",
      " 16  trendingText      8369 non-null   object\n",
      "dtypes: int64(4), object(13)\n",
      "memory usage: 1.1+ MB\n"
     ]
    }
   ],
   "source": [
    "new_car_detail.info()"
   ]
  },
  {
   "cell_type": "code",
   "execution_count": 4,
   "metadata": {},
   "outputs": [
    {
     "data": {
      "text/html": [
       "<div>\n",
       "<style scoped>\n",
       "    .dataframe tbody tr th:only-of-type {\n",
       "        vertical-align: middle;\n",
       "    }\n",
       "\n",
       "    .dataframe tbody tr th {\n",
       "        vertical-align: top;\n",
       "    }\n",
       "\n",
       "    .dataframe thead th {\n",
       "        text-align: right;\n",
       "    }\n",
       "</style>\n",
       "<table border=\"1\" class=\"dataframe\">\n",
       "  <thead>\n",
       "    <tr style=\"text-align: right;\">\n",
       "      <th></th>\n",
       "      <th>heading</th>\n",
       "      <th>Registration Year</th>\n",
       "      <th>Insurance Validity</th>\n",
       "      <th>Fuel Type</th>\n",
       "      <th>Seats</th>\n",
       "      <th>Kms Driven</th>\n",
       "      <th>RTO</th>\n",
       "      <th>Ownership</th>\n",
       "      <th>Engine Displacement</th>\n",
       "      <th>Transmission</th>\n",
       "      <th>Year of Manufacture</th>\n",
       "    </tr>\n",
       "  </thead>\n",
       "  <tbody>\n",
       "    <tr>\n",
       "      <th>0</th>\n",
       "      <td>Car overview</td>\n",
       "      <td>2015</td>\n",
       "      <td>Third Party insurance</td>\n",
       "      <td>Petrol</td>\n",
       "      <td>5 Seats</td>\n",
       "      <td>1,20,000 Kms</td>\n",
       "      <td>KA51</td>\n",
       "      <td>Third Owner</td>\n",
       "      <td>998 cc</td>\n",
       "      <td>Manual</td>\n",
       "      <td>2015.0</td>\n",
       "    </tr>\n",
       "    <tr>\n",
       "      <th>1</th>\n",
       "      <td>Car overview</td>\n",
       "      <td>Feb 2018</td>\n",
       "      <td>Comprehensive</td>\n",
       "      <td>Petrol</td>\n",
       "      <td>5 Seats</td>\n",
       "      <td>32,706 Kms</td>\n",
       "      <td>KA05</td>\n",
       "      <td>Second Owner</td>\n",
       "      <td>1497 cc</td>\n",
       "      <td>Manual</td>\n",
       "      <td>2018.0</td>\n",
       "    </tr>\n",
       "    <tr>\n",
       "      <th>2</th>\n",
       "      <td>Car overview</td>\n",
       "      <td>Sept 2018</td>\n",
       "      <td>Comprehensive</td>\n",
       "      <td>Petrol</td>\n",
       "      <td>5 Seats</td>\n",
       "      <td>11,949 Kms</td>\n",
       "      <td>KA03</td>\n",
       "      <td>First Owner</td>\n",
       "      <td>1199 cc</td>\n",
       "      <td>Manual</td>\n",
       "      <td>2018.0</td>\n",
       "    </tr>\n",
       "    <tr>\n",
       "      <th>3</th>\n",
       "      <td>Car overview</td>\n",
       "      <td>Dec 2014</td>\n",
       "      <td>Comprehensive</td>\n",
       "      <td>Petrol</td>\n",
       "      <td>5 Seats</td>\n",
       "      <td>17,794 Kms</td>\n",
       "      <td>KA53</td>\n",
       "      <td>First Owner</td>\n",
       "      <td>1197 cc</td>\n",
       "      <td>Manual</td>\n",
       "      <td>2014.0</td>\n",
       "    </tr>\n",
       "    <tr>\n",
       "      <th>4</th>\n",
       "      <td>Car overview</td>\n",
       "      <td>2015</td>\n",
       "      <td>Third Party insurance</td>\n",
       "      <td>Diesel</td>\n",
       "      <td>5 Seats</td>\n",
       "      <td>60,000 Kms</td>\n",
       "      <td>KA04</td>\n",
       "      <td>First Owner</td>\n",
       "      <td>1248 cc</td>\n",
       "      <td>Manual</td>\n",
       "      <td>2015.0</td>\n",
       "    </tr>\n",
       "  </tbody>\n",
       "</table>\n",
       "</div>"
      ],
      "text/plain": [
       "        heading Registration Year     Insurance Validity Fuel Type    Seats  \\\n",
       "0  Car overview              2015  Third Party insurance    Petrol  5 Seats   \n",
       "1  Car overview          Feb 2018          Comprehensive    Petrol  5 Seats   \n",
       "2  Car overview         Sept 2018          Comprehensive    Petrol  5 Seats   \n",
       "3  Car overview          Dec 2014          Comprehensive    Petrol  5 Seats   \n",
       "4  Car overview              2015  Third Party insurance    Diesel  5 Seats   \n",
       "\n",
       "     Kms Driven   RTO     Ownership Engine Displacement Transmission  \\\n",
       "0  1,20,000 Kms  KA51   Third Owner              998 cc       Manual   \n",
       "1    32,706 Kms  KA05  Second Owner             1497 cc       Manual   \n",
       "2    11,949 Kms  KA03   First Owner             1199 cc       Manual   \n",
       "3    17,794 Kms  KA53   First Owner             1197 cc       Manual   \n",
       "4    60,000 Kms  KA04   First Owner             1248 cc       Manual   \n",
       "\n",
       "   Year of Manufacture  \n",
       "0               2015.0  \n",
       "1               2018.0  \n",
       "2               2018.0  \n",
       "3               2014.0  \n",
       "4               2015.0  "
      ]
     },
     "execution_count": 4,
     "metadata": {},
     "output_type": "execute_result"
    }
   ],
   "source": [
    "import pandas as pd\n",
    "import ast\n",
    "\n",
    "# Load your Excel file\n",
    "merged_df = pd.read_excel('C:/Users/SAM/Desktop/used car price prediction/merged_data.xlsx')\n",
    "\n",
    "# Ensure the 'new_car_overview' column is in dictionary format (if stored as a string, convert it)\n",
    "merged_df['new_car_overview'] = merged_df['new_car_overview'].apply(lambda x: ast.literal_eval(str(x)) if isinstance(x, str) else x)\n",
    "\n",
    "# Initialize a list to collect the extracted data\n",
    "data_rows = []\n",
    "\n",
    "# Loop through each row in the DataFrame\n",
    "for idx, row in merged_df.iterrows():\n",
    "    # Extract the dictionary from 'new_car_overview'\n",
    "    car_overview = row['new_car_overview']\n",
    "    \n",
    "    # Extract the heading\n",
    "    heading = car_overview.get('heading', None)\n",
    "    \n",
    "    # Extract the top details (list of dictionaries)\n",
    "    top_details = car_overview.get('top', [])\n",
    "    \n",
    "    # Convert the list of dictionaries (top) into a flat dictionary\n",
    "    top_dict = {item['key']: item['value'] for item in top_details if isinstance(item, dict)}\n",
    "    \n",
    "    # Combine the heading with the top details\n",
    "    combined_data = {'heading': heading}\n",
    "    combined_data.update(top_dict)\n",
    "    \n",
    "    # Append the combined data to the list\n",
    "    data_rows.append(combined_data)\n",
    "\n",
    "# Convert the list of dictionaries into a DataFrame\n",
    "new_car_overview = pd.DataFrame(data_rows)\n",
    "\n",
    "# Display the final DataFrame\n",
    "new_car_overview.head()\n"
   ]
  },
  {
   "cell_type": "code",
   "execution_count": 10,
   "metadata": {},
   "outputs": [
    {
     "name": "stdout",
     "output_type": "stream",
     "text": [
      "<class 'pandas.core.frame.DataFrame'>\n",
      "RangeIndex: 8369 entries, 0 to 8368\n",
      "Data columns (total 11 columns):\n",
      " #   Column               Non-Null Count  Dtype  \n",
      "---  ------               --------------  -----  \n",
      " 0   heading              8369 non-null   object \n",
      " 1   Registration Year    8317 non-null   object \n",
      " 2   Insurance Validity   8365 non-null   object \n",
      " 3   Fuel Type            8369 non-null   object \n",
      " 4   Seats                8363 non-null   object \n",
      " 5   Kms Driven           8367 non-null   object \n",
      " 6   RTO                  7481 non-null   object \n",
      " 7   Ownership            8337 non-null   object \n",
      " 8   Engine Displacement  8365 non-null   object \n",
      " 9   Transmission         8369 non-null   object \n",
      " 10  Year of Manufacture  8349 non-null   float64\n",
      "dtypes: float64(1), object(10)\n",
      "memory usage: 719.3+ KB\n"
     ]
    }
   ],
   "source": [
    "new_car_overview.info()"
   ]
  },
  {
   "cell_type": "code",
   "execution_count": 5,
   "metadata": {},
   "outputs": [
    {
     "data": {
      "text/html": [
       "<div>\n",
       "<style scoped>\n",
       "    .dataframe tbody tr th:only-of-type {\n",
       "        vertical-align: middle;\n",
       "    }\n",
       "\n",
       "    .dataframe tbody tr th {\n",
       "        vertical-align: top;\n",
       "    }\n",
       "\n",
       "    .dataframe thead th {\n",
       "        text-align: right;\n",
       "    }\n",
       "</style>\n",
       "<table border=\"1\" class=\"dataframe\">\n",
       "  <thead>\n",
       "    <tr style=\"text-align: right;\">\n",
       "      <th></th>\n",
       "      <th>heading</th>\n",
       "      <th>top_features</th>\n",
       "      <th>Comfort &amp; Convenience - Comfort</th>\n",
       "      <th>Interior - Interior</th>\n",
       "      <th>Exterior - Exterior</th>\n",
       "      <th>Safety - Safety</th>\n",
       "      <th>Entertainment &amp; Communication - Entertainment</th>\n",
       "    </tr>\n",
       "  </thead>\n",
       "  <tbody>\n",
       "    <tr>\n",
       "      <th>0</th>\n",
       "      <td>Features</td>\n",
       "      <td>Power Steering, Power Windows Front, Air Condi...</td>\n",
       "      <td>Power Steering, Power Windows Front, Power Win...</td>\n",
       "      <td>Air Conditioner, Heater, Digital Odometer, Ele...</td>\n",
       "      <td>Adjustable Head Lights, Manually Adjustable Ex...</td>\n",
       "      <td>Centeral Locking, Child Safety Locks, Day Nigh...</td>\n",
       "      <td>NaN</td>\n",
       "    </tr>\n",
       "    <tr>\n",
       "      <th>1</th>\n",
       "      <td>Features</td>\n",
       "      <td>Power Steering, Power Windows Front, Air Condi...</td>\n",
       "      <td>Power Steering, Power Windows Front, Power Win...</td>\n",
       "      <td>Air Conditioner, Heater, Adjustable Steering, ...</td>\n",
       "      <td>Adjustable Head Lights, Fog Lights Front, Powe...</td>\n",
       "      <td>Anti Lock Braking System, Centeral Locking, Po...</td>\n",
       "      <td>Cd Player, Radio, Speakers Front, Speakers Rea...</td>\n",
       "    </tr>\n",
       "    <tr>\n",
       "      <th>2</th>\n",
       "      <td>Features</td>\n",
       "      <td>Power Steering, Power Windows Front, Air Condi...</td>\n",
       "      <td>Power Steering, Power Windows Front, Power Win...</td>\n",
       "      <td>Air Conditioner, Heater, Adjustable Steering, ...</td>\n",
       "      <td>Adjustable Head Lights, Fog Lights Front, Powe...</td>\n",
       "      <td>Anti Lock Braking System, Centeral Locking, Po...</td>\n",
       "      <td>Cd Player, Radio, Speakers Front, Speakers Rea...</td>\n",
       "    </tr>\n",
       "    <tr>\n",
       "      <th>3</th>\n",
       "      <td>Features</td>\n",
       "      <td>Power Steering, Power Windows Front, Air Condi...</td>\n",
       "      <td>Power Steering, Power Windows Front, Power Win...</td>\n",
       "      <td>Air Conditioner, Heater, Adjustable Steering, ...</td>\n",
       "      <td>Adjustable Head Lights, Fog Lights Front, Powe...</td>\n",
       "      <td>Anti Lock Braking System, Centeral Locking, Po...</td>\n",
       "      <td>Cd Player, Radio, Speakers Front, Speakers Rea...</td>\n",
       "    </tr>\n",
       "    <tr>\n",
       "      <th>4</th>\n",
       "      <td>Features</td>\n",
       "      <td>Power Steering, Power Windows Front, Air Condi...</td>\n",
       "      <td>Power Steering, Power Windows Front, Power Win...</td>\n",
       "      <td>Air Conditioner, Heater, Adjustable Steering, ...</td>\n",
       "      <td>Adjustable Head Lights, Fog Lights Front, Powe...</td>\n",
       "      <td>Anti Lock Braking System, Centeral Locking, Po...</td>\n",
       "      <td>Radio, Audio System Remote Control, Speakers F...</td>\n",
       "    </tr>\n",
       "  </tbody>\n",
       "</table>\n",
       "</div>"
      ],
      "text/plain": [
       "    heading                                       top_features  \\\n",
       "0  Features  Power Steering, Power Windows Front, Air Condi...   \n",
       "1  Features  Power Steering, Power Windows Front, Air Condi...   \n",
       "2  Features  Power Steering, Power Windows Front, Air Condi...   \n",
       "3  Features  Power Steering, Power Windows Front, Air Condi...   \n",
       "4  Features  Power Steering, Power Windows Front, Air Condi...   \n",
       "\n",
       "                     Comfort & Convenience - Comfort  \\\n",
       "0  Power Steering, Power Windows Front, Power Win...   \n",
       "1  Power Steering, Power Windows Front, Power Win...   \n",
       "2  Power Steering, Power Windows Front, Power Win...   \n",
       "3  Power Steering, Power Windows Front, Power Win...   \n",
       "4  Power Steering, Power Windows Front, Power Win...   \n",
       "\n",
       "                                 Interior - Interior  \\\n",
       "0  Air Conditioner, Heater, Digital Odometer, Ele...   \n",
       "1  Air Conditioner, Heater, Adjustable Steering, ...   \n",
       "2  Air Conditioner, Heater, Adjustable Steering, ...   \n",
       "3  Air Conditioner, Heater, Adjustable Steering, ...   \n",
       "4  Air Conditioner, Heater, Adjustable Steering, ...   \n",
       "\n",
       "                                 Exterior - Exterior  \\\n",
       "0  Adjustable Head Lights, Manually Adjustable Ex...   \n",
       "1  Adjustable Head Lights, Fog Lights Front, Powe...   \n",
       "2  Adjustable Head Lights, Fog Lights Front, Powe...   \n",
       "3  Adjustable Head Lights, Fog Lights Front, Powe...   \n",
       "4  Adjustable Head Lights, Fog Lights Front, Powe...   \n",
       "\n",
       "                                     Safety - Safety  \\\n",
       "0  Centeral Locking, Child Safety Locks, Day Nigh...   \n",
       "1  Anti Lock Braking System, Centeral Locking, Po...   \n",
       "2  Anti Lock Braking System, Centeral Locking, Po...   \n",
       "3  Anti Lock Braking System, Centeral Locking, Po...   \n",
       "4  Anti Lock Braking System, Centeral Locking, Po...   \n",
       "\n",
       "       Entertainment & Communication - Entertainment  \n",
       "0                                                NaN  \n",
       "1  Cd Player, Radio, Speakers Front, Speakers Rea...  \n",
       "2  Cd Player, Radio, Speakers Front, Speakers Rea...  \n",
       "3  Cd Player, Radio, Speakers Front, Speakers Rea...  \n",
       "4  Radio, Audio System Remote Control, Speakers F...  "
      ]
     },
     "execution_count": 5,
     "metadata": {},
     "output_type": "execute_result"
    }
   ],
   "source": [
    "\n",
    "\n",
    "merged_df=pd.read_excel('C:/Users/SAM/Desktop/used car price prediction/merged_data.xlsx')\n",
    "# Ensure the 'new_car_feature' column is in dictionary format (if stored as a string, convert it)\n",
    "merged_df['new_car_feature'] = merged_df['new_car_feature'].apply(lambda x: ast.literal_eval(str(x)) if isinstance(x, str) else x)\n",
    "\n",
    "# Initialize a list to collect the extracted data\n",
    "feature_rows = []\n",
    "\n",
    "# Loop through each row in the DataFrame\n",
    "for idx, row in merged_df.iterrows():\n",
    "    # Extract the dictionary from 'new_car_feature'\n",
    "    car_feature = row['new_car_feature']\n",
    "    \n",
    "    # Extract the heading\n",
    "    heading = car_feature.get('heading', None)\n",
    "    \n",
    "    # Extract the top details (list of features)\n",
    "    top_features = ', '.join([item['value'] for item in car_feature.get('top', []) if 'value' in item])\n",
    "    \n",
    "    # Extract the detailed feature sections from 'data'\n",
    "    feature_details = car_feature.get('data', [])\n",
    "    \n",
    "    # Convert the detailed feature sections into a flat dictionary\n",
    "    feature_dict = {}\n",
    "    for section in feature_details:\n",
    "        section_name = section.get('heading', '')\n",
    "        sub_section_name = section.get('subHeading', '')\n",
    "        feature_list = ', '.join([item['value'] for item in section.get('list', []) if 'value' in item])\n",
    "        feature_dict[f'{section_name} - {sub_section_name}'] = feature_list\n",
    "    \n",
    "    # Combine the heading, top features, and detailed features\n",
    "    combined_data = {'heading': heading, 'top_features': top_features}\n",
    "    combined_data.update(feature_dict)\n",
    "    \n",
    "    # Append the combined data to the list\n",
    "    feature_rows.append(combined_data)\n",
    "\n",
    "# Convert the list of dictionaries into a DataFrame\n",
    "new_car_feature = pd.DataFrame(feature_rows)\n",
    "\n",
    "# Display the final DataFrame\n",
    "new_car_feature.head()\n"
   ]
  },
  {
   "cell_type": "code",
   "execution_count": 12,
   "metadata": {},
   "outputs": [
    {
     "name": "stdout",
     "output_type": "stream",
     "text": [
      "<class 'pandas.core.frame.DataFrame'>\n",
      "RangeIndex: 8369 entries, 0 to 8368\n",
      "Data columns (total 7 columns):\n",
      " #   Column                                         Non-Null Count  Dtype \n",
      "---  ------                                         --------------  ----- \n",
      " 0   heading                                        8369 non-null   object\n",
      " 1   top_features                                   8369 non-null   object\n",
      " 2   Comfort & Convenience - Comfort                8301 non-null   object\n",
      " 3   Interior - Interior                            8292 non-null   object\n",
      " 4   Exterior - Exterior                            8279 non-null   object\n",
      " 5   Safety - Safety                                8273 non-null   object\n",
      " 6   Entertainment & Communication - Entertainment  7274 non-null   object\n",
      "dtypes: object(7)\n",
      "memory usage: 457.8+ KB\n"
     ]
    }
   ],
   "source": [
    "new_car_feature.info()"
   ]
  },
  {
   "cell_type": "code",
   "execution_count": 6,
   "metadata": {},
   "outputs": [
    {
     "data": {
      "text/html": [
       "<div>\n",
       "<style scoped>\n",
       "    .dataframe tbody tr th:only-of-type {\n",
       "        vertical-align: middle;\n",
       "    }\n",
       "\n",
       "    .dataframe tbody tr th {\n",
       "        vertical-align: top;\n",
       "    }\n",
       "\n",
       "    .dataframe thead th {\n",
       "        text-align: right;\n",
       "    }\n",
       "</style>\n",
       "<table border=\"1\" class=\"dataframe\">\n",
       "  <thead>\n",
       "    <tr style=\"text-align: right;\">\n",
       "      <th></th>\n",
       "      <th>heading</th>\n",
       "      <th>Mileage</th>\n",
       "      <th>Engine</th>\n",
       "      <th>Max Power</th>\n",
       "      <th>Torque</th>\n",
       "      <th>Seats</th>\n",
       "      <th>Engine and Transmission - Color</th>\n",
       "      <th>Engine and Transmission - Engine Type</th>\n",
       "      <th>Engine and Transmission - Displacement</th>\n",
       "      <th>Engine and Transmission - Max Power</th>\n",
       "      <th>...</th>\n",
       "      <th>Miscellaneous - Front Brake Type</th>\n",
       "      <th>Miscellaneous - Rear Brake Type</th>\n",
       "      <th>Miscellaneous - Top Speed</th>\n",
       "      <th>Miscellaneous - Acceleration</th>\n",
       "      <th>Miscellaneous - Tyre Type</th>\n",
       "      <th>Miscellaneous - No Door Numbers</th>\n",
       "      <th>Miscellaneous - Cargo Volumn</th>\n",
       "      <th>Wheel Size</th>\n",
       "      <th>Miscellaneous - Alloy Wheel Size</th>\n",
       "      <th>Dimensions &amp; Capacity - Ground Clearance Unladen</th>\n",
       "    </tr>\n",
       "  </thead>\n",
       "  <tbody>\n",
       "    <tr>\n",
       "      <th>0</th>\n",
       "      <td>Specifications</td>\n",
       "      <td>23.1 kmpl</td>\n",
       "      <td>998 CC</td>\n",
       "      <td>67.04bhp</td>\n",
       "      <td>90Nm</td>\n",
       "      <td>5</td>\n",
       "      <td>White</td>\n",
       "      <td>K10B Engine</td>\n",
       "      <td>998</td>\n",
       "      <td>67.04bhp@6000rpm</td>\n",
       "      <td>...</td>\n",
       "      <td>Ventilated Disc</td>\n",
       "      <td>Drum</td>\n",
       "      <td>150 Kmph</td>\n",
       "      <td>15.05 Seconds</td>\n",
       "      <td>Tubeless, Radial</td>\n",
       "      <td>5</td>\n",
       "      <td>235-litres</td>\n",
       "      <td>NaN</td>\n",
       "      <td>NaN</td>\n",
       "      <td>NaN</td>\n",
       "    </tr>\n",
       "    <tr>\n",
       "      <th>1</th>\n",
       "      <td>Specifications</td>\n",
       "      <td>17 kmpl</td>\n",
       "      <td>1497 CC</td>\n",
       "      <td>121.31bhp</td>\n",
       "      <td>150Nm</td>\n",
       "      <td>5</td>\n",
       "      <td>White</td>\n",
       "      <td>Ti-VCT Petrol Engine</td>\n",
       "      <td>1497</td>\n",
       "      <td>121.31bhp@6500rpm</td>\n",
       "      <td>...</td>\n",
       "      <td>Ventilated Disc</td>\n",
       "      <td>Drum</td>\n",
       "      <td>NaN</td>\n",
       "      <td>NaN</td>\n",
       "      <td>Tubeless,Radial</td>\n",
       "      <td>4</td>\n",
       "      <td>352-litres</td>\n",
       "      <td>16</td>\n",
       "      <td>16</td>\n",
       "      <td>NaN</td>\n",
       "    </tr>\n",
       "    <tr>\n",
       "      <th>2</th>\n",
       "      <td>Specifications</td>\n",
       "      <td>23.84 kmpl</td>\n",
       "      <td>1199 CC</td>\n",
       "      <td>84bhp</td>\n",
       "      <td>114Nm</td>\n",
       "      <td>5</td>\n",
       "      <td>Red</td>\n",
       "      <td>Revotron Engine</td>\n",
       "      <td>1199</td>\n",
       "      <td>84bhp@6000rpm</td>\n",
       "      <td>...</td>\n",
       "      <td>Disc</td>\n",
       "      <td>Drum</td>\n",
       "      <td>150 kmph</td>\n",
       "      <td>14.3 Seconds</td>\n",
       "      <td>Tubeless</td>\n",
       "      <td>5</td>\n",
       "      <td>242-litres</td>\n",
       "      <td>14</td>\n",
       "      <td>14</td>\n",
       "      <td>NaN</td>\n",
       "    </tr>\n",
       "    <tr>\n",
       "      <th>3</th>\n",
       "      <td>Specifications</td>\n",
       "      <td>19.1 kmpl</td>\n",
       "      <td>1197 CC</td>\n",
       "      <td>81.86bhp</td>\n",
       "      <td>113.75Nm</td>\n",
       "      <td>5</td>\n",
       "      <td>Others</td>\n",
       "      <td>Kappa VTVT Petrol Engine</td>\n",
       "      <td>1197</td>\n",
       "      <td>81.86bhp@6000rpm</td>\n",
       "      <td>...</td>\n",
       "      <td>Disc</td>\n",
       "      <td>Drum</td>\n",
       "      <td>172km/hr</td>\n",
       "      <td>14.2 Seconds</td>\n",
       "      <td>Tubeless,Radial</td>\n",
       "      <td>4</td>\n",
       "      <td>407-litres</td>\n",
       "      <td>14</td>\n",
       "      <td>14</td>\n",
       "      <td>NaN</td>\n",
       "    </tr>\n",
       "    <tr>\n",
       "      <th>4</th>\n",
       "      <td>Specifications</td>\n",
       "      <td>23.65 kmpl</td>\n",
       "      <td>1248 CC</td>\n",
       "      <td>88.5bhp</td>\n",
       "      <td>200Nm</td>\n",
       "      <td>5</td>\n",
       "      <td>Gray</td>\n",
       "      <td>DDiS 200 Diesel Engine</td>\n",
       "      <td>1248</td>\n",
       "      <td>88.5bhp@4000rpm</td>\n",
       "      <td>...</td>\n",
       "      <td>Ventilated Disc</td>\n",
       "      <td>Solid Disc</td>\n",
       "      <td>190 Kmph</td>\n",
       "      <td>12 Seconds</td>\n",
       "      <td>Tubeless,Radial</td>\n",
       "      <td>5</td>\n",
       "      <td>353-litres</td>\n",
       "      <td>16</td>\n",
       "      <td>16</td>\n",
       "      <td>NaN</td>\n",
       "    </tr>\n",
       "  </tbody>\n",
       "</table>\n",
       "<p>5 rows × 42 columns</p>\n",
       "</div>"
      ],
      "text/plain": [
       "          heading     Mileage   Engine  Max Power    Torque Seats  \\\n",
       "0  Specifications   23.1 kmpl   998 CC   67.04bhp      90Nm     5   \n",
       "1  Specifications     17 kmpl  1497 CC  121.31bhp     150Nm     5   \n",
       "2  Specifications  23.84 kmpl  1199 CC      84bhp     114Nm     5   \n",
       "3  Specifications   19.1 kmpl  1197 CC   81.86bhp  113.75Nm     5   \n",
       "4  Specifications  23.65 kmpl  1248 CC    88.5bhp     200Nm     5   \n",
       "\n",
       "  Engine and Transmission - Color Engine and Transmission - Engine Type  \\\n",
       "0                           White                           K10B Engine   \n",
       "1                           White                  Ti-VCT Petrol Engine   \n",
       "2                             Red                       Revotron Engine   \n",
       "3                          Others              Kappa VTVT Petrol Engine   \n",
       "4                            Gray                DDiS 200 Diesel Engine   \n",
       "\n",
       "  Engine and Transmission - Displacement Engine and Transmission - Max Power  \\\n",
       "0                                    998                    67.04bhp@6000rpm   \n",
       "1                                   1497                   121.31bhp@6500rpm   \n",
       "2                                   1199                       84bhp@6000rpm   \n",
       "3                                   1197                    81.86bhp@6000rpm   \n",
       "4                                   1248                     88.5bhp@4000rpm   \n",
       "\n",
       "   ... Miscellaneous - Front Brake Type  Miscellaneous - Rear Brake Type  \\\n",
       "0  ...                  Ventilated Disc                             Drum   \n",
       "1  ...                  Ventilated Disc                             Drum   \n",
       "2  ...                             Disc                             Drum   \n",
       "3  ...                            Disc                              Drum   \n",
       "4  ...                  Ventilated Disc                       Solid Disc   \n",
       "\n",
       "   Miscellaneous - Top Speed Miscellaneous - Acceleration  \\\n",
       "0                   150 Kmph                15.05 Seconds   \n",
       "1                        NaN                          NaN   \n",
       "2                   150 kmph                 14.3 Seconds   \n",
       "3                   172km/hr                 14.2 Seconds   \n",
       "4                   190 Kmph                   12 Seconds   \n",
       "\n",
       "  Miscellaneous - Tyre Type Miscellaneous - No Door Numbers  \\\n",
       "0          Tubeless, Radial                               5   \n",
       "1           Tubeless,Radial                               4   \n",
       "2                  Tubeless                               5   \n",
       "3           Tubeless,Radial                               4   \n",
       "4           Tubeless,Radial                               5   \n",
       "\n",
       "  Miscellaneous - Cargo Volumn Wheel Size Miscellaneous - Alloy Wheel Size  \\\n",
       "0                   235-litres        NaN                              NaN   \n",
       "1                   352-litres         16                               16   \n",
       "2                   242-litres         14                               14   \n",
       "3                   407-litres         14                               14   \n",
       "4                   353-litres         16                               16   \n",
       "\n",
       "  Dimensions & Capacity - Ground Clearance Unladen  \n",
       "0                                              NaN  \n",
       "1                                              NaN  \n",
       "2                                              NaN  \n",
       "3                                              NaN  \n",
       "4                                              NaN  \n",
       "\n",
       "[5 rows x 42 columns]"
      ]
     },
     "execution_count": 6,
     "metadata": {},
     "output_type": "execute_result"
    }
   ],
   "source": [
    "\n",
    "\n",
    "# Load your Excel file\n",
    "merged_df = pd.read_excel('C:/Users/SAM/Desktop/used car price prediction/merged_data.xlsx')\n",
    "\n",
    "# Ensure the 'new_car_specs' column is in dictionary format (if stored as a string, convert it)\n",
    "merged_df['new_car_specs'] = merged_df['new_car_specs'].apply(lambda x: ast.literal_eval(str(x)) if isinstance(x, str) else x)\n",
    "\n",
    "# Initialize a list to collect the extracted data for new_car_specs\n",
    "specs_data_rows = []\n",
    "\n",
    "# Loop through each row in the DataFrame\n",
    "for idx, row in merged_df.iterrows():\n",
    "    # Extract the dictionary from 'new_car_specs'\n",
    "    car_specs = row['new_car_specs']\n",
    "    \n",
    "    # Extract the heading\n",
    "    specs_heading = car_specs.get('heading', None)\n",
    "    \n",
    "    # Extract the top details (list of dictionaries)\n",
    "    specs_top_details = car_specs.get('top', [])\n",
    "    \n",
    "    # Convert the top list of dictionaries into a flat dictionary\n",
    "    specs_top_dict = {item['key']: item['value'] for item in specs_top_details if isinstance(item, dict)}\n",
    "    \n",
    "    # Initialize a dictionary for combined data\n",
    "    combined_specs_data = {'heading': specs_heading}\n",
    "    combined_specs_data.update(specs_top_dict)  # Add the top details\n",
    "\n",
    "    # Extract the detailed specs (from the 'data' field)\n",
    "    detailed_specs = car_specs.get('data', [])\n",
    "    \n",
    "    # Loop through each category of detailed specifications\n",
    "    for category in detailed_specs:\n",
    "        # Get the category heading (e.g., 'Engine and Transmission', 'Dimensions & Capacity')\n",
    "        category_heading = category.get('heading', None)\n",
    "        \n",
    "        # Get the list of specifications within this category\n",
    "        category_list = category.get('list', [])\n",
    "        \n",
    "        # Convert the list of dictionaries into a flat dictionary\n",
    "        for item in category_list:\n",
    "            if isinstance(item, dict):\n",
    "                combined_specs_data[f\"{category_heading} - {item['key']}\"] = item['value']\n",
    "    \n",
    "    # Append the combined specs data to the list\n",
    "    specs_data_rows.append(combined_specs_data)\n",
    "\n",
    "# Convert the list of dictionaries into a DataFrame\n",
    "new_car_specs = pd.DataFrame(specs_data_rows)\n",
    "\n",
    "# Display the final DataFrame with new_car_specs\n",
    "new_car_specs.head()\n"
   ]
  },
  {
   "cell_type": "code",
   "execution_count": 15,
   "metadata": {},
   "outputs": [
    {
     "name": "stdout",
     "output_type": "stream",
     "text": [
      "<class 'pandas.core.frame.DataFrame'>\n",
      "RangeIndex: 8369 entries, 0 to 8368\n",
      "Data columns (total 42 columns):\n",
      " #   Column                                            Non-Null Count  Dtype  \n",
      "---  ------                                            --------------  -----  \n",
      " 0   heading                                           8369 non-null   object \n",
      " 1   Mileage                                           8082 non-null   object \n",
      " 2   Engine                                            8365 non-null   object \n",
      " 3   Max Power                                         8309 non-null   object \n",
      " 4   Torque                                            8309 non-null   object \n",
      " 5   Seats                                             8364 non-null   object \n",
      " 6   Engine and Transmission - Color                   8366 non-null   object \n",
      " 7   Engine and Transmission - Engine Type             8074 non-null   object \n",
      " 8   Engine and Transmission - Displacement            8365 non-null   object \n",
      " 9   Engine and Transmission - Max Power               8309 non-null   object \n",
      " 10  Engine and Transmission - Max Torque              8309 non-null   object \n",
      " 11  Engine and Transmission - No of Cylinder          8338 non-null   float64\n",
      " 12  Engine and Transmission - Values per Cylinder     8318 non-null   float64\n",
      " 13  Engine and Transmission - Value Configuration     6153 non-null   object \n",
      " 14  Engine and Transmission - Fuel Suppy System       6642 non-null   object \n",
      " 15  Engine and Transmission - BoreX Stroke            2405 non-null   object \n",
      " 16  Engine and Transmission - Compression Ratio       1895 non-null   object \n",
      " 17  Engine and Transmission - Turbo Charger           7329 non-null   object \n",
      " 18  Engine and Transmission - Super Charger           6407 non-null   object \n",
      " 19  Dimensions & Capacity - Length                    8290 non-null   object \n",
      " 20  Dimensions & Capacity - Width                     8286 non-null   object \n",
      " 21  Dimensions & Capacity - Height                    8290 non-null   object \n",
      " 22  Dimensions & Capacity - Wheel Base                8206 non-null   object \n",
      " 23  Dimensions & Capacity - Front Tread               4811 non-null   object \n",
      " 24  Dimensions & Capacity - Rear Tread                4799 non-null   object \n",
      " 25  Dimensions & Capacity - Kerb Weight               8310 non-null   object \n",
      " 26  Dimensions & Capacity - Gross Weight              3828 non-null   object \n",
      " 27  Miscellaneous - Gear Box                          8263 non-null   object \n",
      " 28  Miscellaneous - Drive Type                        6809 non-null   object \n",
      " 29  Miscellaneous - Seating Capacity                  8363 non-null   object \n",
      " 30  Miscellaneous - Steering Type                     8114 non-null   object \n",
      " 31  Miscellaneous - Turning Radius                    6769 non-null   object \n",
      " 32  Miscellaneous - Front Brake Type                  8273 non-null   object \n",
      " 33  Miscellaneous - Rear Brake Type                   8273 non-null   object \n",
      " 34  Miscellaneous - Top Speed                         4607 non-null   object \n",
      " 35  Miscellaneous - Acceleration                      4857 non-null   object \n",
      " 36  Miscellaneous - Tyre Type                         8292 non-null   object \n",
      " 37  Miscellaneous - No Door Numbers                   8358 non-null   object \n",
      " 38  Miscellaneous - Cargo Volumn                      6776 non-null   object \n",
      " 39  Wheel Size                                        5386 non-null   object \n",
      " 40  Miscellaneous - Alloy Wheel Size                  5386 non-null   object \n",
      " 41  Dimensions & Capacity - Ground Clearance Unladen  515 non-null    object \n",
      "dtypes: float64(2), object(40)\n",
      "memory usage: 2.7+ MB\n"
     ]
    }
   ],
   "source": [
    "new_car_specs.info()"
   ]
  },
  {
   "cell_type": "code",
   "execution_count": 7,
   "metadata": {},
   "outputs": [
    {
     "data": {
      "text/html": [
       "<div>\n",
       "<style scoped>\n",
       "    .dataframe tbody tr th:only-of-type {\n",
       "        vertical-align: middle;\n",
       "    }\n",
       "\n",
       "    .dataframe tbody tr th {\n",
       "        vertical-align: top;\n",
       "    }\n",
       "\n",
       "    .dataframe thead th {\n",
       "        text-align: right;\n",
       "    }\n",
       "</style>\n",
       "<table border=\"1\" class=\"dataframe\">\n",
       "  <thead>\n",
       "    <tr style=\"text-align: right;\">\n",
       "      <th></th>\n",
       "      <th>it</th>\n",
       "      <th>ft</th>\n",
       "      <th>bt</th>\n",
       "      <th>km</th>\n",
       "      <th>transmission</th>\n",
       "      <th>ownerNo</th>\n",
       "      <th>owner</th>\n",
       "      <th>oem</th>\n",
       "      <th>model</th>\n",
       "      <th>modelYear</th>\n",
       "      <th>...</th>\n",
       "      <th>Miscellaneous - Rear Brake Type</th>\n",
       "      <th>Miscellaneous - Top Speed</th>\n",
       "      <th>Miscellaneous - Acceleration</th>\n",
       "      <th>Miscellaneous - Tyre Type</th>\n",
       "      <th>Miscellaneous - No Door Numbers</th>\n",
       "      <th>Miscellaneous - Cargo Volumn</th>\n",
       "      <th>Wheel Size</th>\n",
       "      <th>Miscellaneous - Alloy Wheel Size</th>\n",
       "      <th>Dimensions &amp; Capacity - Ground Clearance Unladen</th>\n",
       "      <th>city</th>\n",
       "    </tr>\n",
       "  </thead>\n",
       "  <tbody>\n",
       "    <tr>\n",
       "      <th>0</th>\n",
       "      <td>0</td>\n",
       "      <td>Petrol</td>\n",
       "      <td>Hatchback</td>\n",
       "      <td>1,20,000</td>\n",
       "      <td>Manual</td>\n",
       "      <td>3</td>\n",
       "      <td>3rd Owner</td>\n",
       "      <td>Maruti</td>\n",
       "      <td>Maruti Celerio</td>\n",
       "      <td>2015</td>\n",
       "      <td>...</td>\n",
       "      <td>Drum</td>\n",
       "      <td>150 Kmph</td>\n",
       "      <td>15.05 Seconds</td>\n",
       "      <td>Tubeless, Radial</td>\n",
       "      <td>5</td>\n",
       "      <td>235-litres</td>\n",
       "      <td>NaN</td>\n",
       "      <td>NaN</td>\n",
       "      <td>NaN</td>\n",
       "      <td>bangalore</td>\n",
       "    </tr>\n",
       "    <tr>\n",
       "      <th>1</th>\n",
       "      <td>0</td>\n",
       "      <td>Petrol</td>\n",
       "      <td>SUV</td>\n",
       "      <td>32,706</td>\n",
       "      <td>Manual</td>\n",
       "      <td>2</td>\n",
       "      <td>2nd Owner</td>\n",
       "      <td>Ford</td>\n",
       "      <td>Ford Ecosport</td>\n",
       "      <td>2018</td>\n",
       "      <td>...</td>\n",
       "      <td>Drum</td>\n",
       "      <td>NaN</td>\n",
       "      <td>NaN</td>\n",
       "      <td>Tubeless,Radial</td>\n",
       "      <td>4</td>\n",
       "      <td>352-litres</td>\n",
       "      <td>16</td>\n",
       "      <td>16</td>\n",
       "      <td>NaN</td>\n",
       "      <td>bangalore</td>\n",
       "    </tr>\n",
       "    <tr>\n",
       "      <th>2</th>\n",
       "      <td>0</td>\n",
       "      <td>Petrol</td>\n",
       "      <td>Hatchback</td>\n",
       "      <td>11,949</td>\n",
       "      <td>Manual</td>\n",
       "      <td>1</td>\n",
       "      <td>1st Owner</td>\n",
       "      <td>Tata</td>\n",
       "      <td>Tata Tiago</td>\n",
       "      <td>2018</td>\n",
       "      <td>...</td>\n",
       "      <td>Drum</td>\n",
       "      <td>150 kmph</td>\n",
       "      <td>14.3 Seconds</td>\n",
       "      <td>Tubeless</td>\n",
       "      <td>5</td>\n",
       "      <td>242-litres</td>\n",
       "      <td>14</td>\n",
       "      <td>14</td>\n",
       "      <td>NaN</td>\n",
       "      <td>bangalore</td>\n",
       "    </tr>\n",
       "    <tr>\n",
       "      <th>3</th>\n",
       "      <td>0</td>\n",
       "      <td>Petrol</td>\n",
       "      <td>Sedan</td>\n",
       "      <td>17,794</td>\n",
       "      <td>Manual</td>\n",
       "      <td>1</td>\n",
       "      <td>1st Owner</td>\n",
       "      <td>Hyundai</td>\n",
       "      <td>Hyundai Xcent</td>\n",
       "      <td>2014</td>\n",
       "      <td>...</td>\n",
       "      <td>Drum</td>\n",
       "      <td>172km/hr</td>\n",
       "      <td>14.2 Seconds</td>\n",
       "      <td>Tubeless,Radial</td>\n",
       "      <td>4</td>\n",
       "      <td>407-litres</td>\n",
       "      <td>14</td>\n",
       "      <td>14</td>\n",
       "      <td>NaN</td>\n",
       "      <td>bangalore</td>\n",
       "    </tr>\n",
       "    <tr>\n",
       "      <th>4</th>\n",
       "      <td>0</td>\n",
       "      <td>Diesel</td>\n",
       "      <td>SUV</td>\n",
       "      <td>60,000</td>\n",
       "      <td>Manual</td>\n",
       "      <td>1</td>\n",
       "      <td>1st Owner</td>\n",
       "      <td>Maruti</td>\n",
       "      <td>Maruti SX4 S Cross</td>\n",
       "      <td>2015</td>\n",
       "      <td>...</td>\n",
       "      <td>Solid Disc</td>\n",
       "      <td>190 Kmph</td>\n",
       "      <td>12 Seconds</td>\n",
       "      <td>Tubeless,Radial</td>\n",
       "      <td>5</td>\n",
       "      <td>353-litres</td>\n",
       "      <td>16</td>\n",
       "      <td>16</td>\n",
       "      <td>NaN</td>\n",
       "      <td>bangalore</td>\n",
       "    </tr>\n",
       "    <tr>\n",
       "      <th>...</th>\n",
       "      <td>...</td>\n",
       "      <td>...</td>\n",
       "      <td>...</td>\n",
       "      <td>...</td>\n",
       "      <td>...</td>\n",
       "      <td>...</td>\n",
       "      <td>...</td>\n",
       "      <td>...</td>\n",
       "      <td>...</td>\n",
       "      <td>...</td>\n",
       "      <td>...</td>\n",
       "      <td>...</td>\n",
       "      <td>...</td>\n",
       "      <td>...</td>\n",
       "      <td>...</td>\n",
       "      <td>...</td>\n",
       "      <td>...</td>\n",
       "      <td>...</td>\n",
       "      <td>...</td>\n",
       "      <td>...</td>\n",
       "      <td>...</td>\n",
       "    </tr>\n",
       "    <tr>\n",
       "      <th>8364</th>\n",
       "      <td>0</td>\n",
       "      <td>Petrol</td>\n",
       "      <td>Hatchback</td>\n",
       "      <td>10,000</td>\n",
       "      <td>Manual</td>\n",
       "      <td>1</td>\n",
       "      <td>1st Owner</td>\n",
       "      <td>Maruti</td>\n",
       "      <td>Maruti Celerio</td>\n",
       "      <td>2022</td>\n",
       "      <td>...</td>\n",
       "      <td>Drum</td>\n",
       "      <td>NaN</td>\n",
       "      <td>NaN</td>\n",
       "      <td>Tubeless, Radial</td>\n",
       "      <td>5</td>\n",
       "      <td>313</td>\n",
       "      <td>NaN</td>\n",
       "      <td>NaN</td>\n",
       "      <td>NaN</td>\n",
       "      <td>kolkata</td>\n",
       "    </tr>\n",
       "    <tr>\n",
       "      <th>8365</th>\n",
       "      <td>0</td>\n",
       "      <td>Petrol</td>\n",
       "      <td>Hatchback</td>\n",
       "      <td>1,20,000</td>\n",
       "      <td>Manual</td>\n",
       "      <td>1</td>\n",
       "      <td>1st Owner</td>\n",
       "      <td>Maruti</td>\n",
       "      <td>Maruti Alto 800</td>\n",
       "      <td>2014</td>\n",
       "      <td>...</td>\n",
       "      <td>Drum</td>\n",
       "      <td>140 kmph</td>\n",
       "      <td>19 Seconds</td>\n",
       "      <td>Tubeless Tyres</td>\n",
       "      <td>5</td>\n",
       "      <td>177-litres</td>\n",
       "      <td>NaN</td>\n",
       "      <td>NaN</td>\n",
       "      <td>NaN</td>\n",
       "      <td>kolkata</td>\n",
       "    </tr>\n",
       "    <tr>\n",
       "      <th>8366</th>\n",
       "      <td>0</td>\n",
       "      <td>Petrol</td>\n",
       "      <td>Sedan</td>\n",
       "      <td>50,000</td>\n",
       "      <td>Automatic</td>\n",
       "      <td>3</td>\n",
       "      <td>3rd Owner</td>\n",
       "      <td>Mercedes-Benz</td>\n",
       "      <td>Mercedes-Benz C-Class</td>\n",
       "      <td>2011</td>\n",
       "      <td>...</td>\n",
       "      <td>Solid Disc</td>\n",
       "      <td>230km/hr</td>\n",
       "      <td>8.8 Seconds</td>\n",
       "      <td>Tubeless,Radial</td>\n",
       "      <td>4</td>\n",
       "      <td>475-litres</td>\n",
       "      <td>17</td>\n",
       "      <td>17</td>\n",
       "      <td>NaN</td>\n",
       "      <td>kolkata</td>\n",
       "    </tr>\n",
       "    <tr>\n",
       "      <th>8367</th>\n",
       "      <td>0</td>\n",
       "      <td>Petrol</td>\n",
       "      <td>Hatchback</td>\n",
       "      <td>40,000</td>\n",
       "      <td>Manual</td>\n",
       "      <td>1</td>\n",
       "      <td>1st Owner</td>\n",
       "      <td>Maruti</td>\n",
       "      <td>Maruti Ritz</td>\n",
       "      <td>2012</td>\n",
       "      <td>...</td>\n",
       "      <td>Drum</td>\n",
       "      <td>156 Kmph</td>\n",
       "      <td>15 Seconds</td>\n",
       "      <td>Tubeless,Radial</td>\n",
       "      <td>5</td>\n",
       "      <td>236-liters</td>\n",
       "      <td>14</td>\n",
       "      <td>14</td>\n",
       "      <td>NaN</td>\n",
       "      <td>kolkata</td>\n",
       "    </tr>\n",
       "    <tr>\n",
       "      <th>8368</th>\n",
       "      <td>0</td>\n",
       "      <td>Diesel</td>\n",
       "      <td>SUV</td>\n",
       "      <td>1,20,000</td>\n",
       "      <td>Manual</td>\n",
       "      <td>2</td>\n",
       "      <td>2nd Owner</td>\n",
       "      <td>Renault</td>\n",
       "      <td>Renault Duster</td>\n",
       "      <td>2017</td>\n",
       "      <td>...</td>\n",
       "      <td>Drum</td>\n",
       "      <td>168 Kmph</td>\n",
       "      <td>14.20 Seconds</td>\n",
       "      <td>Tubeless,Radial</td>\n",
       "      <td>5</td>\n",
       "      <td>410-litres</td>\n",
       "      <td>16</td>\n",
       "      <td>16</td>\n",
       "      <td>NaN</td>\n",
       "      <td>kolkata</td>\n",
       "    </tr>\n",
       "  </tbody>\n",
       "</table>\n",
       "<p>8369 rows × 78 columns</p>\n",
       "</div>"
      ],
      "text/plain": [
       "      it      ft         bt        km transmission  ownerNo      owner  \\\n",
       "0      0  Petrol  Hatchback  1,20,000       Manual        3  3rd Owner   \n",
       "1      0  Petrol        SUV    32,706       Manual        2  2nd Owner   \n",
       "2      0  Petrol  Hatchback    11,949       Manual        1  1st Owner   \n",
       "3      0  Petrol      Sedan    17,794       Manual        1  1st Owner   \n",
       "4      0  Diesel        SUV    60,000       Manual        1  1st Owner   \n",
       "...   ..     ...        ...       ...          ...      ...        ...   \n",
       "8364   0  Petrol  Hatchback    10,000       Manual        1  1st Owner   \n",
       "8365   0  Petrol  Hatchback  1,20,000       Manual        1  1st Owner   \n",
       "8366   0  Petrol      Sedan    50,000    Automatic        3  3rd Owner   \n",
       "8367   0  Petrol  Hatchback    40,000       Manual        1  1st Owner   \n",
       "8368   0  Diesel        SUV  1,20,000       Manual        2  2nd Owner   \n",
       "\n",
       "                oem                  model  modelYear  ...  \\\n",
       "0            Maruti         Maruti Celerio       2015  ...   \n",
       "1              Ford          Ford Ecosport       2018  ...   \n",
       "2              Tata             Tata Tiago       2018  ...   \n",
       "3           Hyundai          Hyundai Xcent       2014  ...   \n",
       "4            Maruti     Maruti SX4 S Cross       2015  ...   \n",
       "...             ...                    ...        ...  ...   \n",
       "8364         Maruti         Maruti Celerio       2022  ...   \n",
       "8365         Maruti        Maruti Alto 800       2014  ...   \n",
       "8366  Mercedes-Benz  Mercedes-Benz C-Class       2011  ...   \n",
       "8367         Maruti            Maruti Ritz       2012  ...   \n",
       "8368        Renault         Renault Duster       2017  ...   \n",
       "\n",
       "      Miscellaneous - Rear Brake Type Miscellaneous - Top Speed  \\\n",
       "0                                Drum                  150 Kmph   \n",
       "1                                Drum                       NaN   \n",
       "2                                Drum                  150 kmph   \n",
       "3                                Drum                  172km/hr   \n",
       "4                          Solid Disc                  190 Kmph   \n",
       "...                               ...                       ...   \n",
       "8364                             Drum                       NaN   \n",
       "8365                             Drum                  140 kmph   \n",
       "8366                       Solid Disc                  230km/hr   \n",
       "8367                             Drum                  156 Kmph   \n",
       "8368                             Drum                  168 Kmph   \n",
       "\n",
       "     Miscellaneous - Acceleration Miscellaneous - Tyre Type  \\\n",
       "0                   15.05 Seconds          Tubeless, Radial   \n",
       "1                             NaN           Tubeless,Radial   \n",
       "2                    14.3 Seconds                  Tubeless   \n",
       "3                    14.2 Seconds           Tubeless,Radial   \n",
       "4                      12 Seconds           Tubeless,Radial   \n",
       "...                           ...                       ...   \n",
       "8364                          NaN          Tubeless, Radial   \n",
       "8365                   19 Seconds            Tubeless Tyres   \n",
       "8366                  8.8 Seconds           Tubeless,Radial   \n",
       "8367                   15 Seconds           Tubeless,Radial   \n",
       "8368                14.20 Seconds           Tubeless,Radial   \n",
       "\n",
       "     Miscellaneous - No Door Numbers Miscellaneous - Cargo Volumn Wheel Size  \\\n",
       "0                                  5                   235-litres        NaN   \n",
       "1                                  4                   352-litres         16   \n",
       "2                                  5                   242-litres         14   \n",
       "3                                  4                   407-litres         14   \n",
       "4                                  5                   353-litres         16   \n",
       "...                              ...                          ...        ...   \n",
       "8364                               5                          313        NaN   \n",
       "8365                               5                   177-litres        NaN   \n",
       "8366                               4                   475-litres         17   \n",
       "8367                               5                   236-liters         14   \n",
       "8368                               5                   410-litres         16   \n",
       "\n",
       "     Miscellaneous - Alloy Wheel Size  \\\n",
       "0                                 NaN   \n",
       "1                                  16   \n",
       "2                                  14   \n",
       "3                                  14   \n",
       "4                                  16   \n",
       "...                               ...   \n",
       "8364                              NaN   \n",
       "8365                              NaN   \n",
       "8366                               17   \n",
       "8367                               14   \n",
       "8368                               16   \n",
       "\n",
       "     Dimensions & Capacity - Ground Clearance Unladen       city  \n",
       "0                                                 NaN  bangalore  \n",
       "1                                                 NaN  bangalore  \n",
       "2                                                 NaN  bangalore  \n",
       "3                                                 NaN  bangalore  \n",
       "4                                                 NaN  bangalore  \n",
       "...                                               ...        ...  \n",
       "8364                                              NaN    kolkata  \n",
       "8365                                              NaN    kolkata  \n",
       "8366                                              NaN    kolkata  \n",
       "8367                                              NaN    kolkata  \n",
       "8368                                              NaN    kolkata  \n",
       "\n",
       "[8369 rows x 78 columns]"
      ]
     },
     "execution_count": 7,
     "metadata": {},
     "output_type": "execute_result"
    }
   ],
   "source": [
    "car_data = pd.concat([new_car_detail , new_car_overview , new_car_feature , new_car_specs,],axis=1)\n",
    "car_data['city'] = merged_df['city']\n",
    "car_data\n"
   ]
  },
  {
   "cell_type": "code",
   "execution_count": 22,
   "metadata": {},
   "outputs": [
    {
     "data": {
      "text/plain": [
       "(8369, 78)"
      ]
     },
     "execution_count": 22,
     "metadata": {},
     "output_type": "execute_result"
    }
   ],
   "source": [
    "car_data.shape"
   ]
  },
  {
   "cell_type": "code",
   "execution_count": 23,
   "metadata": {},
   "outputs": [
    {
     "name": "stdout",
     "output_type": "stream",
     "text": [
      "<class 'pandas.core.frame.DataFrame'>\n",
      "RangeIndex: 8369 entries, 0 to 8368\n",
      "Data columns (total 78 columns):\n",
      " #   Column                                            Non-Null Count  Dtype  \n",
      "---  ------                                            --------------  -----  \n",
      " 0   it                                                8369 non-null   int64  \n",
      " 1   ft                                                8369 non-null   object \n",
      " 2   bt                                                8369 non-null   object \n",
      " 3   km                                                8369 non-null   object \n",
      " 4   transmission                                      8369 non-null   object \n",
      " 5   ownerNo                                           8369 non-null   int64  \n",
      " 6   owner                                             8369 non-null   object \n",
      " 7   oem                                               8369 non-null   object \n",
      " 8   model                                             8369 non-null   object \n",
      " 9   modelYear                                         8369 non-null   int64  \n",
      " 10  centralVariantId                                  8369 non-null   int64  \n",
      " 11  variantName                                       8369 non-null   object \n",
      " 12  price                                             8369 non-null   object \n",
      " 13  priceActual                                       8369 non-null   object \n",
      " 14  priceSaving                                       8369 non-null   object \n",
      " 15  priceFixedText                                    0 non-null      object \n",
      " 16  trendingText                                      8369 non-null   object \n",
      " 17  heading                                           8369 non-null   object \n",
      " 18  Registration Year                                 8317 non-null   object \n",
      " 19  Insurance Validity                                8365 non-null   object \n",
      " 20  Fuel Type                                         8369 non-null   object \n",
      " 21  Seats                                             8363 non-null   object \n",
      " 22  Kms Driven                                        8367 non-null   object \n",
      " 23  RTO                                               7481 non-null   object \n",
      " 24  Ownership                                         8337 non-null   object \n",
      " 25  Engine Displacement                               8365 non-null   object \n",
      " 26  Transmission                                      8369 non-null   object \n",
      " 27  Year of Manufacture                               8349 non-null   float64\n",
      " 28  heading                                           8369 non-null   object \n",
      " 29  top_features                                      8369 non-null   object \n",
      " 30  Comfort & Convenience - Comfort                   8301 non-null   object \n",
      " 31  Interior - Interior                               8292 non-null   object \n",
      " 32  Exterior - Exterior                               8279 non-null   object \n",
      " 33  Safety - Safety                                   8273 non-null   object \n",
      " 34  Entertainment & Communication - Entertainment     7274 non-null   object \n",
      " 35  heading                                           8369 non-null   object \n",
      " 36  Mileage                                           8082 non-null   object \n",
      " 37  Engine                                            8365 non-null   object \n",
      " 38  Max Power                                         8309 non-null   object \n",
      " 39  Torque                                            8309 non-null   object \n",
      " 40  Seats                                             8364 non-null   object \n",
      " 41  Engine and Transmission - Color                   8366 non-null   object \n",
      " 42  Engine and Transmission - Engine Type             8074 non-null   object \n",
      " 43  Engine and Transmission - Displacement            8365 non-null   object \n",
      " 44  Engine and Transmission - Max Power               8309 non-null   object \n",
      " 45  Engine and Transmission - Max Torque              8309 non-null   object \n",
      " 46  Engine and Transmission - No of Cylinder          8338 non-null   float64\n",
      " 47  Engine and Transmission - Values per Cylinder     8318 non-null   float64\n",
      " 48  Engine and Transmission - Value Configuration     6153 non-null   object \n",
      " 49  Engine and Transmission - Fuel Suppy System       6642 non-null   object \n",
      " 50  Engine and Transmission - BoreX Stroke            2405 non-null   object \n",
      " 51  Engine and Transmission - Compression Ratio       1895 non-null   object \n",
      " 52  Engine and Transmission - Turbo Charger           7329 non-null   object \n",
      " 53  Engine and Transmission - Super Charger           6407 non-null   object \n",
      " 54  Dimensions & Capacity - Length                    8290 non-null   object \n",
      " 55  Dimensions & Capacity - Width                     8286 non-null   object \n",
      " 56  Dimensions & Capacity - Height                    8290 non-null   object \n",
      " 57  Dimensions & Capacity - Wheel Base                8206 non-null   object \n",
      " 58  Dimensions & Capacity - Front Tread               4811 non-null   object \n",
      " 59  Dimensions & Capacity - Rear Tread                4799 non-null   object \n",
      " 60  Dimensions & Capacity - Kerb Weight               8310 non-null   object \n",
      " 61  Dimensions & Capacity - Gross Weight              3828 non-null   object \n",
      " 62  Miscellaneous - Gear Box                          8263 non-null   object \n",
      " 63  Miscellaneous - Drive Type                        6809 non-null   object \n",
      " 64  Miscellaneous - Seating Capacity                  8363 non-null   object \n",
      " 65  Miscellaneous - Steering Type                     8114 non-null   object \n",
      " 66  Miscellaneous - Turning Radius                    6769 non-null   object \n",
      " 67  Miscellaneous - Front Brake Type                  8273 non-null   object \n",
      " 68  Miscellaneous - Rear Brake Type                   8273 non-null   object \n",
      " 69  Miscellaneous - Top Speed                         4607 non-null   object \n",
      " 70  Miscellaneous - Acceleration                      4857 non-null   object \n",
      " 71  Miscellaneous - Tyre Type                         8292 non-null   object \n",
      " 72  Miscellaneous - No Door Numbers                   8358 non-null   object \n",
      " 73  Miscellaneous - Cargo Volumn                      6776 non-null   object \n",
      " 74  Wheel Size                                        5386 non-null   object \n",
      " 75  Miscellaneous - Alloy Wheel Size                  5386 non-null   object \n",
      " 76  Dimensions & Capacity - Ground Clearance Unladen  515 non-null    object \n",
      " 77  city                                              8369 non-null   object \n",
      "dtypes: float64(3), int64(4), object(71)\n",
      "memory usage: 5.0+ MB\n"
     ]
    }
   ],
   "source": [
    "car_data.info()"
   ]
  },
  {
   "cell_type": "code",
   "execution_count": 10,
   "metadata": {},
   "outputs": [],
   "source": [
    "car_data=car_data.to_csv('cars.csv',index=False)"
   ]
  },
  {
   "cell_type": "markdown",
   "metadata": {},
   "source": [
    "DATA CLEANING\n",
    "\n",
    "Handling Missing Values"
   ]
  },
  {
   "cell_type": "code",
   "execution_count": 8,
   "metadata": {},
   "outputs": [
    {
     "name": "stderr",
     "output_type": "stream",
     "text": [
      "C:\\Users\\SAM\\AppData\\Local\\Temp\\ipykernel_9712\\578775066.py:1: DtypeWarning: Columns (13) have mixed types. Specify dtype option on import or set low_memory=False.\n",
      "  cars=pd.read_csv('cars.csv')\n"
     ]
    },
    {
     "data": {
      "text/html": [
       "<div>\n",
       "<style scoped>\n",
       "    .dataframe tbody tr th:only-of-type {\n",
       "        vertical-align: middle;\n",
       "    }\n",
       "\n",
       "    .dataframe tbody tr th {\n",
       "        vertical-align: top;\n",
       "    }\n",
       "\n",
       "    .dataframe thead th {\n",
       "        text-align: right;\n",
       "    }\n",
       "</style>\n",
       "<table border=\"1\" class=\"dataframe\">\n",
       "  <thead>\n",
       "    <tr style=\"text-align: right;\">\n",
       "      <th></th>\n",
       "      <th>it</th>\n",
       "      <th>ft</th>\n",
       "      <th>bt</th>\n",
       "      <th>km</th>\n",
       "      <th>transmission</th>\n",
       "      <th>ownerNo</th>\n",
       "      <th>owner</th>\n",
       "      <th>oem</th>\n",
       "      <th>model</th>\n",
       "      <th>modelYear</th>\n",
       "      <th>...</th>\n",
       "      <th>Miscellaneous - Rear Brake Type</th>\n",
       "      <th>Miscellaneous - Top Speed</th>\n",
       "      <th>Miscellaneous - Acceleration</th>\n",
       "      <th>Miscellaneous - Tyre Type</th>\n",
       "      <th>Miscellaneous - No Door Numbers</th>\n",
       "      <th>Miscellaneous - Cargo Volumn</th>\n",
       "      <th>Wheel Size</th>\n",
       "      <th>Miscellaneous - Alloy Wheel Size</th>\n",
       "      <th>Dimensions &amp; Capacity - Ground Clearance Unladen</th>\n",
       "      <th>city</th>\n",
       "    </tr>\n",
       "  </thead>\n",
       "  <tbody>\n",
       "    <tr>\n",
       "      <th>0</th>\n",
       "      <td>0</td>\n",
       "      <td>Petrol</td>\n",
       "      <td>Hatchback</td>\n",
       "      <td>1,20,000</td>\n",
       "      <td>Manual</td>\n",
       "      <td>3</td>\n",
       "      <td>3rd Owner</td>\n",
       "      <td>Maruti</td>\n",
       "      <td>Maruti Celerio</td>\n",
       "      <td>2015</td>\n",
       "      <td>...</td>\n",
       "      <td>Drum</td>\n",
       "      <td>150 Kmph</td>\n",
       "      <td>15.05 Seconds</td>\n",
       "      <td>Tubeless, Radial</td>\n",
       "      <td>5.0</td>\n",
       "      <td>235-litres</td>\n",
       "      <td>NaN</td>\n",
       "      <td>NaN</td>\n",
       "      <td>NaN</td>\n",
       "      <td>bangalore</td>\n",
       "    </tr>\n",
       "    <tr>\n",
       "      <th>1</th>\n",
       "      <td>0</td>\n",
       "      <td>Petrol</td>\n",
       "      <td>SUV</td>\n",
       "      <td>32,706</td>\n",
       "      <td>Manual</td>\n",
       "      <td>2</td>\n",
       "      <td>2nd Owner</td>\n",
       "      <td>Ford</td>\n",
       "      <td>Ford Ecosport</td>\n",
       "      <td>2018</td>\n",
       "      <td>...</td>\n",
       "      <td>Drum</td>\n",
       "      <td>NaN</td>\n",
       "      <td>NaN</td>\n",
       "      <td>Tubeless,Radial</td>\n",
       "      <td>4.0</td>\n",
       "      <td>352-litres</td>\n",
       "      <td>16</td>\n",
       "      <td>16</td>\n",
       "      <td>NaN</td>\n",
       "      <td>bangalore</td>\n",
       "    </tr>\n",
       "    <tr>\n",
       "      <th>2</th>\n",
       "      <td>0</td>\n",
       "      <td>Petrol</td>\n",
       "      <td>Hatchback</td>\n",
       "      <td>11,949</td>\n",
       "      <td>Manual</td>\n",
       "      <td>1</td>\n",
       "      <td>1st Owner</td>\n",
       "      <td>Tata</td>\n",
       "      <td>Tata Tiago</td>\n",
       "      <td>2018</td>\n",
       "      <td>...</td>\n",
       "      <td>Drum</td>\n",
       "      <td>150 kmph</td>\n",
       "      <td>14.3 Seconds</td>\n",
       "      <td>Tubeless</td>\n",
       "      <td>5.0</td>\n",
       "      <td>242-litres</td>\n",
       "      <td>14</td>\n",
       "      <td>14</td>\n",
       "      <td>NaN</td>\n",
       "      <td>bangalore</td>\n",
       "    </tr>\n",
       "    <tr>\n",
       "      <th>3</th>\n",
       "      <td>0</td>\n",
       "      <td>Petrol</td>\n",
       "      <td>Sedan</td>\n",
       "      <td>17,794</td>\n",
       "      <td>Manual</td>\n",
       "      <td>1</td>\n",
       "      <td>1st Owner</td>\n",
       "      <td>Hyundai</td>\n",
       "      <td>Hyundai Xcent</td>\n",
       "      <td>2014</td>\n",
       "      <td>...</td>\n",
       "      <td>Drum</td>\n",
       "      <td>172km/hr</td>\n",
       "      <td>14.2 Seconds</td>\n",
       "      <td>Tubeless,Radial</td>\n",
       "      <td>4.0</td>\n",
       "      <td>407-litres</td>\n",
       "      <td>14</td>\n",
       "      <td>14</td>\n",
       "      <td>NaN</td>\n",
       "      <td>bangalore</td>\n",
       "    </tr>\n",
       "    <tr>\n",
       "      <th>4</th>\n",
       "      <td>0</td>\n",
       "      <td>Diesel</td>\n",
       "      <td>SUV</td>\n",
       "      <td>60,000</td>\n",
       "      <td>Manual</td>\n",
       "      <td>1</td>\n",
       "      <td>1st Owner</td>\n",
       "      <td>Maruti</td>\n",
       "      <td>Maruti SX4 S Cross</td>\n",
       "      <td>2015</td>\n",
       "      <td>...</td>\n",
       "      <td>Solid Disc</td>\n",
       "      <td>190 Kmph</td>\n",
       "      <td>12 Seconds</td>\n",
       "      <td>Tubeless,Radial</td>\n",
       "      <td>5.0</td>\n",
       "      <td>353-litres</td>\n",
       "      <td>16</td>\n",
       "      <td>16</td>\n",
       "      <td>NaN</td>\n",
       "      <td>bangalore</td>\n",
       "    </tr>\n",
       "  </tbody>\n",
       "</table>\n",
       "<p>5 rows × 78 columns</p>\n",
       "</div>"
      ],
      "text/plain": [
       "   it      ft         bt        km transmission  ownerNo      owner      oem  \\\n",
       "0   0  Petrol  Hatchback  1,20,000       Manual        3  3rd Owner   Maruti   \n",
       "1   0  Petrol        SUV    32,706       Manual        2  2nd Owner     Ford   \n",
       "2   0  Petrol  Hatchback    11,949       Manual        1  1st Owner     Tata   \n",
       "3   0  Petrol      Sedan    17,794       Manual        1  1st Owner  Hyundai   \n",
       "4   0  Diesel        SUV    60,000       Manual        1  1st Owner   Maruti   \n",
       "\n",
       "                model  modelYear  ...  Miscellaneous - Rear Brake Type  \\\n",
       "0      Maruti Celerio       2015  ...                             Drum   \n",
       "1       Ford Ecosport       2018  ...                             Drum   \n",
       "2          Tata Tiago       2018  ...                             Drum   \n",
       "3       Hyundai Xcent       2014  ...                             Drum   \n",
       "4  Maruti SX4 S Cross       2015  ...                       Solid Disc   \n",
       "\n",
       "  Miscellaneous - Top Speed Miscellaneous - Acceleration  \\\n",
       "0                  150 Kmph                15.05 Seconds   \n",
       "1                       NaN                          NaN   \n",
       "2                  150 kmph                 14.3 Seconds   \n",
       "3                  172km/hr                 14.2 Seconds   \n",
       "4                  190 Kmph                   12 Seconds   \n",
       "\n",
       "  Miscellaneous - Tyre Type  Miscellaneous - No Door Numbers  \\\n",
       "0          Tubeless, Radial                              5.0   \n",
       "1           Tubeless,Radial                              4.0   \n",
       "2                  Tubeless                              5.0   \n",
       "3           Tubeless,Radial                              4.0   \n",
       "4           Tubeless,Radial                              5.0   \n",
       "\n",
       "   Miscellaneous - Cargo Volumn Wheel Size Miscellaneous - Alloy Wheel Size  \\\n",
       "0                    235-litres        NaN                              NaN   \n",
       "1                    352-litres         16                               16   \n",
       "2                    242-litres         14                               14   \n",
       "3                    407-litres         14                               14   \n",
       "4                    353-litres         16                               16   \n",
       "\n",
       "  Dimensions & Capacity - Ground Clearance Unladen       city  \n",
       "0                                              NaN  bangalore  \n",
       "1                                              NaN  bangalore  \n",
       "2                                              NaN  bangalore  \n",
       "3                                              NaN  bangalore  \n",
       "4                                              NaN  bangalore  \n",
       "\n",
       "[5 rows x 78 columns]"
      ]
     },
     "execution_count": 8,
     "metadata": {},
     "output_type": "execute_result"
    }
   ],
   "source": [
    "cars=pd.read_csv('cars.csv')\n",
    "cars.head()"
   ]
  },
  {
   "cell_type": "code",
   "execution_count": 30,
   "metadata": {},
   "outputs": [
    {
     "name": "stdout",
     "output_type": "stream",
     "text": [
      "<class 'pandas.core.frame.DataFrame'>\n",
      "RangeIndex: 8369 entries, 0 to 8368\n",
      "Data columns (total 78 columns):\n",
      " #   Column                                            Non-Null Count  Dtype  \n",
      "---  ------                                            --------------  -----  \n",
      " 0   it                                                8369 non-null   int64  \n",
      " 1   ft                                                8369 non-null   object \n",
      " 2   bt                                                8365 non-null   object \n",
      " 3   km                                                8369 non-null   object \n",
      " 4   transmission                                      8369 non-null   object \n",
      " 5   ownerNo                                           8369 non-null   int64  \n",
      " 6   owner                                             8369 non-null   object \n",
      " 7   oem                                               8369 non-null   object \n",
      " 8   model                                             8369 non-null   object \n",
      " 9   modelYear                                         8369 non-null   int64  \n",
      " 10  centralVariantId                                  8369 non-null   int64  \n",
      " 11  variantName                                       8369 non-null   object \n",
      " 12  price                                             8369 non-null   object \n",
      " 13  priceActual                                       1670 non-null   object \n",
      " 14  priceSaving                                       0 non-null      float64\n",
      " 15  priceFixedText                                    0 non-null      float64\n",
      " 16  trendingText                                      8369 non-null   object \n",
      " 17  heading                                           8369 non-null   object \n",
      " 18  Registration Year                                 8317 non-null   object \n",
      " 19  Insurance Validity                                8365 non-null   object \n",
      " 20  Fuel Type                                         8369 non-null   object \n",
      " 21  Seats                                             8363 non-null   object \n",
      " 22  Kms Driven                                        8367 non-null   object \n",
      " 23  RTO                                               7475 non-null   object \n",
      " 24  Ownership                                         8337 non-null   object \n",
      " 25  Engine Displacement                               8365 non-null   object \n",
      " 26  Transmission                                      8369 non-null   object \n",
      " 27  Year of Manufacture                               8349 non-null   float64\n",
      " 28  heading.1                                         8369 non-null   object \n",
      " 29  top_features                                      8304 non-null   object \n",
      " 30  Comfort & Convenience - Comfort                   8301 non-null   object \n",
      " 31  Interior - Interior                               8292 non-null   object \n",
      " 32  Exterior - Exterior                               8279 non-null   object \n",
      " 33  Safety - Safety                                   8273 non-null   object \n",
      " 34  Entertainment & Communication - Entertainment     7274 non-null   object \n",
      " 35  heading.2                                         8369 non-null   object \n",
      " 36  Mileage                                           8082 non-null   object \n",
      " 37  Engine                                            8365 non-null   object \n",
      " 38  Max Power                                         8309 non-null   object \n",
      " 39  Torque                                            8309 non-null   object \n",
      " 40  Seats.1                                           8363 non-null   float64\n",
      " 41  Engine and Transmission - Color                   8366 non-null   object \n",
      " 42  Engine and Transmission - Engine Type             8074 non-null   object \n",
      " 43  Engine and Transmission - Displacement            8365 non-null   float64\n",
      " 44  Engine and Transmission - Max Power               8309 non-null   object \n",
      " 45  Engine and Transmission - Max Torque              8309 non-null   object \n",
      " 46  Engine and Transmission - No of Cylinder          8338 non-null   float64\n",
      " 47  Engine and Transmission - Values per Cylinder     8318 non-null   float64\n",
      " 48  Engine and Transmission - Value Configuration     6153 non-null   object \n",
      " 49  Engine and Transmission - Fuel Suppy System       6642 non-null   object \n",
      " 50  Engine and Transmission - BoreX Stroke            2405 non-null   object \n",
      " 51  Engine and Transmission - Compression Ratio       1895 non-null   object \n",
      " 52  Engine and Transmission - Turbo Charger           7329 non-null   object \n",
      " 53  Engine and Transmission - Super Charger           6407 non-null   object \n",
      " 54  Dimensions & Capacity - Length                    8290 non-null   object \n",
      " 55  Dimensions & Capacity - Width                     8286 non-null   object \n",
      " 56  Dimensions & Capacity - Height                    8290 non-null   object \n",
      " 57  Dimensions & Capacity - Wheel Base                8206 non-null   object \n",
      " 58  Dimensions & Capacity - Front Tread               4811 non-null   object \n",
      " 59  Dimensions & Capacity - Rear Tread                4799 non-null   object \n",
      " 60  Dimensions & Capacity - Kerb Weight               8310 non-null   object \n",
      " 61  Dimensions & Capacity - Gross Weight              3828 non-null   object \n",
      " 62  Miscellaneous - Gear Box                          8263 non-null   object \n",
      " 63  Miscellaneous - Drive Type                        6809 non-null   object \n",
      " 64  Miscellaneous - Seating Capacity                  8363 non-null   float64\n",
      " 65  Miscellaneous - Steering Type                     8114 non-null   object \n",
      " 66  Miscellaneous - Turning Radius                    6769 non-null   object \n",
      " 67  Miscellaneous - Front Brake Type                  8273 non-null   object \n",
      " 68  Miscellaneous - Rear Brake Type                   8273 non-null   object \n",
      " 69  Miscellaneous - Top Speed                         4607 non-null   object \n",
      " 70  Miscellaneous - Acceleration                      4857 non-null   object \n",
      " 71  Miscellaneous - Tyre Type                         8292 non-null   object \n",
      " 72  Miscellaneous - No Door Numbers                   8358 non-null   float64\n",
      " 73  Miscellaneous - Cargo Volumn                      6776 non-null   object \n",
      " 74  Wheel Size                                        5386 non-null   object \n",
      " 75  Miscellaneous - Alloy Wheel Size                  5386 non-null   object \n",
      " 76  Dimensions & Capacity - Ground Clearance Unladen  515 non-null    object \n",
      " 77  city                                              8369 non-null   object \n",
      "dtypes: float64(9), int64(4), object(65)\n",
      "memory usage: 5.0+ MB\n"
     ]
    }
   ],
   "source": [
    "cars.info()"
   ]
  },
  {
   "cell_type": "code",
   "execution_count": 16,
   "metadata": {},
   "outputs": [
    {
     "data": {
      "text/plain": [
       "it                                                     0\n",
       "ft                                                     0\n",
       "bt                                                     4\n",
       "km                                                     0\n",
       "transmission                                           0\n",
       "                                                    ... \n",
       "Miscellaneous - Cargo Volumn                        1593\n",
       "Wheel Size                                          2983\n",
       "Miscellaneous - Alloy Wheel Size                    2983\n",
       "Dimensions & Capacity - Ground Clearance Unladen    7854\n",
       "city                                                   0\n",
       "Length: 78, dtype: int64"
      ]
     },
     "execution_count": 16,
     "metadata": {},
     "output_type": "execute_result"
    }
   ],
   "source": [
    "cars.isna().sum()"
   ]
  },
  {
   "cell_type": "markdown",
   "metadata": {},
   "source": [
    "### body type - bt - handling missing values"
   ]
  },
  {
   "cell_type": "code",
   "execution_count": 9,
   "metadata": {},
   "outputs": [
    {
     "data": {
      "text/plain": [
       "array(['Hatchback', 'SUV', 'Sedan', 'MUV', 'Coupe', 'Minivans',\n",
       "       'Pickup Trucks', 'Convertibles', 'Hybrids', nan, 'Wagon'],\n",
       "      dtype=object)"
      ]
     },
     "execution_count": 9,
     "metadata": {},
     "output_type": "execute_result"
    }
   ],
   "source": [
    "cars['bt'].unique()\n"
   ]
  },
  {
   "cell_type": "code",
   "execution_count": 11,
   "metadata": {},
   "outputs": [
    {
     "data": {
      "text/plain": [
       "np.int64(4)"
      ]
     },
     "execution_count": 11,
     "metadata": {},
     "output_type": "execute_result"
    }
   ],
   "source": [
    "cars['bt'].isna().sum()"
   ]
  },
  {
   "cell_type": "code",
   "execution_count": 10,
   "metadata": {},
   "outputs": [
    {
     "name": "stderr",
     "output_type": "stream",
     "text": [
      "C:\\Users\\SAM\\AppData\\Local\\Temp\\ipykernel_9712\\3022327089.py:5: FutureWarning: A value is trying to be set on a copy of a DataFrame or Series through chained assignment using an inplace method.\n",
      "The behavior will change in pandas 3.0. This inplace method will never work because the intermediate object on which we are setting values always behaves as a copy.\n",
      "\n",
      "For example, when doing 'df[col].method(value, inplace=True)', try using 'df.method({col: value}, inplace=True)' or df[col] = df[col].method(value) instead, to perform the operation inplace on the original object.\n",
      "\n",
      "\n",
      "  cars['bt'].fillna(bt_mode, inplace=True)\n"
     ]
    }
   ],
   "source": [
    "# Find the mode (most frequent category) in 'bt'\n",
    "bt_mode = cars['bt'].mode()[0]\n",
    "\n",
    "# Impute missing values with the mode\n",
    "cars['bt'].fillna(bt_mode, inplace=True)\n",
    " # Verify no missing values remain\n"
   ]
  },
  {
   "cell_type": "code",
   "execution_count": 11,
   "metadata": {},
   "outputs": [
    {
     "data": {
      "text/plain": [
       "np.int64(0)"
      ]
     },
     "execution_count": 11,
     "metadata": {},
     "output_type": "execute_result"
    }
   ],
   "source": [
    "cars['bt'].isna().sum()"
   ]
  },
  {
   "cell_type": "code",
   "execution_count": 21,
   "metadata": {},
   "outputs": [
    {
     "data": {
      "text/plain": [
       "it                                                     0\n",
       "ft                                                     0\n",
       "bt                                                     0\n",
       "km                                                     0\n",
       "transmission                                           0\n",
       "                                                    ... \n",
       "Miscellaneous - Cargo Volumn                        1593\n",
       "Wheel Size                                          2983\n",
       "Miscellaneous - Alloy Wheel Size                    2983\n",
       "Dimensions & Capacity - Ground Clearance Unladen    7854\n",
       "city                                                   0\n",
       "Length: 78, dtype: int64"
      ]
     },
     "execution_count": 21,
     "metadata": {},
     "output_type": "execute_result"
    }
   ],
   "source": [
    "cars.isna().sum()"
   ]
  },
  {
   "cell_type": "markdown",
   "metadata": {},
   "source": [
    "### seates\n"
   ]
  },
  {
   "cell_type": "code",
   "execution_count": 12,
   "metadata": {},
   "outputs": [
    {
     "data": {
      "text/plain": [
       "array(['5 Seats', '7 Seats', '4 Seats', '6 Seats', '8 Seats', '10 Seats',\n",
       "       nan, '9 Seats', '2 Seats'], dtype=object)"
      ]
     },
     "execution_count": 12,
     "metadata": {},
     "output_type": "execute_result"
    }
   ],
   "source": [
    "cars['Seats'].unique()"
   ]
  },
  {
   "cell_type": "code",
   "execution_count": 13,
   "metadata": {},
   "outputs": [
    {
     "data": {
      "text/plain": [
       "np.int64(6)"
      ]
     },
     "execution_count": 13,
     "metadata": {},
     "output_type": "execute_result"
    }
   ],
   "source": [
    "cars['Miscellaneous - Seating Capacity'].isna().sum()"
   ]
  },
  {
   "cell_type": "code",
   "execution_count": 14,
   "metadata": {},
   "outputs": [
    {
     "data": {
      "text/plain": [
       "1175   NaN\n",
       "3528   NaN\n",
       "6211   NaN\n",
       "7608   NaN\n",
       "7669   NaN\n",
       "7745   NaN\n",
       "Name: Miscellaneous - Seating Capacity, dtype: float64"
      ]
     },
     "execution_count": 14,
     "metadata": {},
     "output_type": "execute_result"
    }
   ],
   "source": [
    "null_values = cars[cars['Miscellaneous - Seating Capacity'].isnull()]['Miscellaneous - Seating Capacity']\n",
    "null_values"
   ]
  },
  {
   "cell_type": "code",
   "execution_count": 15,
   "metadata": {},
   "outputs": [
    {
     "name": "stderr",
     "output_type": "stream",
     "text": [
      "C:\\Users\\SAM\\AppData\\Local\\Temp\\ipykernel_9712\\2996409140.py:1: FutureWarning: A value is trying to be set on a copy of a DataFrame or Series through chained assignment using an inplace method.\n",
      "The behavior will change in pandas 3.0. This inplace method will never work because the intermediate object on which we are setting values always behaves as a copy.\n",
      "\n",
      "For example, when doing 'df[col].method(value, inplace=True)', try using 'df.method({col: value}, inplace=True)' or df[col] = df[col].method(value) instead, to perform the operation inplace on the original object.\n",
      "\n",
      "\n",
      "  cars['Miscellaneous - Seating Capacity'].fillna(cars['Miscellaneous - Seating Capacity'].median(), inplace=True)\n"
     ]
    },
    {
     "data": {
      "text/plain": [
       "array([ 5.,  7.,  4.,  6.,  8., 10.,  9.,  2.])"
      ]
     },
     "execution_count": 15,
     "metadata": {},
     "output_type": "execute_result"
    }
   ],
   "source": [
    "cars['Miscellaneous - Seating Capacity'].fillna(cars['Miscellaneous - Seating Capacity'].median(), inplace=True)\n",
    "cars['Miscellaneous - Seating Capacity'].unique()"
   ]
  },
  {
   "cell_type": "code",
   "execution_count": 16,
   "metadata": {},
   "outputs": [
    {
     "data": {
      "text/plain": [
       "0       5.0\n",
       "1       5.0\n",
       "2       5.0\n",
       "3       5.0\n",
       "4       5.0\n",
       "       ... \n",
       "8364    5.0\n",
       "8365    5.0\n",
       "8366    5.0\n",
       "8367    5.0\n",
       "8368    5.0\n",
       "Name: Car_seats, Length: 8369, dtype: float64"
      ]
     },
     "execution_count": 16,
     "metadata": {},
     "output_type": "execute_result"
    }
   ],
   "source": [
    "cars.rename(columns={'Miscellaneous - Seating Capacity': 'Car_seats'}, inplace=True)\n",
    "cars['Car_seats']"
   ]
  },
  {
   "cell_type": "code",
   "execution_count": 17,
   "metadata": {},
   "outputs": [
    {
     "data": {
      "text/plain": [
       "array([ 5.,  7.,  4.,  6.,  8., 10., nan,  9.,  2.])"
      ]
     },
     "execution_count": 17,
     "metadata": {},
     "output_type": "execute_result"
    }
   ],
   "source": [
    "cars['Car_seats'].unique()"
   ]
  },
  {
   "cell_type": "code",
   "execution_count": 17,
   "metadata": {},
   "outputs": [
    {
     "data": {
      "text/plain": [
       "np.int64(0)"
      ]
     },
     "execution_count": 17,
     "metadata": {},
     "output_type": "execute_result"
    }
   ],
   "source": [
    "cars['Car_seats'].isna().sum()"
   ]
  },
  {
   "cell_type": "markdown",
   "metadata": {},
   "source": [
    "### kms driven - handling missing values"
   ]
  },
  {
   "cell_type": "code",
   "execution_count": 18,
   "metadata": {},
   "outputs": [
    {
     "data": {
      "text/plain": [
       "np.int64(0)"
      ]
     },
     "execution_count": 18,
     "metadata": {},
     "output_type": "execute_result"
    }
   ],
   "source": [
    "cars['km'].isna().sum()\n"
   ]
  },
  {
   "cell_type": "code",
   "execution_count": 19,
   "metadata": {},
   "outputs": [],
   "source": [
    "cars['km'] = cars['km'].str.replace(',', '')\n",
    "\n",
    "# Step 2: Convert to integer (or float, if needed)\n",
    "cars['km'] = cars['km'].astype(int)"
   ]
  },
  {
   "cell_type": "markdown",
   "metadata": {},
   "source": [
    "### price changing datatype"
   ]
  },
  {
   "cell_type": "code",
   "execution_count": 20,
   "metadata": {},
   "outputs": [
    {
     "data": {
      "text/plain": [
       "0          ₹ 4 Lakh\n",
       "1       ₹ 8.11 Lakh\n",
       "2       ₹ 5.85 Lakh\n",
       "3       ₹ 4.62 Lakh\n",
       "4       ₹ 7.90 Lakh\n",
       "           ...     \n",
       "8364    ₹ 5.10 Lakh\n",
       "8365    ₹ 1.80 Lakh\n",
       "8366    ₹ 5.50 Lakh\n",
       "8367    ₹ 1.40 Lakh\n",
       "8368       ₹ 5 Lakh\n",
       "Name: price, Length: 8369, dtype: object"
      ]
     },
     "execution_count": 20,
     "metadata": {},
     "output_type": "execute_result"
    }
   ],
   "source": [
    "cars['price']"
   ]
  },
  {
   "cell_type": "code",
   "execution_count": 21,
   "metadata": {},
   "outputs": [],
   "source": [
    "p1=cars[cars['price'].str.contains('Crore', na=False)]\n"
   ]
  },
  {
   "cell_type": "code",
   "execution_count": 10,
   "metadata": {},
   "outputs": [
    {
     "data": {
      "text/plain": [
       "823     ₹ 1.30 Crore\n",
       "1612    ₹ 1.10 Crore\n",
       "1673    ₹ 1.18 Crore\n",
       "1768    ₹ 1.13 Crore\n",
       "3064    ₹ 1.32 Crore\n",
       "Name: price, dtype: object"
      ]
     },
     "execution_count": 10,
     "metadata": {},
     "output_type": "execute_result"
    }
   ],
   "source": [
    "p1['price'].head()"
   ]
  },
  {
   "cell_type": "code",
   "execution_count": 22,
   "metadata": {},
   "outputs": [
    {
     "name": "stdout",
     "output_type": "stream",
     "text": [
      "0    400000\n",
      "1    811000\n",
      "2    585000\n",
      "3    462000\n",
      "4    790000\n",
      "Name: price, dtype: int64\n"
     ]
    }
   ],
   "source": [
    "# Ensure the price column is treated as a string\n",
    "cars['price'] = cars['price'].astype(str)\n",
    "\n",
    "# Clean the price column\n",
    "cars['price'] = cars['price'].str.replace('₹', '').str.strip()  # Remove currency symbol\n",
    "\n",
    "# Define the conversion function with Crore and Lakh check\n",
    "def convert_price(price):\n",
    "    price = price.replace(',', '').strip()  # Remove commas for easier conversion\n",
    "    if 'Crore' in price:\n",
    "        return int(float(price.replace(' Crore', '').strip()) * 10000000)  # Convert Crore to integer\n",
    "    elif 'Lakh' in price:\n",
    "        return int(float(price.replace(' Lakh', '').strip()) * 100000)  # Convert Lakh to integer\n",
    "    else:\n",
    "        return int(price) if price.isdigit() else 0  # Treat as thousands or just integer\n",
    "\n",
    "# Apply the conversion function to the price column\n",
    "cars['price'] = cars['price'].apply(convert_price)\n",
    "\n",
    "# Display the updated price column\n",
    "print(cars['price'].head())\n"
   ]
  },
  {
   "cell_type": "code",
   "execution_count": 68,
   "metadata": {},
   "outputs": [
    {
     "data": {
      "text/plain": [
       "0    400000\n",
       "1    811000\n",
       "2    585000\n",
       "3    462000\n",
       "4    790000\n",
       "Name: price, dtype: int64"
      ]
     },
     "execution_count": 68,
     "metadata": {},
     "output_type": "execute_result"
    }
   ],
   "source": [
    "cars['price'].head()"
   ]
  },
  {
   "cell_type": "markdown",
   "metadata": {},
   "source": [
    "### insurance"
   ]
  },
  {
   "cell_type": "code",
   "execution_count": 23,
   "metadata": {},
   "outputs": [
    {
     "data": {
      "text/plain": [
       "np.int64(4)"
      ]
     },
     "execution_count": 23,
     "metadata": {},
     "output_type": "execute_result"
    }
   ],
   "source": [
    "cars['Insurance Validity'].isna().sum()"
   ]
  },
  {
   "cell_type": "code",
   "execution_count": 34,
   "metadata": {},
   "outputs": [
    {
     "data": {
      "text/plain": [
       "array(['Third Party insurance', 'Comprehensive', 'Third Party',\n",
       "       'Zero Dep', nan, '2', '1', 'Not Available'], dtype=object)"
      ]
     },
     "execution_count": 34,
     "metadata": {},
     "output_type": "execute_result"
    }
   ],
   "source": [
    "cars['Insurance Validity'].unique()"
   ]
  },
  {
   "cell_type": "code",
   "execution_count": 24,
   "metadata": {},
   "outputs": [
    {
     "name": "stderr",
     "output_type": "stream",
     "text": [
      "C:\\Users\\SAM\\AppData\\Local\\Temp\\ipykernel_9712\\3599854368.py:1: FutureWarning: A value is trying to be set on a copy of a DataFrame or Series through chained assignment using an inplace method.\n",
      "The behavior will change in pandas 3.0. This inplace method will never work because the intermediate object on which we are setting values always behaves as a copy.\n",
      "\n",
      "For example, when doing 'df[col].method(value, inplace=True)', try using 'df.method({col: value}, inplace=True)' or df[col] = df[col].method(value) instead, to perform the operation inplace on the original object.\n",
      "\n",
      "\n",
      "  cars['Insurance Validity'].fillna(cars['Insurance Validity'].mode()[0], inplace=True)\n"
     ]
    }
   ],
   "source": [
    "cars['Insurance Validity'].fillna(cars['Insurance Validity'].mode()[0], inplace=True)\n"
   ]
  },
  {
   "cell_type": "code",
   "execution_count": 23,
   "metadata": {},
   "outputs": [
    {
     "data": {
      "text/plain": [
       "array(['Third Party insurance', 'Comprehensive', 'Third Party',\n",
       "       'Zero Dep', '2', '1', 'Not Available'], dtype=object)"
      ]
     },
     "execution_count": 23,
     "metadata": {},
     "output_type": "execute_result"
    }
   ],
   "source": [
    "cars['Insurance Validity'].unique()"
   ]
  },
  {
   "cell_type": "code",
   "execution_count": 25,
   "metadata": {},
   "outputs": [],
   "source": [
    "# Mapping numerical and other inconsistent values to valid categories\n",
    "cars['Insurance Validity'] = cars['Insurance Validity'].replace({\n",
    "    '1': 'Third Party',\n",
    "    '2': 'Comprehensive'\n",
    "    \n",
    "})\n"
   ]
  },
  {
   "cell_type": "code",
   "execution_count": 37,
   "metadata": {},
   "outputs": [
    {
     "data": {
      "text/plain": [
       "array(['Third Party insurance', 'Comprehensive', 'Third Party',\n",
       "       'Zero Dep', 'Not Available'], dtype=object)"
      ]
     },
     "execution_count": 37,
     "metadata": {},
     "output_type": "execute_result"
    }
   ],
   "source": [
    "cars['Insurance Validity'].unique()"
   ]
  },
  {
   "cell_type": "code",
   "execution_count": 20,
   "metadata": {},
   "outputs": [
    {
     "name": "stdout",
     "output_type": "stream",
     "text": [
      "<class 'pandas.core.frame.DataFrame'>\n",
      "RangeIndex: 8369 entries, 0 to 8368\n",
      "Data columns (total 78 columns):\n",
      " #   Column                                            Non-Null Count  Dtype  \n",
      "---  ------                                            --------------  -----  \n",
      " 0   it                                                8369 non-null   int64  \n",
      " 1   ft                                                8369 non-null   object \n",
      " 2   bt                                                8365 non-null   object \n",
      " 3   km                                                8369 non-null   int64  \n",
      " 4   transmission                                      8369 non-null   object \n",
      " 5   ownerNo                                           8369 non-null   int64  \n",
      " 6   owner                                             8369 non-null   object \n",
      " 7   oem                                               8369 non-null   object \n",
      " 8   model                                             8369 non-null   object \n",
      " 9   modelYear                                         8369 non-null   int64  \n",
      " 10  centralVariantId                                  8369 non-null   int64  \n",
      " 11  variantName                                       8369 non-null   object \n",
      " 12  price                                             8369 non-null   int64  \n",
      " 13  priceActual                                       1670 non-null   object \n",
      " 14  priceSaving                                       0 non-null      float64\n",
      " 15  priceFixedText                                    0 non-null      float64\n",
      " 16  trendingText                                      8369 non-null   object \n",
      " 17  heading                                           8369 non-null   object \n",
      " 18  Registration Year                                 8317 non-null   object \n",
      " 19  Insurance Validity                                8369 non-null   object \n",
      " 20  Fuel Type                                         8369 non-null   object \n",
      " 21  Seats                                             8363 non-null   object \n",
      " 22  Kms Driven                                        8367 non-null   object \n",
      " 23  RTO                                               7475 non-null   object \n",
      " 24  Ownership                                         8337 non-null   object \n",
      " 25  Engine Displacement                               8365 non-null   object \n",
      " 26  Transmission                                      8369 non-null   object \n",
      " 27  Year of Manufacture                               8349 non-null   float64\n",
      " 28  heading.1                                         8369 non-null   object \n",
      " 29  top_features                                      8304 non-null   object \n",
      " 30  Comfort & Convenience - Comfort                   8301 non-null   object \n",
      " 31  Interior - Interior                               8292 non-null   object \n",
      " 32  Exterior - Exterior                               8279 non-null   object \n",
      " 33  Safety - Safety                                   8273 non-null   object \n",
      " 34  Entertainment & Communication - Entertainment     7274 non-null   object \n",
      " 35  heading.2                                         8369 non-null   object \n",
      " 36  Mileage                                           8082 non-null   object \n",
      " 37  Engine                                            8365 non-null   object \n",
      " 38  Max Power                                         8309 non-null   object \n",
      " 39  Torque                                            8309 non-null   object \n",
      " 40  Seats.1                                           8363 non-null   float64\n",
      " 41  Engine and Transmission - Color                   8366 non-null   object \n",
      " 42  Engine and Transmission - Engine Type             8074 non-null   object \n",
      " 43  Engine and Transmission - Displacement            8365 non-null   float64\n",
      " 44  Engine and Transmission - Max Power               8309 non-null   object \n",
      " 45  Engine and Transmission - Max Torque              8309 non-null   object \n",
      " 46  Engine and Transmission - No of Cylinder          8338 non-null   float64\n",
      " 47  Engine and Transmission - Values per Cylinder     8318 non-null   float64\n",
      " 48  Engine and Transmission - Value Configuration     6153 non-null   object \n",
      " 49  Engine and Transmission - Fuel Suppy System       6642 non-null   object \n",
      " 50  Engine and Transmission - BoreX Stroke            2405 non-null   object \n",
      " 51  Engine and Transmission - Compression Ratio       1895 non-null   object \n",
      " 52  Engine and Transmission - Turbo Charger           7329 non-null   object \n",
      " 53  Engine and Transmission - Super Charger           6407 non-null   object \n",
      " 54  Dimensions & Capacity - Length                    8290 non-null   object \n",
      " 55  Dimensions & Capacity - Width                     8286 non-null   object \n",
      " 56  Dimensions & Capacity - Height                    8290 non-null   object \n",
      " 57  Dimensions & Capacity - Wheel Base                8206 non-null   object \n",
      " 58  Dimensions & Capacity - Front Tread               4811 non-null   object \n",
      " 59  Dimensions & Capacity - Rear Tread                4799 non-null   object \n",
      " 60  Dimensions & Capacity - Kerb Weight               8310 non-null   object \n",
      " 61  Dimensions & Capacity - Gross Weight              3828 non-null   object \n",
      " 62  Miscellaneous - Gear Box                          8263 non-null   object \n",
      " 63  Miscellaneous - Drive Type                        6809 non-null   object \n",
      " 64  Miscellaneous - Seating Capacity                  8363 non-null   float64\n",
      " 65  Miscellaneous - Steering Type                     8114 non-null   object \n",
      " 66  Miscellaneous - Turning Radius                    6769 non-null   object \n",
      " 67  Miscellaneous - Front Brake Type                  8273 non-null   object \n",
      " 68  Miscellaneous - Rear Brake Type                   8273 non-null   object \n",
      " 69  Miscellaneous - Top Speed                         4607 non-null   object \n",
      " 70  Miscellaneous - Acceleration                      4857 non-null   object \n",
      " 71  Miscellaneous - Tyre Type                         8292 non-null   object \n",
      " 72  Miscellaneous - No Door Numbers                   8358 non-null   float64\n",
      " 73  Miscellaneous - Cargo Volumn                      6776 non-null   object \n",
      " 74  Wheel Size                                        5386 non-null   object \n",
      " 75  Miscellaneous - Alloy Wheel Size                  5386 non-null   object \n",
      " 76  Dimensions & Capacity - Ground Clearance Unladen  515 non-null    object \n",
      " 77  city                                              8369 non-null   object \n",
      "dtypes: float64(9), int64(6), object(63)\n",
      "memory usage: 5.0+ MB\n"
     ]
    }
   ],
   "source": [
    "cars.info()"
   ]
  },
  {
   "cell_type": "code",
   "execution_count": 25,
   "metadata": {},
   "outputs": [
    {
     "data": {
      "text/plain": [
       "it                                                     0\n",
       "ft                                                     0\n",
       "bt                                                     0\n",
       "km                                                     0\n",
       "transmission                                           0\n",
       "                                                    ... \n",
       "Miscellaneous - Cargo Volumn                        1593\n",
       "Wheel Size                                          2983\n",
       "Miscellaneous - Alloy Wheel Size                    2983\n",
       "Dimensions & Capacity - Ground Clearance Unladen    7854\n",
       "city                                                   0\n",
       "Length: 78, dtype: int64"
      ]
     },
     "execution_count": 25,
     "metadata": {},
     "output_type": "execute_result"
    }
   ],
   "source": [
    "cars.isna().sum()"
   ]
  },
  {
   "cell_type": "code",
   "execution_count": 29,
   "metadata": {},
   "outputs": [
    {
     "data": {
      "text/plain": [
       "priceActual                                          80.045406\n",
       "priceSaving                                         100.000000\n",
       "priceFixedText                                      100.000000\n",
       "Registration Year                                     0.621341\n",
       "Seats                                                 0.071693\n",
       "Kms Driven                                            0.023898\n",
       "RTO                                                  10.682280\n",
       "Ownership                                             0.382363\n",
       "Engine Displacement                                   0.047795\n",
       "Year of Manufacture                                   0.238977\n",
       "top_features                                          0.776676\n",
       "Comfort & Convenience - Comfort                       0.812522\n",
       "Interior - Interior                                   0.920062\n",
       "Exterior - Exterior                                   1.075397\n",
       "Safety - Safety                                       1.147090\n",
       "Entertainment & Communication - Entertainment        13.084000\n",
       "Mileage                                               3.429322\n",
       "Engine                                                0.047795\n",
       "Max Power                                             0.716932\n",
       "Torque                                                0.716932\n",
       "Seats.1                                               0.071693\n",
       "Engine and Transmission - Color                       0.035847\n",
       "Engine and Transmission - Engine Type                 3.524913\n",
       "Engine and Transmission - Displacement                0.047795\n",
       "Engine and Transmission - Max Power                   0.716932\n",
       "Engine and Transmission - Max Torque                  0.716932\n",
       "Engine and Transmission - No of Cylinder              0.370415\n",
       "Engine and Transmission - Values per Cylinder         0.609392\n",
       "Engine and Transmission - Value Configuration        26.478671\n",
       "Engine and Transmission - Fuel Suppy System          20.635679\n",
       "Engine and Transmission - BoreX Stroke               71.262994\n",
       "Engine and Transmission - Compression Ratio          77.356912\n",
       "Engine and Transmission - Turbo Charger              12.426813\n",
       "Engine and Transmission - Super Charger              23.443661\n",
       "Dimensions & Capacity - Length                        0.943960\n",
       "Dimensions & Capacity - Width                         0.991755\n",
       "Dimensions & Capacity - Height                        0.943960\n",
       "Dimensions & Capacity - Wheel Base                    1.947664\n",
       "Dimensions & Capacity - Front Tread                  42.514040\n",
       "Dimensions & Capacity - Rear Tread                   42.657426\n",
       "Dimensions & Capacity - Kerb Weight                   0.704983\n",
       "Dimensions & Capacity - Gross Weight                 54.259768\n",
       "Miscellaneous - Gear Box                              1.266579\n",
       "Miscellaneous - Drive Type                           18.640220\n",
       "Miscellaneous - Seating Capacity                      0.071693\n",
       "Miscellaneous - Steering Type                         3.046959\n",
       "Miscellaneous - Turning Radius                       19.118174\n",
       "Miscellaneous - Front Brake Type                      1.147090\n",
       "Miscellaneous - Rear Brake Type                       1.147090\n",
       "Miscellaneous - Top Speed                            44.951607\n",
       "Miscellaneous - Acceleration                         41.964392\n",
       "Miscellaneous - Tyre Type                             0.920062\n",
       "Miscellaneous - No Door Numbers                       0.131437\n",
       "Miscellaneous - Cargo Volumn                         19.034532\n",
       "Wheel Size                                           35.643446\n",
       "Miscellaneous - Alloy Wheel Size                     35.643446\n",
       "Dimensions & Capacity - Ground Clearance Unladen     93.846338\n",
       "dtype: float64"
      ]
     },
     "execution_count": 29,
     "metadata": {},
     "output_type": "execute_result"
    }
   ],
   "source": [
    "\n",
    "\n",
    "# Calculate the percentage of missing values for each column\n",
    "missing_percentage = cars.isnull().mean() * 100\n",
    "\n",
    "# Display only the columns with missing values and their percentages\n",
    "missing_percentage = missing_percentage[missing_percentage > 0]\n",
    "\n",
    "missing_percentage\n"
   ]
  },
  {
   "cell_type": "code",
   "execution_count": 26,
   "metadata": {},
   "outputs": [
    {
     "data": {
      "text/plain": [
       "np.int64(4)"
      ]
     },
     "execution_count": 26,
     "metadata": {},
     "output_type": "execute_result"
    }
   ],
   "source": [
    "cars['Engine Displacement'].isna().sum()"
   ]
  },
  {
   "cell_type": "code",
   "execution_count": 32,
   "metadata": {},
   "outputs": [
    {
     "data": {
      "text/plain": [
       "array(['998 cc', '1497 cc', '1199 cc', '1197 cc', '1248 cc', '1956 cc',\n",
       "       '1198 cc', '1462 cc', '2179 cc', '1950 cc', '1396 cc', '1995 cc',\n",
       "       '1498 cc', '4663 cc', '1086 cc', '1991 cc', '1968 cc', '1998 cc',\n",
       "       '2982 cc', '1461 cc', '1797 cc', '796 cc', '1353 cc', '2925 cc',\n",
       "       '2987 cc', '2967 cc', '999 cc', '1341 cc', '1496 cc', '1582 cc',\n",
       "       '1798 cc', '1120 cc', '1969 cc', '1451 cc', '814 cc', '1999 cc',\n",
       "       '1591 cc', '1397 cc', '1368 cc', '1598 cc', '3198 cc', '1196 cc',\n",
       "       '2993 cc', '2755 cc', '2143 cc', '2354 cc', '1332 cc', '2199 cc',\n",
       "       '1997 cc', '1499 cc', '2148 cc', '2696 cc', '1364 cc', '2494 cc',\n",
       "       '1373 cc', '1299 cc', '1061 cc', '1493 cc', '2497 cc', '1495 cc',\n",
       "       '1590 cc', '1896 cc', '1330 cc', '1781 cc', '1390 cc', '1194 cc',\n",
       "       '2953 cc', '1399 cc', '1595 cc', nan, '2496 cc', '0 cc', '1984 cc',\n",
       "       '2694 cc', '1298 cc', '2362 cc', '970 cc', '2198 cc', '1599 cc',\n",
       "       '993 cc', '2393 cc', '1389 cc', '1597 cc', '2498 cc', '2523 cc',\n",
       "       '1586 cc', '995 cc', '2499 cc', '2998 cc', '72 cc', '1589 cc',\n",
       "       '624 cc', '1596 cc', '799 cc', '3597 cc', '2184 cc', '1405 cc',\n",
       "       '5000 cc', '1422 cc', '1047 cc', '2200 cc', '2996 cc', '1108 cc',\n",
       "       '2400 cc', '1996 cc', '1395 cc', '1186 cc', '1799 cc', '2999 cc',\n",
       "       '1482 cc', '793 cc', '936 cc', '4134 cc', '1796 cc', '1172 cc',\n",
       "       '1468 cc', '1193 cc', '2477 cc', '2997 cc', '2995 cc', '2487 cc',\n",
       "       '1794 cc', '3456 cc', '2360 cc', '3982 cc', '2894 cc', '3346 cc',\n",
       "       '3498 cc', '2979 cc', '1349 cc', '2157 cc', '1985 cc', '2112 cc',\n",
       "       '2446 cc', '2359 cc', '2609 cc', '2956 cc', '2231 cc', '2835 cc',\n",
       "       '1150 cc', '1343 cc', '2981 cc', '4395 cc', '1817 cc', '3993 cc',\n",
       "       '1948 cc', '4806 cc', '2994 cc', '1993 cc', '1490 cc', '2489 cc'],\n",
       "      dtype=object)"
      ]
     },
     "execution_count": 32,
     "metadata": {},
     "output_type": "execute_result"
    }
   ],
   "source": [
    "cars['Engine Displacement'].unique()"
   ]
  },
  {
   "cell_type": "code",
   "execution_count": 27,
   "metadata": {},
   "outputs": [
    {
     "data": {
      "text/plain": [
       "0    1197 cc\n",
       "Name: Engine Displacement, dtype: object"
      ]
     },
     "execution_count": 27,
     "metadata": {},
     "output_type": "execute_result"
    }
   ],
   "source": [
    "md=cars['Engine Displacement'].mode()\n",
    "md"
   ]
  },
  {
   "cell_type": "code",
   "execution_count": 10,
   "metadata": {},
   "outputs": [
    {
     "data": {
      "text/plain": [
       "array([ 998., 1497., 1199., 1197., 1248., 1956., 1198., 1462., 2179.,\n",
       "       1950., 1396., 1995., 1498., 4663., 1086., 1991., 1968., 1998.,\n",
       "       2982., 1461., 1797.,  796., 1353., 2925., 2987., 2967.,  999.,\n",
       "       1341., 1496., 1582., 1798., 1120., 1969., 1451.,  814., 1999.,\n",
       "       1591., 1397., 1368., 1598., 3198., 1196., 2993., 2755., 2143.,\n",
       "       2354., 1332., 2199., 1997., 1499., 2148., 2696., 1364., 2494.,\n",
       "       1373., 1299., 1061., 1493., 2497., 1495., 1590., 1896., 1330.,\n",
       "       1781., 1390., 1194., 2953., 1399., 1595.,   nan, 2496.,    0.,\n",
       "       1984., 2694., 1298., 2362.,  970., 2198., 1599.,  993., 2393.,\n",
       "       1389., 1597., 2498., 2523., 1586.,  995., 2499., 2998.,   72.,\n",
       "       1589.,  624., 1596.,  799., 3597., 2184., 1405., 5000., 1422.,\n",
       "       1047., 2200., 2996., 1108., 2400., 1996., 1395., 1186., 1799.,\n",
       "       2999., 1482.,  793.,  936., 4134., 1796., 1172., 1468., 1193.,\n",
       "       2477., 2997., 2995., 2487., 1794., 3456., 2360., 3982., 2894.,\n",
       "       3346., 3498., 2979., 1349., 2157., 1985., 2112., 2446., 2359.,\n",
       "       2609., 2956., 2231., 2835., 1150., 1343., 2981., 4395., 1817.,\n",
       "       3993., 1948., 4806., 2994., 1993., 1490., 2489.])"
      ]
     },
     "execution_count": 10,
     "metadata": {},
     "output_type": "execute_result"
    }
   ],
   "source": [
    "cars['Engine and Transmission - Displacement'].unique()"
   ]
  },
  {
   "cell_type": "code",
   "execution_count": 28,
   "metadata": {},
   "outputs": [
    {
     "data": {
      "text/plain": [
       "np.int64(4)"
      ]
     },
     "execution_count": 28,
     "metadata": {},
     "output_type": "execute_result"
    }
   ],
   "source": [
    "cars['Engine and Transmission - Displacement'].isna().sum()"
   ]
  },
  {
   "cell_type": "code",
   "execution_count": 29,
   "metadata": {},
   "outputs": [
    {
     "data": {
      "text/plain": [
       "np.float64(1248.0)"
      ]
     },
     "execution_count": 29,
     "metadata": {},
     "output_type": "execute_result"
    }
   ],
   "source": [
    "med=cars['Engine and Transmission - Displacement'].median()\n",
    "med"
   ]
  },
  {
   "cell_type": "code",
   "execution_count": 30,
   "metadata": {},
   "outputs": [
    {
     "name": "stderr",
     "output_type": "stream",
     "text": [
      "C:\\Users\\SAM\\AppData\\Local\\Temp\\ipykernel_9712\\1127371508.py:1: FutureWarning: A value is trying to be set on a copy of a DataFrame or Series through chained assignment using an inplace method.\n",
      "The behavior will change in pandas 3.0. This inplace method will never work because the intermediate object on which we are setting values always behaves as a copy.\n",
      "\n",
      "For example, when doing 'df[col].method(value, inplace=True)', try using 'df.method({col: value}, inplace=True)' or df[col] = df[col].method(value) instead, to perform the operation inplace on the original object.\n",
      "\n",
      "\n",
      "  cars['Engine and Transmission - Displacement'].fillna(med, inplace=True)\n"
     ]
    }
   ],
   "source": [
    "cars['Engine and Transmission - Displacement'].fillna(med, inplace=True)"
   ]
  },
  {
   "cell_type": "code",
   "execution_count": 31,
   "metadata": {},
   "outputs": [
    {
     "data": {
      "text/plain": [
       "np.int64(0)"
      ]
     },
     "execution_count": 31,
     "metadata": {},
     "output_type": "execute_result"
    }
   ],
   "source": [
    "cars['Engine and Transmission - Displacement'].isna().sum()"
   ]
  },
  {
   "cell_type": "markdown",
   "metadata": {},
   "source": [
    "### oem"
   ]
  },
  {
   "cell_type": "code",
   "execution_count": 32,
   "metadata": {},
   "outputs": [
    {
     "data": {
      "text/plain": [
       "np.int64(0)"
      ]
     },
     "execution_count": 32,
     "metadata": {},
     "output_type": "execute_result"
    }
   ],
   "source": [
    "cars['oem'].isna().sum()"
   ]
  },
  {
   "cell_type": "code",
   "execution_count": 39,
   "metadata": {},
   "outputs": [
    {
     "data": {
      "text/plain": [
       "array(['Maruti', 'Ford', 'Tata', 'Hyundai', 'Jeep', 'Datsun', 'Honda',\n",
       "       'Mahindra', 'Mercedes-Benz', 'BMW', 'Renault', 'Audi', 'Toyota',\n",
       "       'Mini', 'Kia', 'Skoda', 'Volkswagen', 'Volvo', 'MG', 'Nissan',\n",
       "       'Fiat', 'Mahindra Ssangyong', 'Mitsubishi', 'Jaguar', 'Land Rover',\n",
       "       'Chevrolet', 'Citroen', 'Opel', 'Mahindra Renault', 'Isuzu',\n",
       "       'Lexus', 'Porsche', 'Hindustan Motors'], dtype=object)"
      ]
     },
     "execution_count": 39,
     "metadata": {},
     "output_type": "execute_result"
    }
   ],
   "source": [
    "cars['oem'].unique()"
   ]
  },
  {
   "cell_type": "code",
   "execution_count": 33,
   "metadata": {},
   "outputs": [],
   "source": [
    "cars['oem'] = cars['oem'].replace({\n",
    "    'Mahindra Renault': 'Renault',\n",
    "    'Mahindra Ssangyong': 'Ssangyong'\n",
    "})"
   ]
  },
  {
   "cell_type": "markdown",
   "metadata": {},
   "source": [
    "### 'Miscellaneous - Gear Box'"
   ]
  },
  {
   "cell_type": "code",
   "execution_count": 34,
   "metadata": {},
   "outputs": [
    {
     "data": {
      "text/plain": [
       "np.int64(106)"
      ]
     },
     "execution_count": 34,
     "metadata": {},
     "output_type": "execute_result"
    }
   ],
   "source": [
    "cars['Miscellaneous - Gear Box'].isna().sum()"
   ]
  },
  {
   "cell_type": "code",
   "execution_count": 42,
   "metadata": {},
   "outputs": [
    {
     "data": {
      "text/plain": [
       "array(['5 Speed ', '5 Speed', '6 Speed', '7-Speed', '4 Speed', '6 Speed ',\n",
       "       '8G-DCT', '5-Speed', '7 Speed', '9 Speed', '8 Speed',\n",
       "       '8-Speed Steptronic', '6-Speed', '7-Speed DCT', '9-Speed',\n",
       "       '8 Speed Tiptronic', '5', '6 Speed IMT', '6-speed AutoSHIFT',\n",
       "       '6-speed CVT', 'CVT', '6-speed', '7-speed DCT', '7 Speed DSG',\n",
       "       '7 Speed DCT', '6', '8-Speed', '5-speed', '6 speed ',\n",
       "       '8-Speed Steptronic Sport Automatic Transmission', '5 speed',\n",
       "       '7 Speed CVT', 'Five Speed Manual', '5 Speed CVT', nan,\n",
       "       '6 Speed AT', '6-Speed iMT', '6-Speed DCT', '7-Speed S-Tronic ',\n",
       "       '7G DCT 7-Speed Dual Clutch Transmission ', '7-Speed S-Tronic',\n",
       "       '5-Speed`', '9 speed Tronic', '6-Speed IVT', 'Direct Drive',\n",
       "       '6 Speed IVT', 'IVT', '8 Speed CVT',\n",
       "       'Five Speed Manual Transmission', '5 Speed AT+ Paddle Shifters',\n",
       "       '8-Speed ', 'iMT', 'AGS', '6Speed', '4-Speed', '6-Speed IMT',\n",
       "       '6 Speed MT', '6 Speed iMT', '7 Speed ', 'Five Speed', '4 Speed ',\n",
       "       '7-speed', '6-Speed AT', '9G-TRONIC', '9G-TRONIC automatic',\n",
       "       '7-Speed DSG', 'Six Speed Manual', '8 Speed Sport',\n",
       "       '6 Speed with Sequential Shift', '6-speed IVT',\n",
       "       '7-Speed Steptronic', '8', '8-speed',\n",
       "       'Five Speed Manual Transmission Gearbox', 'AMG SPEEDSHIFT DCT 8G',\n",
       "       'AMG 7-SPEED DCT', 'E-CVT', '8 Speed ', '7-speed Stronic',\n",
       "       '8 speed', '8-Speed Automatic Transmission',\n",
       "       'Six Speed Manual with Paddle Shifter', '7 Speed Steptronic Sport',\n",
       "       '4-speed', '6-speed DCT', '9-speed automatic', 'SPEEDSHIFT TCT 9G',\n",
       "       '7 Speed 7G-DCT', '7-speed PDK', '8Speed',\n",
       "       '8-speed Steptronic Automatic', '10-speed Automatic',\n",
       "       'Six Speed Automatic Transmission', '9G TRONIC', '5-Speed ',\n",
       "       '7-Speed DCT Steptronic', '8-Speed DCT',\n",
       "       'Mercedes Benz 7 Speed Automatic', '10 speed', '6-speed iMT',\n",
       "       '7 speed', '6 speed automatic', '7G-DCT',\n",
       "       'Six Speed Geartronic, Six Speed Automati',\n",
       "       '5 Speed Manual (Cable Type Gear Shift)',\n",
       "       'Six Speed Automatic Gearbox', '10 Speed', 'Fully Automatic',\n",
       "       'Single-speed transmission', 'Six Speed  Gearbox',\n",
       "       '5 Speed Forward, 1 Reverse', '7 Speed S tronic',\n",
       "       'Single speed reduction gear', 'Single Speed', '5 speed manual',\n",
       "       '9 -speed', '8-speed tiptronic', '7-Speed S tronic', 'eCVT'],\n",
       "      dtype=object)"
      ]
     },
     "execution_count": 42,
     "metadata": {},
     "output_type": "execute_result"
    }
   ],
   "source": [
    "cars['Miscellaneous - Gear Box'].unique()"
   ]
  },
  {
   "cell_type": "code",
   "execution_count": 35,
   "metadata": {},
   "outputs": [],
   "source": [
    "# Extract numeric part using regex directly with raw string\n",
    "cars['Miscellaneous - Gear Box'] = cars['Miscellaneous - Gear Box'].astype(str).str.extract(r'(\\d+)', expand=False)\n",
    "\n",
    "# Convert extracted values to numeric type\n",
    "cars['Miscellaneous - Gear Box'] = pd.to_numeric(cars['Miscellaneous - Gear Box'], errors='coerce')"
   ]
  },
  {
   "cell_type": "code",
   "execution_count": 45,
   "metadata": {},
   "outputs": [
    {
     "data": {
      "text/plain": [
       "array([ 5.,  6.,  7.,  4.,  8.,  9., nan, 10.])"
      ]
     },
     "execution_count": 45,
     "metadata": {},
     "output_type": "execute_result"
    }
   ],
   "source": [
    "cars['Miscellaneous - Gear Box'].unique()"
   ]
  },
  {
   "cell_type": "code",
   "execution_count": 36,
   "metadata": {},
   "outputs": [
    {
     "data": {
      "text/plain": [
       "np.float64(5.0)"
      ]
     },
     "execution_count": 36,
     "metadata": {},
     "output_type": "execute_result"
    }
   ],
   "source": [
    "cars['Miscellaneous - Gear Box'].median()"
   ]
  },
  {
   "cell_type": "code",
   "execution_count": 37,
   "metadata": {},
   "outputs": [
    {
     "name": "stderr",
     "output_type": "stream",
     "text": [
      "C:\\Users\\SAM\\AppData\\Local\\Temp\\ipykernel_9712\\1713980619.py:4: FutureWarning: A value is trying to be set on a copy of a DataFrame or Series through chained assignment using an inplace method.\n",
      "The behavior will change in pandas 3.0. This inplace method will never work because the intermediate object on which we are setting values always behaves as a copy.\n",
      "\n",
      "For example, when doing 'df[col].method(value, inplace=True)', try using 'df.method({col: value}, inplace=True)' or df[col] = df[col].method(value) instead, to perform the operation inplace on the original object.\n",
      "\n",
      "\n",
      "  cars['Miscellaneous - Gear Box'].fillna(medi, inplace=True)\n"
     ]
    }
   ],
   "source": [
    "medi = cars['Miscellaneous - Gear Box'].median()\n",
    "\n",
    "# Fill NaN values with the mode\n",
    "cars['Miscellaneous - Gear Box'].fillna(medi, inplace=True)\n"
   ]
  },
  {
   "cell_type": "code",
   "execution_count": 38,
   "metadata": {},
   "outputs": [
    {
     "data": {
      "text/plain": [
       "array([ 5.,  6.,  7.,  4.,  8.,  9., 10.])"
      ]
     },
     "execution_count": 38,
     "metadata": {},
     "output_type": "execute_result"
    }
   ],
   "source": [
    "cars['Miscellaneous - Gear Box'].unique()"
   ]
  },
  {
   "cell_type": "code",
   "execution_count": 39,
   "metadata": {},
   "outputs": [],
   "source": [
    "cars['Miscellaneous - Gear Box'] = cars['Miscellaneous - Gear Box'].astype(int)"
   ]
  },
  {
   "cell_type": "code",
   "execution_count": 40,
   "metadata": {},
   "outputs": [
    {
     "data": {
      "text/plain": [
       "dtype('int64')"
      ]
     },
     "execution_count": 40,
     "metadata": {},
     "output_type": "execute_result"
    }
   ],
   "source": [
    "cars['Miscellaneous - Gear Box'].dtype"
   ]
  },
  {
   "cell_type": "markdown",
   "metadata": {},
   "source": [
    "### 'Mileage'"
   ]
  },
  {
   "cell_type": "code",
   "execution_count": 41,
   "metadata": {},
   "outputs": [
    {
     "data": {
      "text/plain": [
       "np.int64(287)"
      ]
     },
     "execution_count": 41,
     "metadata": {},
     "output_type": "execute_result"
    }
   ],
   "source": [
    "cars['Mileage'].isna().sum()"
   ]
  },
  {
   "cell_type": "code",
   "execution_count": 55,
   "metadata": {},
   "outputs": [
    {
     "data": {
      "text/plain": [
       "array(['23.1 kmpl', '17 kmpl', '23.84 kmpl', '19.1 kmpl', '23.65 kmpl',\n",
       "       '17.1 kmpl', '20.63 kmpl', '18.15 kmpl', '20.28 kmpl', '21.4 kmpl',\n",
       "       '18.9 kmpl', '18.2 kmpl', '15.1 kmpl', nan, '21.27 kmpl',\n",
       "       '17.33 kmpl', '17.8 kmpl', '18.48 kmpl', '22.38 kmpl',\n",
       "       '16.42 kmpl', '7.81 kmpl', '17.4 kmpl', '20.3 kmpl', '13.45 kmpl',\n",
       "       '15 kmpl', '17.11 kmpl', '20.14 kmpl', '20.51 kmpl', '19.34 kmpl',\n",
       "       '12.6 kmpl', '15.56 kmpl', '11.5 kmpl', '19.87 kmpl', '18.6 kmpl',\n",
       "       '22.54 kmpl', '16.3 kmpl', '18.53 kmpl', '22.05 kmpl',\n",
       "       '12.05 kmpl', '16.5 kmpl', '19.7 kmpl', '11.3 kmpl', '14.08 kmpl',\n",
       "       '12.07 kmpl', '22 kmpl', '21.5 kmpl', '15.3 kmpl', '26.68 kmpl',\n",
       "       '21.14 kmpl', '15.9 kmpl', '19.67 kmpl', '14.6 kmpl', '28.4 kmpl',\n",
       "       '21.76 kmpl', '26.21 kmpl', '19 kmpl', '19.98 kmpl', '18.5 kmpl',\n",
       "       '20 kmpl', '16.8 kmpl', '17.2 kmpl', '21.13 kmpl', '24 kmpl',\n",
       "       '25.32 kmpl', '16.55 kmpl', '19.2 kmpl', '24.04 kmpl',\n",
       "       '27.03 kmpl', '16.56 kmpl', '19.4 kmpl', '19.56 kmpl',\n",
       "       '20.92 kmpl', '19.03 kmpl', '21.1 kmpl', '18.19 kmpl',\n",
       "       '17.41 kmpl', '14.2 kmpl', '19.81 kmpl', '14.8 kmpl', '16 kmpl',\n",
       "       '18.4 kmpl', '13.2 kmpl', '14.1 kmpl', '20.36 kmpl', '13.24 kmpl',\n",
       "       '14.16 kmpl', '24.39 kmpl', '10.91 kmpl', '18.16 kmpl',\n",
       "       '20.89 kmpl', '18.1 kmpl', '16.35 kmpl', '15.97 kmpl',\n",
       "       '16.07 kmpl', '16.38 kmpl', '14.24 kmpl', '17.9 kmpl',\n",
       "       '19.01 kmpl', '25.2 kmpl', '19.6 kmpl', '18 kmpl', '17.21 kmpl',\n",
       "       '11.1 kmpl', '11.4 kmpl', '11.72 kmpl', '13.32 kmpl', '20.37 kmpl',\n",
       "       '24.3 kmpl', '18.27 kmpl', '20.45 kmpl', '18.7 kmpl', '22.41 kmpl',\n",
       "       '20.77 kmpl', '15.63 kmpl', '20.54 kmpl', '21.19 kmpl',\n",
       "       '27.39 kmpl', '17.92 kmpl', '26 kmpl', '10 kmpl', '17.5 kmpl',\n",
       "       '11.18 kmpl', '23 kmpl', '17.57 kmpl', '14.21 kmpl', '21.43 kmpl',\n",
       "       '20.65 kmpl', '22.9 kmpl', '14.5 kmpl', '12.99 kmpl', '19.12 kmpl',\n",
       "       '13.8 kmpl', '13.38 kmpl', '14.7 kmpl', '16.36 kmpl', '18.24 kmpl',\n",
       "       '21.56 kmpl', '20.38 kmpl', '23.7 kmpl', '20.08 kmpl', '10.9 kmpl',\n",
       "       '21.21 kmpl', '15.43 kmpl', '21.74 kmpl', '23.95 kmpl',\n",
       "       '19.27 kmpl', '15.4 kmpl', '22.07 kmpl', '20.85 kmpl',\n",
       "       '17.01 kmpl', '14.11 kmpl', '22.56 kmpl', '20.5 kmpl', '20.4 kmpl',\n",
       "       '20.73 kmpl', '15.6 kmpl', '14.67 kmpl', '19.3 kmpl', '14.71 kmpl',\n",
       "       '17.69 kmpl', '13.6 kmpl', '21.72 kmpl', '12.51 kmpl', '16.2 kmpl',\n",
       "       '13 kmpl', '17.74 kmpl', '12.55 kmpl', '12.8 kmpl', '22.35 kmpl',\n",
       "       '22.77 kmpl', '25.24 kmpl', '17.7 kmpl', '13.06 kmpl', '12.3 kmpl',\n",
       "       '17.14 kmpl', '21.03 kmpl', '21.7 kmpl', '23.2 kmpl', '14.69 kmpl',\n",
       "       '22.5 kmpl', '20.52 kmpl', '21.46 kmpl', '22.69 kmpl',\n",
       "       '22.32 kmpl', '21.01 kmpl', '24.4 kmpl', '17.42 kmpl',\n",
       "       '18.56 kmpl', '15.73 kmpl', '17.68 kmpl', '16.13 kmpl',\n",
       "       '13.79 kmpl', '18.25 kmpl', '18.3 kmpl', '15.5 kmpl', '15.17 kmpl',\n",
       "       '14.99 kmpl', '11.9 kmpl', '15.29 kmpl', '16.09 kmpl',\n",
       "       '16.47 kmpl', '20.09 kmpl', '21.63 kmpl', '15.26 kmpl',\n",
       "       '11.57 kmpl', '17.03 kmpl', '20.8 kmpl', '17.19 kmpl', '12 kmpl',\n",
       "       '23.9 kmpl', '20.04 kmpl', '110 kmpl', '14.59 kmpl', '14 kmpl',\n",
       "       '18.45 kmpl', '16.96 kmpl', '12.65 kmpl', '19.33 kmpl',\n",
       "       '19.65 kmpl', '22.15 kmpl', '25 kmpl', '14.82 kmpl', '10.75 kmpl',\n",
       "       '21.73 kmpl', '8 kmpl', '16.1 kmpl', '20.68 kmpl', '22.7 kmpl',\n",
       "       '11.36 kmpl', '13.4 kmpl', '18.49 kmpl', '14.28 kmpl',\n",
       "       '17.88 kmpl', '16.11 kmpl', '20.7 kmpl', '16.82 kmpl', '17.3 kmpl',\n",
       "       '20.46 kmpl', '12.35 kmpl', '15.04 kmpl', '18.75 kmpl',\n",
       "       '15.2 kmpl', '18.12 kmpl', '18.06 kmpl', '11.7 kmpl', '20.1 kmpl',\n",
       "       '22.74 kmpl', '28.09 kmpl', '17.67 kmpl', '20.88 km/kg',\n",
       "       '26.11 kmpl', '22.1 kmpl', '13.5 kmpl', '24.52 kmpl', '20.25 kmpl',\n",
       "       '13.58 kmpl', '10.54 kmpl', '15.7 kmpl', '19.64 kmpl', '140 kmpl',\n",
       "       '13.68 kmpl', '16.24 kmpl', '26.59 kmpl', '13.7 kmpl', '17.6 kmpl',\n",
       "       '19.69 kmpl', '15.41 kmpl', '14.9 kmpl', '17.52 kmpl',\n",
       "       '17.05 kmpl', '24.7 kmpl', '21.9 kmpl', '25.4 kmpl', '19.47 kmpl',\n",
       "       '21.66 kmpl', '25.8 kmpl', '10.5 kmpl', '14.4 kmpl', '9 kmpl',\n",
       "       '19.09 kmpl', '23.01 kmpl', '22.25 kmpl', '27.28 kmpl',\n",
       "       '21.64 kmpl', '22.61 kmpl', '15.8 kmpl', '18.09 kmpl',\n",
       "       '19.28 kmpl', '18.78 kmpl', '11.74 kmpl', '8.9 kmpl', '15.85 kmpl',\n",
       "       '18.76 kmpl', '16.95 kmpl', '23.59 kmpl', '14.84 kmpl',\n",
       "       '19.5 kmpl', '21 kmpl', '15.96 kmpl', '27.3 kmpl', '18.88 kmpl',\n",
       "       '13.93 kmpl', '14.74 kmpl', '16.4 kmpl', '16.28 kmpl',\n",
       "       '20.86 kmpl', '18.07 kmpl', '21.79 kmpl', '16.6 kmpl', '13.9 kmpl',\n",
       "       '26.1 kmpl', '13.92 kmpl', '18.55 kmpl', '14.02 kmpl',\n",
       "       '31.59 km/kg', '19.72 kmpl', '14.57 kmpl', '21.8 kmpl',\n",
       "       '15.37 kmpl', '13.53 kmpl', '14.53 kmpl', '13.22 kmpl',\n",
       "       '25.5 kmpl', '14.75 kmpl', '16.46 kmpl', '19.02 kmpl',\n",
       "       '18.41 kmpl', '23.8 kmpl', '14.3 kmpl', '17.99 kmpl', '15.81 kmpl',\n",
       "       '15.34 kmpl', '19.08 kmpl', '18.86 kmpl', '19.49 kmpl',\n",
       "       '22.95 kmpl', '25.17 kmpl', '16.14 kmpl', '17.09 kmpl',\n",
       "       '18.97 kmpl', '12.08 kmpl', '16.78 kmpl', '19.23 kmpl', '8.5 kmpl',\n",
       "       '25.6 kmpl', '22.3 kmpl', '18.72 kmpl', '13.96 kmpl', '16.65 kmpl',\n",
       "       '12.62 kmpl', '19.44 kmpl', '14.62 kmpl', '23.64 kmpl',\n",
       "       '19.71 kmpl', '13.17 kmpl', '19.15 kmpl', '23.56 kmpl',\n",
       "       '23.4 kmpl', '19.62 kmpl', '16.25 kmpl', '27.62 kmpl',\n",
       "       '25.44 kmpl', '20.71 kmpl', '9.8 kmpl', '13.14 kmpl', '11.33 kmpl',\n",
       "       '25.19 kmpl', '24.29 kmpl', '19.16 kmpl', '16.73 kmpl',\n",
       "       '19.83 kmpl', '25.83 kmpl', '12.2 kmpl', '12.78 kmpl',\n",
       "       '14.49 kmpl', '20.58 kmpl', '24.35 kmpl', '14.19 kmpl',\n",
       "       '12.7 kmpl', '26.49 km/kg', '16.98 kmpl', '16.02 kmpl',\n",
       "       '18.05 kmpl', '24.2 kmpl', '15.64 kmpl', '19.19 kmpl',\n",
       "       '13.01 kmpl', '12.83 kmpl', '11.24 kmpl', '12.18 kmpl',\n",
       "       '18.8 kmpl', '26.2 kmpl', '23.08 kmpl', '22.37 kmpl', '16.9 kmpl',\n",
       "       '19.59 kmpl', '14.85 kmpl', '12.74 kmpl', '28 km/kg', '12.4 kmpl',\n",
       "       '12.5 kmpl', '14.025 kmpl', '19.89 kmpl', '30.48 km/kg',\n",
       "       '33.54 kmpl', '19.61 kmpl', '26.08 km/kg', '12.1 kmpl',\n",
       "       '12.81 kmpl', '9.2 kmpl', '17.71 kmpl', '16.34 kmpl', '30.46 kmpl',\n",
       "       '32.52 kmpl', '11.21 kmpl', '16.39 kmpl', '11.2 kmpl',\n",
       "       '12.04 kmpl', '11.67 kmpl', '16.12 kmpl', '26.55 kmpl',\n",
       "       '7.08 kmpl', '31.2 kmpl', '12.33 kmpl', '31.79 kmpl', '11 kmpl',\n",
       "       '8.13 kmpl', '35.6 km/kg', '16.72 kmpl', '25.1 kmpl', '22.48 kmpl',\n",
       "       '20.6 kmpl', '14.01 kmpl', '17.38 kmpl', '12.34 kmpl', '10.8 kmpl',\n",
       "       '9.26 kmpl', '12.95 kmpl', '12.9 kmpl', '16.7 kmpl', '15.68 kmpl',\n",
       "       '10.4 kmpl', '20.15 kmpl', '31.12 km/kg', '26.8 kmpl',\n",
       "       '11.88 kmpl', '18.69 kmpl', '18.9 km/kg', '22.27 kmpl',\n",
       "       '15.01 kmpl', '10.26 kmpl', '19.39 kmpl', '14.34 kmpl',\n",
       "       '8.45 kmpl', '26.11 km/kg', '12.63 kmpl', '26.6 kmpl',\n",
       "       '13.47 kmpl', '10.13 kmpl', '20.27 kmpl', '14.09 kmpl',\n",
       "       '20.01 kmpl', '14.47 kmpl', '10.93 kmpl', '26.6 km/kg',\n",
       "       '26.83 kmpl', '31.12 kmpl', '24.76 kmpl', '21.11 kmpl',\n",
       "       '14.23 kmpl', '26.82 kmpl', '17.32 kmpl', '25.3 kmpl',\n",
       "       '19.95 kmpl', '21.12 kmpl', '11.96 kmpl', '21.02 kmpl',\n",
       "       '19.68 kmpl', '18.23 kmpl', '23.22 kmpl', '17.97 kmpl',\n",
       "       '16.97 kmpl', '13.33 kmpl', '27.4 kmpl', '26.5 kmpl', '25.01 kmpl',\n",
       "       '17.43 kmpl', '22.71 kmpl', '20.34 kmpl', '24.1 kmpl',\n",
       "       '30.47 km/kg', '17.29 kmpl', '21.49 kmpl', '13.1 kmpl',\n",
       "       '21.1 km/kg', '18.43 kmpl', '12.12 kmpl', '9.74 kmpl',\n",
       "       '16.77 kmpl', '19.17 kmpl', '21.38 kmpl', '23.57 kmpl',\n",
       "       '24.8 kmpl', '7.94 kmpl', '26.49 kmpl', '25.47 kmpl', '18.33 kmpl',\n",
       "       '9.4 kmpl', '7.5 kmpl', '13.44 kmpl', '14.94 kmpl', '23.03 kmpl',\n",
       "       '15.39 kmpl', '24.97 kmpl', '34.05 kmpl', '17.85 kmpl',\n",
       "       '27.97 kmpl', '20.62 kmpl', '15.15 kmpl', '19.8 kmpl',\n",
       "       '14.95 kmpl', '11.81 kmpl', '12.98 kmpl'], dtype=object)"
      ]
     },
     "execution_count": 55,
     "metadata": {},
     "output_type": "execute_result"
    }
   ],
   "source": [
    "cars['Mileage'].unique()"
   ]
  },
  {
   "cell_type": "code",
   "execution_count": 42,
   "metadata": {},
   "outputs": [
    {
     "data": {
      "text/plain": [
       "0    18.9 kmpl\n",
       "Name: Mileage, dtype: object"
      ]
     },
     "execution_count": 42,
     "metadata": {},
     "output_type": "execute_result"
    }
   ],
   "source": [
    "cars['Mileage'].mode()"
   ]
  },
  {
   "cell_type": "code",
   "execution_count": 43,
   "metadata": {},
   "outputs": [
    {
     "name": "stderr",
     "output_type": "stream",
     "text": [
      "C:\\Users\\SAM\\AppData\\Local\\Temp\\ipykernel_9712\\3373462170.py:3: FutureWarning: A value is trying to be set on a copy of a DataFrame or Series through chained assignment using an inplace method.\n",
      "The behavior will change in pandas 3.0. This inplace method will never work because the intermediate object on which we are setting values always behaves as a copy.\n",
      "\n",
      "For example, when doing 'df[col].method(value, inplace=True)', try using 'df.method({col: value}, inplace=True)' or df[col] = df[col].method(value) instead, to perform the operation inplace on the original object.\n",
      "\n",
      "\n",
      "  cars['Mileage'].fillna(median_mileage, inplace=True)\n",
      "C:\\Users\\SAM\\AppData\\Local\\Temp\\ipykernel_9712\\3373462170.py:17: FutureWarning: ChainedAssignmentError: behaviour will change in pandas 3.0!\n",
      "You are setting values through chained assignment. Currently this works in certain cases, but when using Copy-on-Write (which will become the default behaviour in pandas 3.0) this will never work to update the original DataFrame or Series, because the intermediate object on which we are setting values will behave as a copy.\n",
      "A typical example is when you are setting values in a column of a DataFrame, like:\n",
      "\n",
      "df[\"col\"][row_indexer] = value\n",
      "\n",
      "Use `df.loc[row_indexer, \"col\"] = values` instead, to perform the assignment in a single step and ensure this keeps updating the original `df`.\n",
      "\n",
      "See the caveats in the documentation: https://pandas.pydata.org/pandas-docs/stable/user_guide/indexing.html#returning-a-view-versus-a-copy\n",
      "\n",
      "  cars['Mileage'].iloc[i] = float(value.replace(' kmpl', '').strip())\n",
      "C:\\Users\\SAM\\AppData\\Local\\Temp\\ipykernel_9712\\3373462170.py:15: FutureWarning: ChainedAssignmentError: behaviour will change in pandas 3.0!\n",
      "You are setting values through chained assignment. Currently this works in certain cases, but when using Copy-on-Write (which will become the default behaviour in pandas 3.0) this will never work to update the original DataFrame or Series, because the intermediate object on which we are setting values will behave as a copy.\n",
      "A typical example is when you are setting values in a column of a DataFrame, like:\n",
      "\n",
      "df[\"col\"][row_indexer] = value\n",
      "\n",
      "Use `df.loc[row_indexer, \"col\"] = values` instead, to perform the assignment in a single step and ensure this keeps updating the original `df`.\n",
      "\n",
      "See the caveats in the documentation: https://pandas.pydata.org/pandas-docs/stable/user_guide/indexing.html#returning-a-view-versus-a-copy\n",
      "\n",
      "  cars['Mileage'].iloc[i] = float(value.replace(' km/kg', '').strip())\n"
     ]
    },
    {
     "data": {
      "text/plain": [
       "0    23.10\n",
       "1    17.00\n",
       "2    23.84\n",
       "3    19.10\n",
       "4    23.65\n",
       "Name: Mileage, dtype: float64"
      ]
     },
     "execution_count": 43,
     "metadata": {},
     "output_type": "execute_result"
    }
   ],
   "source": [
    "\n",
    "\n",
    "\n",
    "# 1. Handle Missing Values\n",
    "median_mileage = cars['Mileage'].dropna().mode()[0]  # Use mode to fill missing values\n",
    "cars['Mileage'].fillna(median_mileage, inplace=True)\n",
    "\n",
    "# 2. Convert Units (if necessary)\n",
    "# Conversion factor from km/kg to kmpl\n",
    "#conversion_factor = 20\n",
    "\n",
    "# 3. Clean and Convert Mileage Values\n",
    "for i in range(len(cars)):\n",
    "    value = cars['Mileage'].iloc[i]\n",
    "    if isinstance(value, str):\n",
    "        # Replace 'km/kg' and convert to 'kmpl'\n",
    "        if 'km/kg' in value:\n",
    "            cars['Mileage'].iloc[i] = float(value.replace(' km/kg', '').strip()) \n",
    "        elif 'kmpl' in value:\n",
    "            cars['Mileage'].iloc[i] = float(value.replace(' kmpl', '').strip())\n",
    "        else:\n",
    "            # If the format is invalid, set it to NaN\n",
    "            cars['Mileage'].iloc[i] = np.nan\n",
    "\n",
    "# 4. Convert to Numeric\n",
    "cars['Mileage'] = pd.to_numeric(cars['Mileage'], errors='coerce')\n",
    "\n",
    "cars['Mileage'].head()\n"
   ]
  },
  {
   "cell_type": "code",
   "execution_count": 75,
   "metadata": {},
   "outputs": [
    {
     "data": {
      "text/plain": [
       "array([ 23.1  ,  17.   ,  23.84 ,  19.1  ,  23.65 ,  17.1  ,  20.63 ,\n",
       "        18.15 ,  20.28 ,  21.4  ,  18.9  ,  18.2  ,  15.1  ,  21.27 ,\n",
       "        17.33 ,  17.8  ,  18.48 ,  22.38 ,  16.42 ,   7.81 ,  17.4  ,\n",
       "        20.3  ,  13.45 ,  15.   ,  17.11 ,  20.14 ,  20.51 ,  19.34 ,\n",
       "        12.6  ,  15.56 ,  11.5  ,  19.87 ,  18.6  ,  22.54 ,  16.3  ,\n",
       "        18.53 ,  22.05 ,  12.05 ,  16.5  ,  19.7  ,  11.3  ,  14.08 ,\n",
       "        12.07 ,  22.   ,  21.5  ,  15.3  ,  26.68 ,  21.14 ,  15.9  ,\n",
       "        19.67 ,  14.6  ,  28.4  ,  21.76 ,  26.21 ,  19.   ,  19.98 ,\n",
       "        18.5  ,  20.   ,  16.8  ,  17.2  ,  21.13 ,  24.   ,  25.32 ,\n",
       "        16.55 ,  19.2  ,  24.04 ,  27.03 ,  16.56 ,  19.4  ,  19.56 ,\n",
       "        20.92 ,  19.03 ,  21.1  ,  18.19 ,  17.41 ,  14.2  ,  19.81 ,\n",
       "        14.8  ,  16.   ,  18.4  ,  13.2  ,  14.1  ,  20.36 ,  13.24 ,\n",
       "        14.16 ,  24.39 ,  10.91 ,  18.16 ,  20.89 ,  18.1  ,  16.35 ,\n",
       "        15.97 ,  16.07 ,  16.38 ,  14.24 ,  17.9  ,  19.01 ,  25.2  ,\n",
       "        19.6  ,  18.   ,  17.21 ,  11.1  ,  11.4  ,  11.72 ,  13.32 ,\n",
       "        20.37 ,  24.3  ,  18.27 ,  20.45 ,  18.7  ,  22.41 ,  20.77 ,\n",
       "        15.63 ,  20.54 ,  21.19 ,  27.39 ,  17.92 ,  26.   ,  10.   ,\n",
       "        17.5  ,  11.18 ,  23.   ,  17.57 ,  14.21 ,  21.43 ,  20.65 ,\n",
       "        22.9  ,  14.5  ,  12.99 ,  19.12 ,  13.8  ,  13.38 ,  14.7  ,\n",
       "        16.36 ,  18.24 ,  21.56 ,  20.38 ,  23.7  ,  20.08 ,  10.9  ,\n",
       "        21.21 ,  15.43 ,  21.74 ,  23.95 ,  19.27 ,  15.4  ,  22.07 ,\n",
       "        20.85 ,  17.01 ,  14.11 ,  22.56 ,  20.5  ,  20.4  ,  20.73 ,\n",
       "        15.6  ,  14.67 ,  19.3  ,  14.71 ,  17.69 ,  13.6  ,  21.72 ,\n",
       "        12.51 ,  16.2  ,  13.   ,  17.74 ,  12.55 ,  12.8  ,  22.35 ,\n",
       "        22.77 ,  25.24 ,  17.7  ,  13.06 ,  12.3  ,  17.14 ,  21.03 ,\n",
       "        21.7  ,  23.2  ,  14.69 ,  22.5  ,  20.52 ,  21.46 ,  22.69 ,\n",
       "        22.32 ,  21.01 ,  24.4  ,  17.42 ,  18.56 ,  15.73 ,  17.68 ,\n",
       "        16.13 ,  13.79 ,  18.25 ,  18.3  ,  15.5  ,  15.17 ,  14.99 ,\n",
       "        11.9  ,  15.29 ,  16.09 ,  16.47 ,  20.09 ,  21.63 ,  15.26 ,\n",
       "        11.57 ,  17.03 ,  20.8  ,  17.19 ,  12.   ,  23.9  ,  20.04 ,\n",
       "       110.   ,  14.59 ,  14.   ,  18.45 ,  16.96 ,  12.65 ,  19.33 ,\n",
       "        19.65 ,  22.15 ,  25.   ,  14.82 ,  10.75 ,  21.73 ,   8.   ,\n",
       "        16.1  ,  20.68 ,  22.7  ,  11.36 ,  13.4  ,  18.49 ,  14.28 ,\n",
       "        17.88 ,  16.11 ,  20.7  ,  16.82 ,  17.3  ,  20.46 ,  12.35 ,\n",
       "        15.04 ,  18.75 ,  15.2  ,  18.12 ,  18.06 ,  11.7  ,  20.1  ,\n",
       "        22.74 ,  28.09 ,  17.67 ,  20.88 ,  26.11 ,  22.1  ,  13.5  ,\n",
       "        24.52 ,  20.25 ,  13.58 ,  10.54 ,  15.7  ,  19.64 , 140.   ,\n",
       "        13.68 ,  16.24 ,  26.59 ,  13.7  ,  17.6  ,  19.69 ,  15.41 ,\n",
       "        14.9  ,  17.52 ,  17.05 ,  24.7  ,  21.9  ,  25.4  ,  19.47 ,\n",
       "        21.66 ,  25.8  ,  10.5  ,  14.4  ,   9.   ,  19.09 ,  23.01 ,\n",
       "        22.25 ,  27.28 ,  21.64 ,  22.61 ,  15.8  ,  18.09 ,  19.28 ,\n",
       "        18.78 ,  11.74 ,   8.9  ,  15.85 ,  18.76 ,  16.95 ,  23.59 ,\n",
       "        14.84 ,  19.5  ,  21.   ,  15.96 ,  27.3  ,  18.88 ,  13.93 ,\n",
       "        14.74 ,  16.4  ,  16.28 ,  20.86 ,  18.07 ,  21.79 ,  16.6  ,\n",
       "        13.9  ,  26.1  ,  13.92 ,  18.55 ,  14.02 ,  31.59 ,  19.72 ,\n",
       "        14.57 ,  21.8  ,  15.37 ,  13.53 ,  14.53 ,  13.22 ,  25.5  ,\n",
       "        14.75 ,  16.46 ,  19.02 ,  18.41 ,  23.8  ,  14.3  ,  17.99 ,\n",
       "        15.81 ,  15.34 ,  19.08 ,  18.86 ,  19.49 ,  22.95 ,  25.17 ,\n",
       "        16.14 ,  17.09 ,  18.97 ,  12.08 ,  16.78 ,  19.23 ,   8.5  ,\n",
       "        25.6  ,  22.3  ,  18.72 ,  13.96 ,  16.65 ,  12.62 ,  19.44 ,\n",
       "        14.62 ,  23.64 ,  19.71 ,  13.17 ,  19.15 ,  23.56 ,  23.4  ,\n",
       "        19.62 ,  16.25 ,  27.62 ,  25.44 ,  20.71 ,   9.8  ,  13.14 ,\n",
       "        11.33 ,  25.19 ,  24.29 ,  19.16 ,  16.73 ,  19.83 ,  25.83 ,\n",
       "        12.2  ,  12.78 ,  14.49 ,  20.58 ,  24.35 ,  14.19 ,  12.7  ,\n",
       "        26.49 ,  16.98 ,  16.02 ,  18.05 ,  24.2  ,  15.64 ,  19.19 ,\n",
       "        13.01 ,  12.83 ,  11.24 ,  12.18 ,  18.8  ,  26.2  ,  23.08 ,\n",
       "        22.37 ,  16.9  ,  19.59 ,  14.85 ,  12.74 ,  28.   ,  12.4  ,\n",
       "        12.5  ,  14.025,  19.89 ,  30.48 ,  33.54 ,  19.61 ,  26.08 ,\n",
       "        12.1  ,  12.81 ,   9.2  ,  17.71 ,  16.34 ,  30.46 ,  32.52 ,\n",
       "        11.21 ,  16.39 ,  11.2  ,  12.04 ,  11.67 ,  16.12 ,  26.55 ,\n",
       "         7.08 ,  31.2  ,  12.33 ,  31.79 ,  11.   ,   8.13 ,  35.6  ,\n",
       "        16.72 ,  25.1  ,  22.48 ,  20.6  ,  14.01 ,  17.38 ,  12.34 ,\n",
       "        10.8  ,   9.26 ,  12.95 ,  12.9  ,  16.7  ,  15.68 ,  10.4  ,\n",
       "        20.15 ,  31.12 ,  26.8  ,  11.88 ,  18.69 ,  22.27 ,  15.01 ,\n",
       "        10.26 ,  19.39 ,  14.34 ,   8.45 ,  12.63 ,  26.6  ,  13.47 ,\n",
       "        10.13 ,  20.27 ,  14.09 ,  20.01 ,  14.47 ,  10.93 ,  26.83 ,\n",
       "        24.76 ,  21.11 ,  14.23 ,  26.82 ,  17.32 ,  25.3  ,  19.95 ,\n",
       "        21.12 ,  11.96 ,  21.02 ,  19.68 ,  18.23 ,  23.22 ,  17.97 ,\n",
       "        16.97 ,  13.33 ,  27.4  ,  26.5  ,  25.01 ,  17.43 ,  22.71 ,\n",
       "        20.34 ,  24.1  ,  30.47 ,  17.29 ,  21.49 ,  13.1  ,  18.43 ,\n",
       "        12.12 ,   9.74 ,  16.77 ,  19.17 ,  21.38 ,  23.57 ,  24.8  ,\n",
       "         7.94 ,  25.47 ,  18.33 ,   9.4  ,   7.5  ,  13.44 ,  14.94 ,\n",
       "        23.03 ,  15.39 ,  24.97 ,  34.05 ,  17.85 ,  27.97 ,  20.62 ,\n",
       "        15.15 ,  19.8  ,  14.95 ,  11.81 ,  12.98 ])"
      ]
     },
     "execution_count": 75,
     "metadata": {},
     "output_type": "execute_result"
    }
   ],
   "source": [
    "cars['Mileage'].unique()"
   ]
  },
  {
   "cell_type": "code",
   "execution_count": 59,
   "metadata": {},
   "outputs": [
    {
     "data": {
      "text/plain": [
       "np.int64(0)"
      ]
     },
     "execution_count": 59,
     "metadata": {},
     "output_type": "execute_result"
    }
   ],
   "source": [
    "cars['Mileage'].isna().sum()"
   ]
  },
  {
   "cell_type": "markdown",
   "metadata": {},
   "source": [
    "### drive type"
   ]
  },
  {
   "cell_type": "code",
   "execution_count": 44,
   "metadata": {},
   "outputs": [
    {
     "data": {
      "text/plain": [
       "np.int64(1560)"
      ]
     },
     "execution_count": 44,
     "metadata": {},
     "output_type": "execute_result"
    }
   ],
   "source": [
    "cars['Miscellaneous - Drive Type'].isna().sum()"
   ]
  },
  {
   "cell_type": "code",
   "execution_count": 44,
   "metadata": {},
   "outputs": [
    {
     "data": {
      "text/plain": [
       "array(['FWD', 'FWD ', '4X2', 'AWD', nan, 'RWD', '4x2', '2WD', '4WD',\n",
       "       '2 WD', 'Front Wheel Drive', 'Rear Wheel Drive with ESP', '4X4',\n",
       "       'Two Wheel Drive', '2WD ', 'All Wheel Drive', '4x4',\n",
       "       'AWD INTEGRATED MANAGEMENT', 'RWD(with MTT)',\n",
       "       'Permanent all-wheel drive quattro', '4 WD'], dtype=object)"
      ]
     },
     "execution_count": 44,
     "metadata": {},
     "output_type": "execute_result"
    }
   ],
   "source": [
    "cars['Miscellaneous - Drive Type'].unique()"
   ]
  },
  {
   "cell_type": "code",
   "execution_count": 45,
   "metadata": {},
   "outputs": [
    {
     "data": {
      "text/plain": [
       "0    FWD\n",
       "Name: Miscellaneous - Drive Type, dtype: object"
      ]
     },
     "execution_count": 45,
     "metadata": {},
     "output_type": "execute_result"
    }
   ],
   "source": [
    "cars['Miscellaneous - Drive Type'].mode()"
   ]
  },
  {
   "cell_type": "code",
   "execution_count": 46,
   "metadata": {},
   "outputs": [],
   "source": [
    "# Step 1: Define a mapping for DriveType\n",
    "mapping = {\n",
    "    'FWD': 'FWD',\n",
    "    'FWD ': 'FWD',\n",
    "    'Front Wheel Drive': 'FWD',\n",
    "    'RWD': 'RWD',\n",
    "    'RWD ': 'RWD',\n",
    "    'Rear Wheel Drive with ESP': 'RWD',\n",
    "    'RWD(with MTT)': 'RWD',\n",
    "    '4WD': '4WD',\n",
    "    '4x4': '4WD',\n",
    "    '4X4': '4WD',\n",
    "    '4x2': '4WD',\n",
    "    '4X2': '4WD',\n",
    "    '2WD': 'RWD',  # or use 'FWD' based on your preference\n",
    "    '2 WD': 'RWD',  # same as above\n",
    "    'Two Wheel Drive': 'RWD',  # same as above\n",
    "    'AWD': 'AWD',\n",
    "    'All Wheel Drive': 'AWD',\n",
    "    'AWD INTEGRATED MANAGEMENT': 'AWD',\n",
    "    'Permanent all-wheel drive quattro': 'AWD',\n",
    "    'Real Wheel Drive':'RWD',\n",
    "    '4 WD': '4WD',\n",
    "    None: None  # Keep NaN as is\n",
    "}\n",
    "\n",
    "# Step 2: Map the values using the defined mapping\n",
    "cars['Miscellaneous - Drive Type'] = cars['Miscellaneous - Drive Type'].map(mapping)\n",
    "\n"
   ]
  },
  {
   "cell_type": "code",
   "execution_count": 47,
   "metadata": {},
   "outputs": [
    {
     "name": "stderr",
     "output_type": "stream",
     "text": [
      "C:\\Users\\SAM\\AppData\\Local\\Temp\\ipykernel_9712\\1872384580.py:3: FutureWarning: A value is trying to be set on a copy of a DataFrame or Series through chained assignment using an inplace method.\n",
      "The behavior will change in pandas 3.0. This inplace method will never work because the intermediate object on which we are setting values always behaves as a copy.\n",
      "\n",
      "For example, when doing 'df[col].method(value, inplace=True)', try using 'df.method({col: value}, inplace=True)' or df[col] = df[col].method(value) instead, to perform the operation inplace on the original object.\n",
      "\n",
      "\n",
      "  cars['Miscellaneous - Drive Type'].fillna(mode_drive_type, inplace=True)\n"
     ]
    }
   ],
   "source": [
    "# Step 3: Handle missing values using the mode\n",
    "mode_drive_type = cars['Miscellaneous - Drive Type'].mode()[0]\n",
    "cars['Miscellaneous - Drive Type'].fillna(mode_drive_type, inplace=True)"
   ]
  },
  {
   "cell_type": "code",
   "execution_count": 50,
   "metadata": {},
   "outputs": [
    {
     "data": {
      "text/plain": [
       "array(['FWD', '4WD', 'AWD', 'RWD'], dtype=object)"
      ]
     },
     "execution_count": 50,
     "metadata": {},
     "output_type": "execute_result"
    }
   ],
   "source": [
    "cars['Miscellaneous - Drive Type'].unique()"
   ]
  },
  {
   "cell_type": "markdown",
   "metadata": {},
   "source": [
    "### model year"
   ]
  },
  {
   "cell_type": "code",
   "execution_count": 48,
   "metadata": {},
   "outputs": [
    {
     "data": {
      "text/plain": [
       "dtype('int64')"
      ]
     },
     "execution_count": 48,
     "metadata": {},
     "output_type": "execute_result"
    }
   ],
   "source": [
    "cars['modelYear'].dtype"
   ]
  },
  {
   "cell_type": "code",
   "execution_count": 49,
   "metadata": {},
   "outputs": [
    {
     "data": {
      "text/plain": [
       "np.int64(0)"
      ]
     },
     "execution_count": 49,
     "metadata": {},
     "output_type": "execute_result"
    }
   ],
   "source": [
    "cars['modelYear'].isna().sum()"
   ]
  },
  {
   "cell_type": "markdown",
   "metadata": {},
   "source": [
    "### fuel type"
   ]
  },
  {
   "cell_type": "code",
   "execution_count": 49,
   "metadata": {},
   "outputs": [
    {
     "data": {
      "text/plain": [
       "np.int64(0)"
      ]
     },
     "execution_count": 49,
     "metadata": {},
     "output_type": "execute_result"
    }
   ],
   "source": [
    "cars['ft'].isna().sum()"
   ]
  },
  {
   "cell_type": "markdown",
   "metadata": {},
   "source": [
    "### owner"
   ]
  },
  {
   "cell_type": "code",
   "execution_count": 51,
   "metadata": {},
   "outputs": [
    {
     "data": {
      "text/plain": [
       "np.int64(0)"
      ]
     },
     "execution_count": 51,
     "metadata": {},
     "output_type": "execute_result"
    }
   ],
   "source": [
    "cars['owner'].isna().sum()"
   ]
  },
  {
   "cell_type": "code",
   "execution_count": 52,
   "metadata": {},
   "outputs": [
    {
     "data": {
      "text/plain": [
       "array(['3rd Owner', '2nd Owner', '1st Owner', '4th Owner', '5th Owner',\n",
       "       '0th Owner'], dtype=object)"
      ]
     },
     "execution_count": 52,
     "metadata": {},
     "output_type": "execute_result"
    }
   ],
   "source": [
    "cars['owner'].unique()"
   ]
  },
  {
   "cell_type": "markdown",
   "metadata": {},
   "source": [
    "### transmission"
   ]
  },
  {
   "cell_type": "code",
   "execution_count": 53,
   "metadata": {},
   "outputs": [
    {
     "data": {
      "text/plain": [
       "np.int64(0)"
      ]
     },
     "execution_count": 53,
     "metadata": {},
     "output_type": "execute_result"
    }
   ],
   "source": [
    "cars['transmission'].isna().sum()"
   ]
  },
  {
   "cell_type": "code",
   "execution_count": 54,
   "metadata": {},
   "outputs": [
    {
     "data": {
      "text/plain": [
       "array(['Manual', 'Automatic'], dtype=object)"
      ]
     },
     "execution_count": 54,
     "metadata": {},
     "output_type": "execute_result"
    }
   ],
   "source": [
    "cars['transmission'].unique()"
   ]
  },
  {
   "cell_type": "markdown",
   "metadata": {},
   "source": [
    "### owner no"
   ]
  },
  {
   "cell_type": "code",
   "execution_count": 55,
   "metadata": {},
   "outputs": [
    {
     "data": {
      "text/plain": [
       "np.int64(0)"
      ]
     },
     "execution_count": 55,
     "metadata": {},
     "output_type": "execute_result"
    }
   ],
   "source": [
    "cars['ownerNo'].isna().sum()"
   ]
  },
  {
   "cell_type": "code",
   "execution_count": 56,
   "metadata": {},
   "outputs": [
    {
     "data": {
      "text/plain": [
       "array([3, 2, 1, 4, 5, 0])"
      ]
     },
     "execution_count": 56,
     "metadata": {},
     "output_type": "execute_result"
    }
   ],
   "source": [
    "cars['ownerNo'].unique()"
   ]
  },
  {
   "cell_type": "code",
   "execution_count": 57,
   "metadata": {},
   "outputs": [
    {
     "data": {
      "text/plain": [
       "array([False])"
      ]
     },
     "execution_count": 57,
     "metadata": {},
     "output_type": "execute_result"
    }
   ],
   "source": [
    "cars['model'].isna().unique()"
   ]
  },
  {
   "cell_type": "code",
   "execution_count": 58,
   "metadata": {},
   "outputs": [
    {
     "data": {
      "text/plain": [
       "array(['Maruti Celerio', 'Ford Ecosport', 'Tata Tiago', 'Hyundai Xcent',\n",
       "       'Maruti SX4 S Cross', 'Jeep Compass', 'Datsun GO', 'Hyundai Venue',\n",
       "       'Maruti Ciaz', 'Maruti Baleno', 'Hyundai Grand i10', 'Honda Jazz',\n",
       "       'Mahindra XUV500', 'Mercedes-Benz GLA', 'Hyundai i20',\n",
       "       'Tata Nexon', 'Honda City', 'BMW 5 Series', 'Maruti Swift',\n",
       "       'Renault Duster', 'Mercedes-Benz S-Class', 'Hyundai Santro',\n",
       "       'Hyundai Santro Xing', 'Mercedes-Benz E-Class', 'Audi A4',\n",
       "       'Maruti Wagon R', 'Maruti Ertiga', 'Mercedes-Benz C-Class',\n",
       "       'Toyota Fortuner', 'Hyundai Elantra', 'Audi A6', 'Maruti Alto 800',\n",
       "       'Mahindra Scorpio', 'Mini 3 DOOR', 'Kia Seltos', 'Maruti Alto',\n",
       "       'Mercedes-Benz GL-Class', 'Tata New Safari', 'Audi Q7',\n",
       "       'Renault KWID', 'Hyundai Getz', 'Skoda Rapid', 'Hyundai Creta',\n",
       "       'Tata Harrier', 'BMW 3 Series GT', 'Renault Lodgy',\n",
       "       'Skoda Octavia', 'Maruti Ritz', 'Volkswagen Polo',\n",
       "       'Mahindra KUV 100', 'BMW X3', 'Hyundai i10', 'Volvo S60',\n",
       "       'Mahindra XUV300', 'MG Hector Plus', 'Honda Brio',\n",
       "       'Maruti Alto K10', 'Renault Kiger', 'Hyundai EON',\n",
       "       'Volkswagen Vento', 'Toyota Yaris', 'MG Hector', 'Hyundai Alcazar',\n",
       "       'Volkswagen T-Roc', 'BMW 3 Series', 'Skoda Superb', 'Audi Q5',\n",
       "       'Ford Endeavour', 'Ford Figo', 'Maruti Ignis', 'Renault Triber',\n",
       "       'BMW X5', 'Hyundai Tucson', 'Hyundai Verna', 'Mercedes-Benz GLC',\n",
       "       'Nissan Terrano', 'Honda CR-V', 'Mercedes-Benz A-Class Limousine',\n",
       "       'Toyota Innova', 'Hyundai Santa Fe', 'BMW 6 Series',\n",
       "       'Maruti Baleno RS', 'Renault Captur', 'Maruti Vitara Brezza',\n",
       "       'Maruti Swift Dzire', 'Fiat Linea', 'Hyundai i20 Active',\n",
       "       'Honda WR-V', 'Mahindra Ssangyong Rexton', 'Toyota Corolla Altis',\n",
       "       'Ford Ikon', 'Mitsubishi Cedia', 'Jaguar XF', 'Audi A3',\n",
       "       'Skoda Kushaq', 'Volkswagen Taigun', 'MG Astor', 'Hyundai Accent',\n",
       "       'Mercedes-Benz B Class', 'Kia Carnival', 'Skoda Laura', 'BMW X4',\n",
       "       'Mini Cooper', 'Land Rover Discovery Sport', 'Volvo XC40',\n",
       "       'Kia Sonet', 'Mahindra Verito', 'Maruti S-Presso',\n",
       "       'Volkswagen Jetta', 'Datsun RediGO', 'Ford Aspire',\n",
       "       'Ford Freestyle', 'Audi Q3', 'Tata Tigor', 'Jaguar F-Pace',\n",
       "       'Mercedes-Benz A Class', 'Toyota Glanza', 'Nissan Magnite',\n",
       "       'Maruti Gypsy', 'Tata Safari Storme', 'Maruti Celerio X',\n",
       "       'Mercedes-Benz M-Class', 'Mercedes-Benz GLE',\n",
       "       'Toyota Urban cruiser', 'Mahindra Thar', 'Mercedes-Benz CLA',\n",
       "       'Mahindra e2o Plus', 'MG Comet EV', 'Maruti Omni',\n",
       "       'Volkswagen Tiguan', 'Tata Altroz', 'Tata Nexon EV Max',\n",
       "       'Tata Indica V2', 'Toyota Innova Crysta', 'Volkswagen Ameo',\n",
       "       'Tata Nexon EV Prime', 'BMW X1', 'Chevrolet Cruze', 'Toyota Camry',\n",
       "       'Fiat Punto Abarth', 'Mahindra TUV 300', 'Chevrolet Beat',\n",
       "       'Maruti Eeco', 'Maruti 1000', 'Citroen C5 Aircross',\n",
       "       'Mahindra XUV700', 'Hyundai Grand i10 Nios', 'Maruti Zen',\n",
       "       'Mahindra Quanto', 'Land Rover Freelander 2', 'OpelCorsa',\n",
       "       'Mahindra Xylo', 'Tata Zest', 'Honda New Accord', 'Skoda Yeti',\n",
       "       'Maruti SX4', 'Jaguar XE', 'Chevrolet Spark', 'Hyundai i20 N Line',\n",
       "       'Chevrolet Tavera', 'BMW X7', 'Mahindra Renault Logan',\n",
       "       'Citroen C3', 'Tata Nano', 'Honda Amaze',\n",
       "       'Mahindra Bolero Power Plus', 'Tata Manza', 'Maruti Esteem',\n",
       "       'Tata Hexa', 'Nissan Micra Active', 'Mitsubishi Lancer',\n",
       "       'Ford Fiesta', 'Mahindra Bolero Camper', 'Fiat Punto',\n",
       "       'Kia Carens', 'Chevrolet Enjoy', 'Volkswagen Tiguan Allspace',\n",
       "       'Skoda Slavia', 'Mahindra Marazzo', 'Tata Indigo', 'Jaguar XJ',\n",
       "       'Skoda Fabia', 'Tata Sumo', 'Ford Mondeo', 'Nissan Sunny',\n",
       "       'Fiat Palio', 'Toyota Etios', 'Maruti Estilo', 'Mahindra Bolero',\n",
       "       'Jeep Meridian', 'BMW 1 Series', 'Volvo XC 90',\n",
       "       'Audi A3 cabriolet', 'MG Gloster', 'Land Rover Range Rover Sport',\n",
       "       'Nissan Micra', 'Fiat Punto EVO', 'Mini Cooper Countryman',\n",
       "       'Renault Fluence', 'Maruti A-Star', 'Tata Nexon EV',\n",
       "       'Chevrolet Sail', 'BMW 7 Series', 'Maruti XL6', 'Hyundai Sonata',\n",
       "       'Honda Civic', 'Maruti Ertiga Tour', 'Mercedes-Benz GLS',\n",
       "       'Isuzu MU 7', 'Maruti 800', 'Hyundai Aura',\n",
       "       'BMW 3 Series Gran Limousine', 'Volvo S90', 'Tata Indica',\n",
       "       'Tata Punch', 'Honda BR-V', 'Mahindra Scorpio N', 'Skoda Kodiaq',\n",
       "       'Tata Tiago NRG', 'Datsun GO Plus', 'BMW 2 Series',\n",
       "       'Maruti Wagon R Stingray', 'Mini 5 DOOR', 'Fiat Grande Punto',\n",
       "       'Mahindra KUV 100 NXT', 'Mercedes-Benz GLA Class',\n",
       "       'Chevrolet Aveo', 'Land Rover Range Rover Velar', 'Toyota Hyryder',\n",
       "       'Maruti Zen Estilo', 'Toyota Etios Liva',\n",
       "       'Land Rover Range Rover Evoque', 'Maruti Versa', 'Isuzu MU-X',\n",
       "       'Fiat Punto Pure', 'Honda Mobilio', 'Chevrolet Optra',\n",
       "       'Volvo S 80', 'Mitsubishi Pajero', 'Audi A8', 'Volvo XC60',\n",
       "       'Mercedes-Benz AMG GLA 35', 'Mercedes-Benz AMG A 35',\n",
       "       'Volkswagen Virtus', 'Land Rover Discovery', 'Lexus ES', 'Audi Q2',\n",
       "       'Nissan Kicks', 'Mahindra TUV 300 Plus', 'Mini Cooper SE',\n",
       "       'Maruti Brezza', 'Jeep Wrangler', 'Toyota Etios Cross',\n",
       "       'Land Rover Defender', 'Mercedes-Benz GLC Coupe', 'Lexus RX',\n",
       "       'Mitsubishi Outlander', 'Mercedes-Benz CLS-Class', 'Maruti Jimny',\n",
       "       'Mini Cooper Clubman', 'Porsche Cayenne', 'Mercedes-Benz AMG G 63',\n",
       "       'Audi Q3 Sportback', 'Maruti Swift Dzire Tour', 'Porsche Macan',\n",
       "       'Mercedes-Benz G', 'Mini Cooper Convertible', 'Toyota Vellfire',\n",
       "       'Toyota Land Cruiser 300', 'Toyota Fortuner Legender',\n",
       "       'Mahindra Scorpio Classic', 'Mercedes-Benz SLC', 'Isuzu D-Max',\n",
       "       'Maruti Grand Vitara', 'Ford Fiesta Classic', 'Maruti FRONX',\n",
       "       'Maruti Celerio Tour 2018-2021', 'Mahindra Alturas G4',\n",
       "       'Mahindra Jeep', 'Toyota Qualis', 'Volkswagen Passat',\n",
       "       'Land Rover Range Rover', 'Fiat Avventura', 'Renault Scala',\n",
       "       'Honda City Hybrid', 'Tata Aria', 'Volvo V40', 'Tata Bolt',\n",
       "       'MG ZS EV', 'Mahindra E Verito', 'Hyundai Xcent Prime',\n",
       "       'Mercedes-Benz EQC', 'Fiat Abarth Avventura',\n",
       "       'Hindustan Motors Contessa', 'Mahindra Bolero Neo',\n",
       "       'Tata Yodha Pickup', 'Tata Indigo Marina', 'Chevrolet Captiva',\n",
       "       'Mahindra Bolero Pik Up Extra Long', 'Toyota Corolla',\n",
       "       'Volvo S60 Cross Country', 'Mercedes-Benz AMG GLC 43',\n",
       "       'Chevrolet Aveo U-VA', 'Hyundai Kona', 'Tata Tigor EV',\n",
       "       'Porsche 911', 'Renault Pulse', 'Volkswagen CrossPolo',\n",
       "       'Ambassador', 'Jeep Compass Trailhawk', 'Tata Sumo Victa',\n",
       "       'Porsche Panamera', 'Mercedes-Benz AMG GT', 'Audi S5 Sportback',\n",
       "       'Jaguar F-TYPE'], dtype=object)"
      ]
     },
     "execution_count": 58,
     "metadata": {},
     "output_type": "execute_result"
    }
   ],
   "source": [
    "cars['model'].unique()"
   ]
  },
  {
   "cell_type": "markdown",
   "metadata": {},
   "source": [
    "### Central Variant id"
   ]
  },
  {
   "cell_type": "code",
   "execution_count": 59,
   "metadata": {},
   "outputs": [
    {
     "data": {
      "text/plain": [
       "np.int64(0)"
      ]
     },
     "execution_count": 59,
     "metadata": {},
     "output_type": "execute_result"
    }
   ],
   "source": [
    "cars['centralVariantId'].isna().sum()"
   ]
  },
  {
   "cell_type": "code",
   "execution_count": 60,
   "metadata": {},
   "outputs": [
    {
     "data": {
      "text/plain": [
       "array([3979, 6087, 2983, ..., 8568, 9709, 4672])"
      ]
     },
     "execution_count": 60,
     "metadata": {},
     "output_type": "execute_result"
    }
   ],
   "source": [
    "cars['centralVariantId'].unique()"
   ]
  },
  {
   "cell_type": "markdown",
   "metadata": {},
   "source": [
    "### variant name"
   ]
  },
  {
   "cell_type": "code",
   "execution_count": 61,
   "metadata": {},
   "outputs": [
    {
     "data": {
      "text/plain": [
       "np.int64(0)"
      ]
     },
     "execution_count": 61,
     "metadata": {},
     "output_type": "execute_result"
    }
   ],
   "source": [
    "cars['variantName'].isna().sum()"
   ]
  },
  {
   "cell_type": "code",
   "execution_count": 62,
   "metadata": {},
   "outputs": [
    {
     "data": {
      "text/plain": [
       "array(['VXI', '1.5 Petrol Titanium BSIV', '1.2 Revotron XZ', ...,\n",
       "       'XZA Plus P Dark Edition AMT', 'X-Line DCT', 'C 200 CGI Elegance'],\n",
       "      dtype=object)"
      ]
     },
     "execution_count": 62,
     "metadata": {},
     "output_type": "execute_result"
    }
   ],
   "source": [
    "cars['variantName'].unique()"
   ]
  },
  {
   "cell_type": "code",
   "execution_count": 63,
   "metadata": {},
   "outputs": [
    {
     "data": {
      "text/plain": [
       "np.int64(0)"
      ]
     },
     "execution_count": 63,
     "metadata": {},
     "output_type": "execute_result"
    }
   ],
   "source": [
    "cars['city'].isna().sum()"
   ]
  },
  {
   "cell_type": "code",
   "execution_count": 64,
   "metadata": {},
   "outputs": [
    {
     "data": {
      "text/plain": [
       "array(['bangalore', 'chennai', 'delhi', 'hyderabad', 'jaipur', 'kolkata'],\n",
       "      dtype=object)"
      ]
     },
     "execution_count": 64,
     "metadata": {},
     "output_type": "execute_result"
    }
   ],
   "source": [
    "cars['city'].unique()"
   ]
  },
  {
   "cell_type": "markdown",
   "metadata": {},
   "source": [
    "### changing name of the headers"
   ]
  },
  {
   "cell_type": "code",
   "execution_count": 65,
   "metadata": {},
   "outputs": [],
   "source": [
    "cars['ft']=cars.rename(columns={\"ft\":\"fueltype\"},inplace=True)"
   ]
  },
  {
   "cell_type": "code",
   "execution_count": 66,
   "metadata": {},
   "outputs": [],
   "source": [
    "cars['km']=cars.rename(columns={\"km\":\"kilometer\"},inplace=True)"
   ]
  },
  {
   "cell_type": "code",
   "execution_count": 67,
   "metadata": {},
   "outputs": [],
   "source": [
    "cars['bt']=cars.rename(columns={\"bt\":\"bodytype\"},inplace=True)"
   ]
  },
  {
   "cell_type": "code",
   "execution_count": 68,
   "metadata": {},
   "outputs": [],
   "source": [
    "cars['Insurance Validity']=cars.rename(columns={\"Insurance Validity\":\"Insurance\"},inplace=True)"
   ]
  },
  {
   "cell_type": "code",
   "execution_count": 69,
   "metadata": {},
   "outputs": [],
   "source": [
    "cars['Engine and Transmission - Displacement']=cars.rename(columns={\"Engine and Transmission - Displacement\":\"engine_cc\"},inplace=True)"
   ]
  },
  {
   "cell_type": "code",
   "execution_count": 70,
   "metadata": {},
   "outputs": [],
   "source": [
    "cars['Miscellaneous - Gear Box']=cars.rename(columns={\"Miscellaneous - Gear Box\":\"gear_box\"},inplace=True)"
   ]
  },
  {
   "cell_type": "code",
   "execution_count": 71,
   "metadata": {},
   "outputs": [],
   "source": [
    "cars['Miscellaneous - Drive Type']=cars.rename(columns={\"Miscellaneous - Drive Type\":\"drivetype\"},inplace=True)"
   ]
  },
  {
   "cell_type": "code",
   "execution_count": 72,
   "metadata": {},
   "outputs": [],
   "source": [
    "final_columns = ['bodytype','Car_seats','modelYear','kilometer','fueltype','ownerNo',\n",
    "                   'transmission','price','Insurance','engine_cc',\n",
    "                   'oem','gear_box','Mileage','drivetype','city']"
   ]
  },
  {
   "cell_type": "code",
   "execution_count": 73,
   "metadata": {},
   "outputs": [],
   "source": [
    "final_cars = cars[final_columns]\n",
    "\n",
    "# Optionally, save this new DataFrame to a CSV file\n",
    "final_cars.to_csv('finalcar.csv', index=False)"
   ]
  },
  {
   "cell_type": "code",
   "execution_count": 74,
   "metadata": {},
   "outputs": [
    {
     "data": {
      "text/html": [
       "<div>\n",
       "<style scoped>\n",
       "    .dataframe tbody tr th:only-of-type {\n",
       "        vertical-align: middle;\n",
       "    }\n",
       "\n",
       "    .dataframe tbody tr th {\n",
       "        vertical-align: top;\n",
       "    }\n",
       "\n",
       "    .dataframe thead th {\n",
       "        text-align: right;\n",
       "    }\n",
       "</style>\n",
       "<table border=\"1\" class=\"dataframe\">\n",
       "  <thead>\n",
       "    <tr style=\"text-align: right;\">\n",
       "      <th></th>\n",
       "      <th>bodytype</th>\n",
       "      <th>Car_seats</th>\n",
       "      <th>modelYear</th>\n",
       "      <th>kilometer</th>\n",
       "      <th>fueltype</th>\n",
       "      <th>ownerNo</th>\n",
       "      <th>transmission</th>\n",
       "      <th>price</th>\n",
       "      <th>Insurance</th>\n",
       "      <th>engine_cc</th>\n",
       "      <th>oem</th>\n",
       "      <th>gear_box</th>\n",
       "      <th>Mileage</th>\n",
       "      <th>drivetype</th>\n",
       "      <th>city</th>\n",
       "    </tr>\n",
       "  </thead>\n",
       "  <tbody>\n",
       "    <tr>\n",
       "      <th>0</th>\n",
       "      <td>Hatchback</td>\n",
       "      <td>5.0</td>\n",
       "      <td>2015</td>\n",
       "      <td>120000</td>\n",
       "      <td>Petrol</td>\n",
       "      <td>3</td>\n",
       "      <td>Manual</td>\n",
       "      <td>400000</td>\n",
       "      <td>Third Party insurance</td>\n",
       "      <td>998.0</td>\n",
       "      <td>Maruti</td>\n",
       "      <td>5</td>\n",
       "      <td>23.10</td>\n",
       "      <td>FWD</td>\n",
       "      <td>bangalore</td>\n",
       "    </tr>\n",
       "    <tr>\n",
       "      <th>1</th>\n",
       "      <td>SUV</td>\n",
       "      <td>5.0</td>\n",
       "      <td>2018</td>\n",
       "      <td>32706</td>\n",
       "      <td>Petrol</td>\n",
       "      <td>2</td>\n",
       "      <td>Manual</td>\n",
       "      <td>811000</td>\n",
       "      <td>Comprehensive</td>\n",
       "      <td>1497.0</td>\n",
       "      <td>Ford</td>\n",
       "      <td>5</td>\n",
       "      <td>17.00</td>\n",
       "      <td>FWD</td>\n",
       "      <td>bangalore</td>\n",
       "    </tr>\n",
       "    <tr>\n",
       "      <th>2</th>\n",
       "      <td>Hatchback</td>\n",
       "      <td>5.0</td>\n",
       "      <td>2018</td>\n",
       "      <td>11949</td>\n",
       "      <td>Petrol</td>\n",
       "      <td>1</td>\n",
       "      <td>Manual</td>\n",
       "      <td>585000</td>\n",
       "      <td>Comprehensive</td>\n",
       "      <td>1199.0</td>\n",
       "      <td>Tata</td>\n",
       "      <td>5</td>\n",
       "      <td>23.84</td>\n",
       "      <td>FWD</td>\n",
       "      <td>bangalore</td>\n",
       "    </tr>\n",
       "    <tr>\n",
       "      <th>3</th>\n",
       "      <td>Sedan</td>\n",
       "      <td>5.0</td>\n",
       "      <td>2014</td>\n",
       "      <td>17794</td>\n",
       "      <td>Petrol</td>\n",
       "      <td>1</td>\n",
       "      <td>Manual</td>\n",
       "      <td>462000</td>\n",
       "      <td>Comprehensive</td>\n",
       "      <td>1197.0</td>\n",
       "      <td>Hyundai</td>\n",
       "      <td>5</td>\n",
       "      <td>19.10</td>\n",
       "      <td>FWD</td>\n",
       "      <td>bangalore</td>\n",
       "    </tr>\n",
       "    <tr>\n",
       "      <th>4</th>\n",
       "      <td>SUV</td>\n",
       "      <td>5.0</td>\n",
       "      <td>2015</td>\n",
       "      <td>60000</td>\n",
       "      <td>Diesel</td>\n",
       "      <td>1</td>\n",
       "      <td>Manual</td>\n",
       "      <td>790000</td>\n",
       "      <td>Third Party insurance</td>\n",
       "      <td>1248.0</td>\n",
       "      <td>Maruti</td>\n",
       "      <td>5</td>\n",
       "      <td>23.65</td>\n",
       "      <td>FWD</td>\n",
       "      <td>bangalore</td>\n",
       "    </tr>\n",
       "    <tr>\n",
       "      <th>...</th>\n",
       "      <td>...</td>\n",
       "      <td>...</td>\n",
       "      <td>...</td>\n",
       "      <td>...</td>\n",
       "      <td>...</td>\n",
       "      <td>...</td>\n",
       "      <td>...</td>\n",
       "      <td>...</td>\n",
       "      <td>...</td>\n",
       "      <td>...</td>\n",
       "      <td>...</td>\n",
       "      <td>...</td>\n",
       "      <td>...</td>\n",
       "      <td>...</td>\n",
       "      <td>...</td>\n",
       "    </tr>\n",
       "    <tr>\n",
       "      <th>8364</th>\n",
       "      <td>Hatchback</td>\n",
       "      <td>5.0</td>\n",
       "      <td>2022</td>\n",
       "      <td>10000</td>\n",
       "      <td>Petrol</td>\n",
       "      <td>1</td>\n",
       "      <td>Manual</td>\n",
       "      <td>509999</td>\n",
       "      <td>Third Party insurance</td>\n",
       "      <td>998.0</td>\n",
       "      <td>Maruti</td>\n",
       "      <td>5</td>\n",
       "      <td>25.24</td>\n",
       "      <td>FWD</td>\n",
       "      <td>kolkata</td>\n",
       "    </tr>\n",
       "    <tr>\n",
       "      <th>8365</th>\n",
       "      <td>Hatchback</td>\n",
       "      <td>5.0</td>\n",
       "      <td>2014</td>\n",
       "      <td>120000</td>\n",
       "      <td>Petrol</td>\n",
       "      <td>1</td>\n",
       "      <td>Manual</td>\n",
       "      <td>180000</td>\n",
       "      <td>Third Party insurance</td>\n",
       "      <td>796.0</td>\n",
       "      <td>Maruti</td>\n",
       "      <td>5</td>\n",
       "      <td>22.74</td>\n",
       "      <td>FWD</td>\n",
       "      <td>kolkata</td>\n",
       "    </tr>\n",
       "    <tr>\n",
       "      <th>8366</th>\n",
       "      <td>Sedan</td>\n",
       "      <td>5.0</td>\n",
       "      <td>2011</td>\n",
       "      <td>50000</td>\n",
       "      <td>Petrol</td>\n",
       "      <td>3</td>\n",
       "      <td>Automatic</td>\n",
       "      <td>550000</td>\n",
       "      <td>Third Party insurance</td>\n",
       "      <td>1796.0</td>\n",
       "      <td>Mercedes-Benz</td>\n",
       "      <td>7</td>\n",
       "      <td>11.74</td>\n",
       "      <td>RWD</td>\n",
       "      <td>kolkata</td>\n",
       "    </tr>\n",
       "    <tr>\n",
       "      <th>8367</th>\n",
       "      <td>Hatchback</td>\n",
       "      <td>5.0</td>\n",
       "      <td>2012</td>\n",
       "      <td>40000</td>\n",
       "      <td>Petrol</td>\n",
       "      <td>1</td>\n",
       "      <td>Manual</td>\n",
       "      <td>140000</td>\n",
       "      <td>Third Party insurance</td>\n",
       "      <td>1197.0</td>\n",
       "      <td>Maruti</td>\n",
       "      <td>5</td>\n",
       "      <td>18.50</td>\n",
       "      <td>FWD</td>\n",
       "      <td>kolkata</td>\n",
       "    </tr>\n",
       "    <tr>\n",
       "      <th>8368</th>\n",
       "      <td>SUV</td>\n",
       "      <td>5.0</td>\n",
       "      <td>2017</td>\n",
       "      <td>120000</td>\n",
       "      <td>Diesel</td>\n",
       "      <td>2</td>\n",
       "      <td>Manual</td>\n",
       "      <td>500000</td>\n",
       "      <td>Third Party insurance</td>\n",
       "      <td>1461.0</td>\n",
       "      <td>Renault</td>\n",
       "      <td>6</td>\n",
       "      <td>19.72</td>\n",
       "      <td>AWD</td>\n",
       "      <td>kolkata</td>\n",
       "    </tr>\n",
       "  </tbody>\n",
       "</table>\n",
       "<p>8369 rows × 15 columns</p>\n",
       "</div>"
      ],
      "text/plain": [
       "       bodytype  Car_seats  modelYear  kilometer fueltype  ownerNo  \\\n",
       "0     Hatchback        5.0       2015     120000   Petrol        3   \n",
       "1           SUV        5.0       2018      32706   Petrol        2   \n",
       "2     Hatchback        5.0       2018      11949   Petrol        1   \n",
       "3         Sedan        5.0       2014      17794   Petrol        1   \n",
       "4           SUV        5.0       2015      60000   Diesel        1   \n",
       "...         ...        ...        ...        ...      ...      ...   \n",
       "8364  Hatchback        5.0       2022      10000   Petrol        1   \n",
       "8365  Hatchback        5.0       2014     120000   Petrol        1   \n",
       "8366      Sedan        5.0       2011      50000   Petrol        3   \n",
       "8367  Hatchback        5.0       2012      40000   Petrol        1   \n",
       "8368        SUV        5.0       2017     120000   Diesel        2   \n",
       "\n",
       "     transmission   price              Insurance  engine_cc            oem  \\\n",
       "0          Manual  400000  Third Party insurance      998.0         Maruti   \n",
       "1          Manual  811000          Comprehensive     1497.0           Ford   \n",
       "2          Manual  585000          Comprehensive     1199.0           Tata   \n",
       "3          Manual  462000          Comprehensive     1197.0        Hyundai   \n",
       "4          Manual  790000  Third Party insurance     1248.0         Maruti   \n",
       "...           ...     ...                    ...        ...            ...   \n",
       "8364       Manual  509999  Third Party insurance      998.0         Maruti   \n",
       "8365       Manual  180000  Third Party insurance      796.0         Maruti   \n",
       "8366    Automatic  550000  Third Party insurance     1796.0  Mercedes-Benz   \n",
       "8367       Manual  140000  Third Party insurance     1197.0         Maruti   \n",
       "8368       Manual  500000  Third Party insurance     1461.0        Renault   \n",
       "\n",
       "      gear_box  Mileage drivetype       city  \n",
       "0            5    23.10       FWD  bangalore  \n",
       "1            5    17.00       FWD  bangalore  \n",
       "2            5    23.84       FWD  bangalore  \n",
       "3            5    19.10       FWD  bangalore  \n",
       "4            5    23.65       FWD  bangalore  \n",
       "...        ...      ...       ...        ...  \n",
       "8364         5    25.24       FWD    kolkata  \n",
       "8365         5    22.74       FWD    kolkata  \n",
       "8366         7    11.74       RWD    kolkata  \n",
       "8367         5    18.50       FWD    kolkata  \n",
       "8368         6    19.72       AWD    kolkata  \n",
       "\n",
       "[8369 rows x 15 columns]"
      ]
     },
     "execution_count": 74,
     "metadata": {},
     "output_type": "execute_result"
    }
   ],
   "source": [
    "final_cars"
   ]
  },
  {
   "cell_type": "code",
   "execution_count": 75,
   "metadata": {},
   "outputs": [
    {
     "name": "stdout",
     "output_type": "stream",
     "text": [
      "<class 'pandas.core.frame.DataFrame'>\n",
      "RangeIndex: 8369 entries, 0 to 8368\n",
      "Data columns (total 15 columns):\n",
      " #   Column        Non-Null Count  Dtype  \n",
      "---  ------        --------------  -----  \n",
      " 0   bodytype      8369 non-null   object \n",
      " 1   Car_seats     8369 non-null   float64\n",
      " 2   modelYear     8369 non-null   int64  \n",
      " 3   kilometer     8369 non-null   int64  \n",
      " 4   fueltype      8369 non-null   object \n",
      " 5   ownerNo       8369 non-null   int64  \n",
      " 6   transmission  8369 non-null   object \n",
      " 7   price         8369 non-null   int64  \n",
      " 8   Insurance     8369 non-null   object \n",
      " 9   engine_cc     8369 non-null   float64\n",
      " 10  oem           8369 non-null   object \n",
      " 11  gear_box      8369 non-null   int64  \n",
      " 12  Mileage       8369 non-null   float64\n",
      " 13  drivetype     8369 non-null   object \n",
      " 14  city          8369 non-null   object \n",
      "dtypes: float64(3), int64(5), object(7)\n",
      "memory usage: 980.9+ KB\n"
     ]
    }
   ],
   "source": [
    "final_cars.info()"
   ]
  }
 ],
 "metadata": {
  "kernelspec": {
   "display_name": "Python 3",
   "language": "python",
   "name": "python3"
  },
  "language_info": {
   "codemirror_mode": {
    "name": "ipython",
    "version": 3
   },
   "file_extension": ".py",
   "mimetype": "text/x-python",
   "name": "python",
   "nbconvert_exporter": "python",
   "pygments_lexer": "ipython3",
   "version": "3.12.4"
  }
 },
 "nbformat": 4,
 "nbformat_minor": 2
}
